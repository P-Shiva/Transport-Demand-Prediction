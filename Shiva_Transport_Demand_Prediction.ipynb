{
  "nbformat": 4,
  "nbformat_minor": 0,
  "metadata": {
    "colab": {
      "provenance": [],
      "mount_file_id": "1eOTtL9vsZLIRgrWQYbZi7-ZEKwf7kV5j",
      "authorship_tag": "ABX9TyN6YdK2cgJzDzs0Y3pBUgZZ",
      "include_colab_link": true
    },
    "kernelspec": {
      "name": "python3",
      "display_name": "Python 3"
    },
    "language_info": {
      "name": "python"
    }
  },
  "cells": [
    {
      "cell_type": "markdown",
      "metadata": {
        "id": "view-in-github",
        "colab_type": "text"
      },
      "source": [
        "<a href=\"https://colab.research.google.com/github/P-Shiva/Transport-Demand-Prediction/blob/main/Shiva_Transport_Demand_Prediction.ipynb\" target=\"_parent\"><img src=\"https://colab.research.google.com/assets/colab-badge.svg\" alt=\"Open In Colab\"/></a>"
      ]
    },
    {
      "cell_type": "markdown",
      "source": [
        "# Problem Description\n",
        "\n",
        "We are a group of 5 people (Ashutosh Kumar Singh, Roja Rahman, Shiva Nagender, Simran Kumari and Vinay Kiran) from Cohort Durban. This challenge asks to build a model that predicts the number of seats that Mobiticket can expect to sell for each ride, i.e. for a specific route on a specific date and time. There are 14 routes in this dataset. All of the routes end in Nairobi and originate in towns to the North-West of Nairobi towards Lake Victoria.\n",
        "\n",
        "### The towns from which these routes originate are:\n",
        "\n",
        "* Awendo \n",
        "* Homa Bay\n",
        "* Kehancha\n",
        "* Kendu Bay\n",
        "* Keroka\n",
        "* Keumbu\n",
        "* Kijauri\n",
        "* Kisii\n",
        "* Mbita\n",
        "* Migori\n",
        "* Ndhiwa\n",
        "* Nyachenge\n",
        "* Oyugis\n",
        "* Rodi\n",
        "* Rongo\n",
        "* Sirare\n",
        "* Sori\n",
        "\n",
        "The routes from these 14 origins to the first stop in the outskirts of Nairobi takes approximately 8 to 9 hours from time of departure. From the first stop in the outskirts of Nairobi into the main bus terminal, where most passengers get off, in Central Business District, takes another 2 to 3 hours depending on traffic.\n",
        "\n",
        "## The three stops that all these routes make in Nairobi (in order) are:\n",
        "\n",
        "1. Kawangware: the first stop in the outskirts of Nairobi\n",
        "2. Westlands\n",
        "3. Afya Centre: the main bus terminal where most passengers disembark\n",
        "\n",
        "### All of these points are mapped here.\n",
        "\n",
        "Passengers of these bus (or shuttle) rides are affected by Nairobi traffic not only during their ride into the city, but from there they must continue their journey to their final destination in Nairobi wherever that may be. Traffic can act as a deterrent for those who have the option to avoid buses that arrive in Nairobi during peak traffic hours. On the other hand, traffic may be an indication for people’s movement patterns, reflecting business hours, cultural events, political events and holidays.\n",
        "\n"
      ],
      "metadata": {
        "id": "0fFwa-qSMZ7D"
      }
    },
    {
      "cell_type": "markdown",
      "source": [
        "# Project Type - Regression\n",
        "##Contribution - Team\n",
        "* Team Member 1 - Ashutosh Kumar Singh\n",
        "* Team Member 2 - Roja Rahman\n",
        "* Team Member 3 - Shiva Nagender\n",
        "* Team Member 4 - Simran Kumari\n",
        "* Team Member 5 - Vinay Kiran\n",
        "\n"
      ],
      "metadata": {
        "id": "hg6mlpUEf28p"
      }
    },
    {
      "cell_type": "markdown",
      "source": [
        "### Github Link: \n",
        "https://github.com/P-Shiva/Transport-Demand-Prediction/blob/main/Shiva_Transport_Demand_Prediction.ipynb"
      ],
      "metadata": {
        "id": "lLK7nZeeviN5"
      }
    },
    {
      "cell_type": "markdown",
      "source": [
        "# Data Description\n",
        "\n",
        "Nairobi Transport Data.csv (zipped) is the dataset of tickets purchased from Mobiticket for the 14 routes from “up country” into Nairobi between 17 October 2017 and 20 April 2018. This dataset includes the variables: ride_id, seat_number, payment_method, payment_receipt, travel_date, travel_time, travel_from, travel_to, car_type, max_capacity.\n",
        "\n",
        "Uber Movement traffic data can be accessed here. Data is available for Nairobi through June 2018. Uber Movement provided historic hourly travel time between any two points in Nairobi. Any tables that are extracted from the Uber Movement platform can be used in your model.\n",
        "\n",
        "### Variables description:\n",
        "\n",
        "* ride_id: unique ID of a vehicle on a specific route on a specific day and time.\n",
        "* seat_number: seat assigned to ticket\n",
        "payment_method: method used by customer to purchase ticket from Mobiticket (cash or Mpesa)\n",
        "* payment_receipt: unique id number for ticket purchased from Mobiticket\n",
        "travel_date: date of ride departure. (MM/DD/YYYY)\n",
        "* travel_time: scheduled departure time of ride. Rides generally depart on time. (hh:mm)\n",
        "* travel_from: town from which ride originated\n",
        "* travel_to: destination of ride. All rides are to Nairobi.\n",
        "* car_type: vehicle type (shuttle or bus)\n",
        "* max_capacity: number of seats on the vehicle"
      ],
      "metadata": {
        "id": "eUASH5Cff7XE"
      }
    },
    {
      "cell_type": "markdown",
      "source": [
        "# Let's Begin!"
      ],
      "metadata": {
        "id": "leEIuW6CfDgr"
      }
    },
    {
      "cell_type": "code",
      "source": [
        "from google.colab import drive \n",
        "drive.mount('/content/drive')"
      ],
      "metadata": {
        "colab": {
          "base_uri": "https://localhost:8080/"
        },
        "id": "uA0h-S77O9tG",
        "outputId": "e790fd1e-0286-4664-c3d0-d05a462cc864"
      },
      "execution_count": 112,
      "outputs": [
        {
          "output_type": "stream",
          "name": "stdout",
          "text": [
            "Drive already mounted at /content/drive; to attempt to forcibly remount, call drive.mount(\"/content/drive\", force_remount=True).\n"
          ]
        }
      ]
    },
    {
      "cell_type": "markdown",
      "source": [
        "# Importing Essential Libraries"
      ],
      "metadata": {
        "id": "umTewTHdfMO8"
      }
    },
    {
      "cell_type": "code",
      "source": [
        "import pandas as pd\n",
        "import numpy as np\n",
        "import matplotlib.pyplot as plt\n",
        "import seaborn as sns\n",
        "%matplotlib inline\n",
        "import datetime"
      ],
      "metadata": {
        "id": "vm28jMCOP_V5"
      },
      "execution_count": 113,
      "outputs": []
    },
    {
      "cell_type": "code",
      "source": [
        "dataset = pd.read_csv('/content/drive/MyDrive/Nairobi Transport Data.zip')"
      ],
      "metadata": {
        "id": "KxKvNXXIQaEg"
      },
      "execution_count": 114,
      "outputs": []
    },
    {
      "cell_type": "code",
      "source": [
        "dataset.head()"
      ],
      "metadata": {
        "colab": {
          "base_uri": "https://localhost:8080/",
          "height": 206
        },
        "id": "C7fK91bRQqeL",
        "outputId": "a9357f52-9ade-4fb2-adbc-37a88ae4cf3d"
      },
      "execution_count": 115,
      "outputs": [
        {
          "output_type": "execute_result",
          "data": {
            "text/plain": [
              "   ride_id seat_number payment_method payment_receipt travel_date travel_time  \\\n",
              "0     1442         15A          Mpesa      UZUEHCBUSO    17-10-17        7:15   \n",
              "1     5437         14A          Mpesa      TIHLBUSGTE    19-11-17        7:12   \n",
              "2     5710          8B          Mpesa      EQX8Q5G19O    26-11-17        7:05   \n",
              "3     5777         19A          Mpesa      SGP18CL0ME    27-11-17        7:10   \n",
              "4     5778         11A          Mpesa      BM97HFRGL9    27-11-17        7:12   \n",
              "\n",
              "  travel_from travel_to car_type  max_capacity  \n",
              "0      Migori   Nairobi      Bus            49  \n",
              "1      Migori   Nairobi      Bus            49  \n",
              "2      Keroka   Nairobi      Bus            49  \n",
              "3    Homa Bay   Nairobi      Bus            49  \n",
              "4      Migori   Nairobi      Bus            49  "
            ],
            "text/html": [
              "\n",
              "  <div id=\"df-add1edd0-0c68-409d-8e9d-76230431564d\">\n",
              "    <div class=\"colab-df-container\">\n",
              "      <div>\n",
              "<style scoped>\n",
              "    .dataframe tbody tr th:only-of-type {\n",
              "        vertical-align: middle;\n",
              "    }\n",
              "\n",
              "    .dataframe tbody tr th {\n",
              "        vertical-align: top;\n",
              "    }\n",
              "\n",
              "    .dataframe thead th {\n",
              "        text-align: right;\n",
              "    }\n",
              "</style>\n",
              "<table border=\"1\" class=\"dataframe\">\n",
              "  <thead>\n",
              "    <tr style=\"text-align: right;\">\n",
              "      <th></th>\n",
              "      <th>ride_id</th>\n",
              "      <th>seat_number</th>\n",
              "      <th>payment_method</th>\n",
              "      <th>payment_receipt</th>\n",
              "      <th>travel_date</th>\n",
              "      <th>travel_time</th>\n",
              "      <th>travel_from</th>\n",
              "      <th>travel_to</th>\n",
              "      <th>car_type</th>\n",
              "      <th>max_capacity</th>\n",
              "    </tr>\n",
              "  </thead>\n",
              "  <tbody>\n",
              "    <tr>\n",
              "      <th>0</th>\n",
              "      <td>1442</td>\n",
              "      <td>15A</td>\n",
              "      <td>Mpesa</td>\n",
              "      <td>UZUEHCBUSO</td>\n",
              "      <td>17-10-17</td>\n",
              "      <td>7:15</td>\n",
              "      <td>Migori</td>\n",
              "      <td>Nairobi</td>\n",
              "      <td>Bus</td>\n",
              "      <td>49</td>\n",
              "    </tr>\n",
              "    <tr>\n",
              "      <th>1</th>\n",
              "      <td>5437</td>\n",
              "      <td>14A</td>\n",
              "      <td>Mpesa</td>\n",
              "      <td>TIHLBUSGTE</td>\n",
              "      <td>19-11-17</td>\n",
              "      <td>7:12</td>\n",
              "      <td>Migori</td>\n",
              "      <td>Nairobi</td>\n",
              "      <td>Bus</td>\n",
              "      <td>49</td>\n",
              "    </tr>\n",
              "    <tr>\n",
              "      <th>2</th>\n",
              "      <td>5710</td>\n",
              "      <td>8B</td>\n",
              "      <td>Mpesa</td>\n",
              "      <td>EQX8Q5G19O</td>\n",
              "      <td>26-11-17</td>\n",
              "      <td>7:05</td>\n",
              "      <td>Keroka</td>\n",
              "      <td>Nairobi</td>\n",
              "      <td>Bus</td>\n",
              "      <td>49</td>\n",
              "    </tr>\n",
              "    <tr>\n",
              "      <th>3</th>\n",
              "      <td>5777</td>\n",
              "      <td>19A</td>\n",
              "      <td>Mpesa</td>\n",
              "      <td>SGP18CL0ME</td>\n",
              "      <td>27-11-17</td>\n",
              "      <td>7:10</td>\n",
              "      <td>Homa Bay</td>\n",
              "      <td>Nairobi</td>\n",
              "      <td>Bus</td>\n",
              "      <td>49</td>\n",
              "    </tr>\n",
              "    <tr>\n",
              "      <th>4</th>\n",
              "      <td>5778</td>\n",
              "      <td>11A</td>\n",
              "      <td>Mpesa</td>\n",
              "      <td>BM97HFRGL9</td>\n",
              "      <td>27-11-17</td>\n",
              "      <td>7:12</td>\n",
              "      <td>Migori</td>\n",
              "      <td>Nairobi</td>\n",
              "      <td>Bus</td>\n",
              "      <td>49</td>\n",
              "    </tr>\n",
              "  </tbody>\n",
              "</table>\n",
              "</div>\n",
              "      <button class=\"colab-df-convert\" onclick=\"convertToInteractive('df-add1edd0-0c68-409d-8e9d-76230431564d')\"\n",
              "              title=\"Convert this dataframe to an interactive table.\"\n",
              "              style=\"display:none;\">\n",
              "        \n",
              "  <svg xmlns=\"http://www.w3.org/2000/svg\" height=\"24px\"viewBox=\"0 0 24 24\"\n",
              "       width=\"24px\">\n",
              "    <path d=\"M0 0h24v24H0V0z\" fill=\"none\"/>\n",
              "    <path d=\"M18.56 5.44l.94 2.06.94-2.06 2.06-.94-2.06-.94-.94-2.06-.94 2.06-2.06.94zm-11 1L8.5 8.5l.94-2.06 2.06-.94-2.06-.94L8.5 2.5l-.94 2.06-2.06.94zm10 10l.94 2.06.94-2.06 2.06-.94-2.06-.94-.94-2.06-.94 2.06-2.06.94z\"/><path d=\"M17.41 7.96l-1.37-1.37c-.4-.4-.92-.59-1.43-.59-.52 0-1.04.2-1.43.59L10.3 9.45l-7.72 7.72c-.78.78-.78 2.05 0 2.83L4 21.41c.39.39.9.59 1.41.59.51 0 1.02-.2 1.41-.59l7.78-7.78 2.81-2.81c.8-.78.8-2.07 0-2.86zM5.41 20L4 18.59l7.72-7.72 1.47 1.35L5.41 20z\"/>\n",
              "  </svg>\n",
              "      </button>\n",
              "      \n",
              "  <style>\n",
              "    .colab-df-container {\n",
              "      display:flex;\n",
              "      flex-wrap:wrap;\n",
              "      gap: 12px;\n",
              "    }\n",
              "\n",
              "    .colab-df-convert {\n",
              "      background-color: #E8F0FE;\n",
              "      border: none;\n",
              "      border-radius: 50%;\n",
              "      cursor: pointer;\n",
              "      display: none;\n",
              "      fill: #1967D2;\n",
              "      height: 32px;\n",
              "      padding: 0 0 0 0;\n",
              "      width: 32px;\n",
              "    }\n",
              "\n",
              "    .colab-df-convert:hover {\n",
              "      background-color: #E2EBFA;\n",
              "      box-shadow: 0px 1px 2px rgba(60, 64, 67, 0.3), 0px 1px 3px 1px rgba(60, 64, 67, 0.15);\n",
              "      fill: #174EA6;\n",
              "    }\n",
              "\n",
              "    [theme=dark] .colab-df-convert {\n",
              "      background-color: #3B4455;\n",
              "      fill: #D2E3FC;\n",
              "    }\n",
              "\n",
              "    [theme=dark] .colab-df-convert:hover {\n",
              "      background-color: #434B5C;\n",
              "      box-shadow: 0px 1px 3px 1px rgba(0, 0, 0, 0.15);\n",
              "      filter: drop-shadow(0px 1px 2px rgba(0, 0, 0, 0.3));\n",
              "      fill: #FFFFFF;\n",
              "    }\n",
              "  </style>\n",
              "\n",
              "      <script>\n",
              "        const buttonEl =\n",
              "          document.querySelector('#df-add1edd0-0c68-409d-8e9d-76230431564d button.colab-df-convert');\n",
              "        buttonEl.style.display =\n",
              "          google.colab.kernel.accessAllowed ? 'block' : 'none';\n",
              "\n",
              "        async function convertToInteractive(key) {\n",
              "          const element = document.querySelector('#df-add1edd0-0c68-409d-8e9d-76230431564d');\n",
              "          const dataTable =\n",
              "            await google.colab.kernel.invokeFunction('convertToInteractive',\n",
              "                                                     [key], {});\n",
              "          if (!dataTable) return;\n",
              "\n",
              "          const docLinkHtml = 'Like what you see? Visit the ' +\n",
              "            '<a target=\"_blank\" href=https://colab.research.google.com/notebooks/data_table.ipynb>data table notebook</a>'\n",
              "            + ' to learn more about interactive tables.';\n",
              "          element.innerHTML = '';\n",
              "          dataTable['output_type'] = 'display_data';\n",
              "          await google.colab.output.renderOutput(dataTable, element);\n",
              "          const docLink = document.createElement('div');\n",
              "          docLink.innerHTML = docLinkHtml;\n",
              "          element.appendChild(docLink);\n",
              "        }\n",
              "      </script>\n",
              "    </div>\n",
              "  </div>\n",
              "  "
            ]
          },
          "metadata": {},
          "execution_count": 115
        }
      ]
    },
    {
      "cell_type": "code",
      "source": [
        "dataset.tail()"
      ],
      "metadata": {
        "colab": {
          "base_uri": "https://localhost:8080/",
          "height": 206
        },
        "id": "fafIVs2zQq-6",
        "outputId": "e5489231-6705-4dc2-843c-8a3d1988dd8a"
      },
      "execution_count": 116,
      "outputs": [
        {
          "output_type": "execute_result",
          "data": {
            "text/plain": [
              "       ride_id seat_number payment_method payment_receipt travel_date  \\\n",
              "51640    13826          9B          Mpesa      8V2XDDZR6V    20-04-18   \n",
              "51641    13809         18A          Mpesa      4PEBSVJSNK    20-04-18   \n",
              "51642    13809         17A          Mpesa      LVN64LZDNN    20-04-18   \n",
              "51643    13796         16B          Mpesa      REYBSKTYWN    20-04-18   \n",
              "51644    14304           7          Mpesa      AQN7FBUSGP    14-11-17   \n",
              "\n",
              "      travel_time travel_from travel_to car_type  max_capacity  \n",
              "51640        8:00      Awendo   Nairobi      Bus            49  \n",
              "51641        8:00      Migori   Nairobi      Bus            49  \n",
              "51642        8:00      Migori   Nairobi      Bus            49  \n",
              "51643        7:08      Awendo   Nairobi      Bus            49  \n",
              "51644        5:10       Kisii   Nairobi      Bus            49  "
            ],
            "text/html": [
              "\n",
              "  <div id=\"df-d1116a11-c349-4855-a2b6-84d70d1fa114\">\n",
              "    <div class=\"colab-df-container\">\n",
              "      <div>\n",
              "<style scoped>\n",
              "    .dataframe tbody tr th:only-of-type {\n",
              "        vertical-align: middle;\n",
              "    }\n",
              "\n",
              "    .dataframe tbody tr th {\n",
              "        vertical-align: top;\n",
              "    }\n",
              "\n",
              "    .dataframe thead th {\n",
              "        text-align: right;\n",
              "    }\n",
              "</style>\n",
              "<table border=\"1\" class=\"dataframe\">\n",
              "  <thead>\n",
              "    <tr style=\"text-align: right;\">\n",
              "      <th></th>\n",
              "      <th>ride_id</th>\n",
              "      <th>seat_number</th>\n",
              "      <th>payment_method</th>\n",
              "      <th>payment_receipt</th>\n",
              "      <th>travel_date</th>\n",
              "      <th>travel_time</th>\n",
              "      <th>travel_from</th>\n",
              "      <th>travel_to</th>\n",
              "      <th>car_type</th>\n",
              "      <th>max_capacity</th>\n",
              "    </tr>\n",
              "  </thead>\n",
              "  <tbody>\n",
              "    <tr>\n",
              "      <th>51640</th>\n",
              "      <td>13826</td>\n",
              "      <td>9B</td>\n",
              "      <td>Mpesa</td>\n",
              "      <td>8V2XDDZR6V</td>\n",
              "      <td>20-04-18</td>\n",
              "      <td>8:00</td>\n",
              "      <td>Awendo</td>\n",
              "      <td>Nairobi</td>\n",
              "      <td>Bus</td>\n",
              "      <td>49</td>\n",
              "    </tr>\n",
              "    <tr>\n",
              "      <th>51641</th>\n",
              "      <td>13809</td>\n",
              "      <td>18A</td>\n",
              "      <td>Mpesa</td>\n",
              "      <td>4PEBSVJSNK</td>\n",
              "      <td>20-04-18</td>\n",
              "      <td>8:00</td>\n",
              "      <td>Migori</td>\n",
              "      <td>Nairobi</td>\n",
              "      <td>Bus</td>\n",
              "      <td>49</td>\n",
              "    </tr>\n",
              "    <tr>\n",
              "      <th>51642</th>\n",
              "      <td>13809</td>\n",
              "      <td>17A</td>\n",
              "      <td>Mpesa</td>\n",
              "      <td>LVN64LZDNN</td>\n",
              "      <td>20-04-18</td>\n",
              "      <td>8:00</td>\n",
              "      <td>Migori</td>\n",
              "      <td>Nairobi</td>\n",
              "      <td>Bus</td>\n",
              "      <td>49</td>\n",
              "    </tr>\n",
              "    <tr>\n",
              "      <th>51643</th>\n",
              "      <td>13796</td>\n",
              "      <td>16B</td>\n",
              "      <td>Mpesa</td>\n",
              "      <td>REYBSKTYWN</td>\n",
              "      <td>20-04-18</td>\n",
              "      <td>7:08</td>\n",
              "      <td>Awendo</td>\n",
              "      <td>Nairobi</td>\n",
              "      <td>Bus</td>\n",
              "      <td>49</td>\n",
              "    </tr>\n",
              "    <tr>\n",
              "      <th>51644</th>\n",
              "      <td>14304</td>\n",
              "      <td>7</td>\n",
              "      <td>Mpesa</td>\n",
              "      <td>AQN7FBUSGP</td>\n",
              "      <td>14-11-17</td>\n",
              "      <td>5:10</td>\n",
              "      <td>Kisii</td>\n",
              "      <td>Nairobi</td>\n",
              "      <td>Bus</td>\n",
              "      <td>49</td>\n",
              "    </tr>\n",
              "  </tbody>\n",
              "</table>\n",
              "</div>\n",
              "      <button class=\"colab-df-convert\" onclick=\"convertToInteractive('df-d1116a11-c349-4855-a2b6-84d70d1fa114')\"\n",
              "              title=\"Convert this dataframe to an interactive table.\"\n",
              "              style=\"display:none;\">\n",
              "        \n",
              "  <svg xmlns=\"http://www.w3.org/2000/svg\" height=\"24px\"viewBox=\"0 0 24 24\"\n",
              "       width=\"24px\">\n",
              "    <path d=\"M0 0h24v24H0V0z\" fill=\"none\"/>\n",
              "    <path d=\"M18.56 5.44l.94 2.06.94-2.06 2.06-.94-2.06-.94-.94-2.06-.94 2.06-2.06.94zm-11 1L8.5 8.5l.94-2.06 2.06-.94-2.06-.94L8.5 2.5l-.94 2.06-2.06.94zm10 10l.94 2.06.94-2.06 2.06-.94-2.06-.94-.94-2.06-.94 2.06-2.06.94z\"/><path d=\"M17.41 7.96l-1.37-1.37c-.4-.4-.92-.59-1.43-.59-.52 0-1.04.2-1.43.59L10.3 9.45l-7.72 7.72c-.78.78-.78 2.05 0 2.83L4 21.41c.39.39.9.59 1.41.59.51 0 1.02-.2 1.41-.59l7.78-7.78 2.81-2.81c.8-.78.8-2.07 0-2.86zM5.41 20L4 18.59l7.72-7.72 1.47 1.35L5.41 20z\"/>\n",
              "  </svg>\n",
              "      </button>\n",
              "      \n",
              "  <style>\n",
              "    .colab-df-container {\n",
              "      display:flex;\n",
              "      flex-wrap:wrap;\n",
              "      gap: 12px;\n",
              "    }\n",
              "\n",
              "    .colab-df-convert {\n",
              "      background-color: #E8F0FE;\n",
              "      border: none;\n",
              "      border-radius: 50%;\n",
              "      cursor: pointer;\n",
              "      display: none;\n",
              "      fill: #1967D2;\n",
              "      height: 32px;\n",
              "      padding: 0 0 0 0;\n",
              "      width: 32px;\n",
              "    }\n",
              "\n",
              "    .colab-df-convert:hover {\n",
              "      background-color: #E2EBFA;\n",
              "      box-shadow: 0px 1px 2px rgba(60, 64, 67, 0.3), 0px 1px 3px 1px rgba(60, 64, 67, 0.15);\n",
              "      fill: #174EA6;\n",
              "    }\n",
              "\n",
              "    [theme=dark] .colab-df-convert {\n",
              "      background-color: #3B4455;\n",
              "      fill: #D2E3FC;\n",
              "    }\n",
              "\n",
              "    [theme=dark] .colab-df-convert:hover {\n",
              "      background-color: #434B5C;\n",
              "      box-shadow: 0px 1px 3px 1px rgba(0, 0, 0, 0.15);\n",
              "      filter: drop-shadow(0px 1px 2px rgba(0, 0, 0, 0.3));\n",
              "      fill: #FFFFFF;\n",
              "    }\n",
              "  </style>\n",
              "\n",
              "      <script>\n",
              "        const buttonEl =\n",
              "          document.querySelector('#df-d1116a11-c349-4855-a2b6-84d70d1fa114 button.colab-df-convert');\n",
              "        buttonEl.style.display =\n",
              "          google.colab.kernel.accessAllowed ? 'block' : 'none';\n",
              "\n",
              "        async function convertToInteractive(key) {\n",
              "          const element = document.querySelector('#df-d1116a11-c349-4855-a2b6-84d70d1fa114');\n",
              "          const dataTable =\n",
              "            await google.colab.kernel.invokeFunction('convertToInteractive',\n",
              "                                                     [key], {});\n",
              "          if (!dataTable) return;\n",
              "\n",
              "          const docLinkHtml = 'Like what you see? Visit the ' +\n",
              "            '<a target=\"_blank\" href=https://colab.research.google.com/notebooks/data_table.ipynb>data table notebook</a>'\n",
              "            + ' to learn more about interactive tables.';\n",
              "          element.innerHTML = '';\n",
              "          dataTable['output_type'] = 'display_data';\n",
              "          await google.colab.output.renderOutput(dataTable, element);\n",
              "          const docLink = document.createElement('div');\n",
              "          docLink.innerHTML = docLinkHtml;\n",
              "          element.appendChild(docLink);\n",
              "        }\n",
              "      </script>\n",
              "    </div>\n",
              "  </div>\n",
              "  "
            ]
          },
          "metadata": {},
          "execution_count": 116
        }
      ]
    },
    {
      "cell_type": "markdown",
      "source": [
        "# Understanding Data"
      ],
      "metadata": {
        "id": "x0p8n4drQ6Fj"
      }
    },
    {
      "cell_type": "code",
      "source": [
        "dataset.shape"
      ],
      "metadata": {
        "colab": {
          "base_uri": "https://localhost:8080/"
        },
        "id": "klT3Qj44Q3pB",
        "outputId": "ec0826d0-a9c7-474d-d580-0a87ef01103a"
      },
      "execution_count": 117,
      "outputs": [
        {
          "output_type": "execute_result",
          "data": {
            "text/plain": [
              "(51645, 10)"
            ]
          },
          "metadata": {},
          "execution_count": 117
        }
      ]
    },
    {
      "cell_type": "markdown",
      "source": [
        "There are 51645 Rows and 10 Columns in the dataset."
      ],
      "metadata": {
        "id": "w1tUb6tjRF4O"
      }
    },
    {
      "cell_type": "code",
      "source": [
        "dataset.info()"
      ],
      "metadata": {
        "colab": {
          "base_uri": "https://localhost:8080/"
        },
        "id": "xXv4n307RC68",
        "outputId": "8509532a-ee38-4e29-919f-20e776c1478c"
      },
      "execution_count": 118,
      "outputs": [
        {
          "output_type": "stream",
          "name": "stdout",
          "text": [
            "<class 'pandas.core.frame.DataFrame'>\n",
            "RangeIndex: 51645 entries, 0 to 51644\n",
            "Data columns (total 10 columns):\n",
            " #   Column           Non-Null Count  Dtype \n",
            "---  ------           --------------  ----- \n",
            " 0   ride_id          51645 non-null  int64 \n",
            " 1   seat_number      51645 non-null  object\n",
            " 2   payment_method   51645 non-null  object\n",
            " 3   payment_receipt  51645 non-null  object\n",
            " 4   travel_date      51645 non-null  object\n",
            " 5   travel_time      51645 non-null  object\n",
            " 6   travel_from      51645 non-null  object\n",
            " 7   travel_to        51645 non-null  object\n",
            " 8   car_type         51645 non-null  object\n",
            " 9   max_capacity     51645 non-null  int64 \n",
            "dtypes: int64(2), object(8)\n",
            "memory usage: 3.9+ MB\n"
          ]
        }
      ]
    },
    {
      "cell_type": "code",
      "source": [
        "dataset.describe(include='object')"
      ],
      "metadata": {
        "colab": {
          "base_uri": "https://localhost:8080/",
          "height": 175
        },
        "id": "T2rd1VJ-RZMa",
        "outputId": "fafe611f-5b5a-46aa-efce-1ac4983289a0"
      },
      "execution_count": 119,
      "outputs": [
        {
          "output_type": "execute_result",
          "data": {
            "text/plain": [
              "       seat_number payment_method payment_receipt travel_date travel_time  \\\n",
              "count        51645          51645           51645       51645       51645   \n",
              "unique          61              2           51645         149          78   \n",
              "top              1          Mpesa      UZUEHCBUSO    10-12-17        7:09   \n",
              "freq          2065          51532               1         856        3926   \n",
              "\n",
              "       travel_from travel_to car_type  \n",
              "count        51645     51645    51645  \n",
              "unique          17         1        2  \n",
              "top          Kisii   Nairobi      Bus  \n",
              "freq         22607     51645    31985  "
            ],
            "text/html": [
              "\n",
              "  <div id=\"df-0c8cec24-334a-4c2e-b0e4-d7d912443b94\">\n",
              "    <div class=\"colab-df-container\">\n",
              "      <div>\n",
              "<style scoped>\n",
              "    .dataframe tbody tr th:only-of-type {\n",
              "        vertical-align: middle;\n",
              "    }\n",
              "\n",
              "    .dataframe tbody tr th {\n",
              "        vertical-align: top;\n",
              "    }\n",
              "\n",
              "    .dataframe thead th {\n",
              "        text-align: right;\n",
              "    }\n",
              "</style>\n",
              "<table border=\"1\" class=\"dataframe\">\n",
              "  <thead>\n",
              "    <tr style=\"text-align: right;\">\n",
              "      <th></th>\n",
              "      <th>seat_number</th>\n",
              "      <th>payment_method</th>\n",
              "      <th>payment_receipt</th>\n",
              "      <th>travel_date</th>\n",
              "      <th>travel_time</th>\n",
              "      <th>travel_from</th>\n",
              "      <th>travel_to</th>\n",
              "      <th>car_type</th>\n",
              "    </tr>\n",
              "  </thead>\n",
              "  <tbody>\n",
              "    <tr>\n",
              "      <th>count</th>\n",
              "      <td>51645</td>\n",
              "      <td>51645</td>\n",
              "      <td>51645</td>\n",
              "      <td>51645</td>\n",
              "      <td>51645</td>\n",
              "      <td>51645</td>\n",
              "      <td>51645</td>\n",
              "      <td>51645</td>\n",
              "    </tr>\n",
              "    <tr>\n",
              "      <th>unique</th>\n",
              "      <td>61</td>\n",
              "      <td>2</td>\n",
              "      <td>51645</td>\n",
              "      <td>149</td>\n",
              "      <td>78</td>\n",
              "      <td>17</td>\n",
              "      <td>1</td>\n",
              "      <td>2</td>\n",
              "    </tr>\n",
              "    <tr>\n",
              "      <th>top</th>\n",
              "      <td>1</td>\n",
              "      <td>Mpesa</td>\n",
              "      <td>UZUEHCBUSO</td>\n",
              "      <td>10-12-17</td>\n",
              "      <td>7:09</td>\n",
              "      <td>Kisii</td>\n",
              "      <td>Nairobi</td>\n",
              "      <td>Bus</td>\n",
              "    </tr>\n",
              "    <tr>\n",
              "      <th>freq</th>\n",
              "      <td>2065</td>\n",
              "      <td>51532</td>\n",
              "      <td>1</td>\n",
              "      <td>856</td>\n",
              "      <td>3926</td>\n",
              "      <td>22607</td>\n",
              "      <td>51645</td>\n",
              "      <td>31985</td>\n",
              "    </tr>\n",
              "  </tbody>\n",
              "</table>\n",
              "</div>\n",
              "      <button class=\"colab-df-convert\" onclick=\"convertToInteractive('df-0c8cec24-334a-4c2e-b0e4-d7d912443b94')\"\n",
              "              title=\"Convert this dataframe to an interactive table.\"\n",
              "              style=\"display:none;\">\n",
              "        \n",
              "  <svg xmlns=\"http://www.w3.org/2000/svg\" height=\"24px\"viewBox=\"0 0 24 24\"\n",
              "       width=\"24px\">\n",
              "    <path d=\"M0 0h24v24H0V0z\" fill=\"none\"/>\n",
              "    <path d=\"M18.56 5.44l.94 2.06.94-2.06 2.06-.94-2.06-.94-.94-2.06-.94 2.06-2.06.94zm-11 1L8.5 8.5l.94-2.06 2.06-.94-2.06-.94L8.5 2.5l-.94 2.06-2.06.94zm10 10l.94 2.06.94-2.06 2.06-.94-2.06-.94-.94-2.06-.94 2.06-2.06.94z\"/><path d=\"M17.41 7.96l-1.37-1.37c-.4-.4-.92-.59-1.43-.59-.52 0-1.04.2-1.43.59L10.3 9.45l-7.72 7.72c-.78.78-.78 2.05 0 2.83L4 21.41c.39.39.9.59 1.41.59.51 0 1.02-.2 1.41-.59l7.78-7.78 2.81-2.81c.8-.78.8-2.07 0-2.86zM5.41 20L4 18.59l7.72-7.72 1.47 1.35L5.41 20z\"/>\n",
              "  </svg>\n",
              "      </button>\n",
              "      \n",
              "  <style>\n",
              "    .colab-df-container {\n",
              "      display:flex;\n",
              "      flex-wrap:wrap;\n",
              "      gap: 12px;\n",
              "    }\n",
              "\n",
              "    .colab-df-convert {\n",
              "      background-color: #E8F0FE;\n",
              "      border: none;\n",
              "      border-radius: 50%;\n",
              "      cursor: pointer;\n",
              "      display: none;\n",
              "      fill: #1967D2;\n",
              "      height: 32px;\n",
              "      padding: 0 0 0 0;\n",
              "      width: 32px;\n",
              "    }\n",
              "\n",
              "    .colab-df-convert:hover {\n",
              "      background-color: #E2EBFA;\n",
              "      box-shadow: 0px 1px 2px rgba(60, 64, 67, 0.3), 0px 1px 3px 1px rgba(60, 64, 67, 0.15);\n",
              "      fill: #174EA6;\n",
              "    }\n",
              "\n",
              "    [theme=dark] .colab-df-convert {\n",
              "      background-color: #3B4455;\n",
              "      fill: #D2E3FC;\n",
              "    }\n",
              "\n",
              "    [theme=dark] .colab-df-convert:hover {\n",
              "      background-color: #434B5C;\n",
              "      box-shadow: 0px 1px 3px 1px rgba(0, 0, 0, 0.15);\n",
              "      filter: drop-shadow(0px 1px 2px rgba(0, 0, 0, 0.3));\n",
              "      fill: #FFFFFF;\n",
              "    }\n",
              "  </style>\n",
              "\n",
              "      <script>\n",
              "        const buttonEl =\n",
              "          document.querySelector('#df-0c8cec24-334a-4c2e-b0e4-d7d912443b94 button.colab-df-convert');\n",
              "        buttonEl.style.display =\n",
              "          google.colab.kernel.accessAllowed ? 'block' : 'none';\n",
              "\n",
              "        async function convertToInteractive(key) {\n",
              "          const element = document.querySelector('#df-0c8cec24-334a-4c2e-b0e4-d7d912443b94');\n",
              "          const dataTable =\n",
              "            await google.colab.kernel.invokeFunction('convertToInteractive',\n",
              "                                                     [key], {});\n",
              "          if (!dataTable) return;\n",
              "\n",
              "          const docLinkHtml = 'Like what you see? Visit the ' +\n",
              "            '<a target=\"_blank\" href=https://colab.research.google.com/notebooks/data_table.ipynb>data table notebook</a>'\n",
              "            + ' to learn more about interactive tables.';\n",
              "          element.innerHTML = '';\n",
              "          dataTable['output_type'] = 'display_data';\n",
              "          await google.colab.output.renderOutput(dataTable, element);\n",
              "          const docLink = document.createElement('div');\n",
              "          docLink.innerHTML = docLinkHtml;\n",
              "          element.appendChild(docLink);\n",
              "        }\n",
              "      </script>\n",
              "    </div>\n",
              "  </div>\n",
              "  "
            ]
          },
          "metadata": {},
          "execution_count": 119
        }
      ]
    },
    {
      "cell_type": "markdown",
      "source": [
        "# Summary:- \n",
        "\n",
        "* There are total 61 unique seats in this dataset\n",
        "\n",
        "* Travelers have used 2 types of payment method and most of the people have used Mpesa to pay for their ticket.\n",
        "\n",
        "* The record of 149 days out of 2 year is present in this dataset.\n",
        "\n",
        "* There are 2 different types of car and most of them are bus."
      ],
      "metadata": {
        "id": "DIAoPwfQRyOf"
      }
    },
    {
      "cell_type": "code",
      "source": [
        "dataset.isnull().sum()"
      ],
      "metadata": {
        "colab": {
          "base_uri": "https://localhost:8080/"
        },
        "id": "FoIgisrJRfMt",
        "outputId": "47e81231-6158-4f8e-d132-528108d785bf"
      },
      "execution_count": 120,
      "outputs": [
        {
          "output_type": "execute_result",
          "data": {
            "text/plain": [
              "ride_id            0\n",
              "seat_number        0\n",
              "payment_method     0\n",
              "payment_receipt    0\n",
              "travel_date        0\n",
              "travel_time        0\n",
              "travel_from        0\n",
              "travel_to          0\n",
              "car_type           0\n",
              "max_capacity       0\n",
              "dtype: int64"
            ]
          },
          "metadata": {},
          "execution_count": 120
        }
      ]
    },
    {
      "cell_type": "markdown",
      "source": [
        "We don't see any null values in the dataset now.\n",
        "\n",
        "so let us explore the dataset more."
      ],
      "metadata": {
        "id": "bGgs2MTzSEaM"
      }
    },
    {
      "cell_type": "code",
      "source": [
        "len(dataset['ride_id'].unique())"
      ],
      "metadata": {
        "colab": {
          "base_uri": "https://localhost:8080/"
        },
        "id": "t24LhgMtSJnz",
        "outputId": "b26ba08c-9b04-4534-8b0a-fcde41ae1634"
      },
      "execution_count": 121,
      "outputs": [
        {
          "output_type": "execute_result",
          "data": {
            "text/plain": [
              "6249"
            ]
          },
          "metadata": {},
          "execution_count": 121
        }
      ]
    },
    {
      "cell_type": "markdown",
      "source": [
        "We see there are 6249 unique ride_id."
      ],
      "metadata": {
        "id": "0uvEwFv9SU8g"
      }
    },
    {
      "cell_type": "code",
      "source": [
        "column = dataset.columns"
      ],
      "metadata": {
        "id": "D1Kq2DJISXO4"
      },
      "execution_count": 122,
      "outputs": []
    },
    {
      "cell_type": "code",
      "source": [
        "column"
      ],
      "metadata": {
        "colab": {
          "base_uri": "https://localhost:8080/"
        },
        "id": "m_oaI77gSdjU",
        "outputId": "3b782268-ca4c-4324-ff0e-0956e1b24541"
      },
      "execution_count": 123,
      "outputs": [
        {
          "output_type": "execute_result",
          "data": {
            "text/plain": [
              "Index(['ride_id', 'seat_number', 'payment_method', 'payment_receipt',\n",
              "       'travel_date', 'travel_time', 'travel_from', 'travel_to', 'car_type',\n",
              "       'max_capacity'],\n",
              "      dtype='object')"
            ]
          },
          "metadata": {},
          "execution_count": 123
        }
      ]
    },
    {
      "cell_type": "code",
      "source": [
        "df = dataset.copy()"
      ],
      "metadata": {
        "id": "EvbwIhhz6Uuz"
      },
      "execution_count": 124,
      "outputs": []
    },
    {
      "cell_type": "markdown",
      "source": [
        "# Exploratory Data Analysis"
      ],
      "metadata": {
        "id": "4iowcTlPSgTb"
      }
    },
    {
      "cell_type": "code",
      "source": [
        "import seaborn as sns\n",
        "import matplotlib.pyplot as plt\n",
        "\n",
        "plot_count_cols = ['payment_method', 'car_type', 'max_capacity']\n",
        "for plot in plot_count_cols:\n",
        "    sns.countplot(data=df.astype({plot: 'category'}), x=plot)\n",
        "    plt.show()\n"
      ],
      "metadata": {
        "colab": {
          "base_uri": "https://localhost:8080/",
          "height": 806
        },
        "id": "c8UG1og82px2",
        "outputId": "8f864663-dce0-40a5-94ca-a0a96a5e4a6a"
      },
      "execution_count": 125,
      "outputs": [
        {
          "output_type": "display_data",
          "data": {
            "text/plain": [
              "<Figure size 432x288 with 1 Axes>"
            ],
            "image/png": "[encoded data removed]"
          },
          "metadata": {
            "needs_background": "light"
          }
        },
        {
          "output_type": "display_data",
          "data": {
            "text/plain": [
              "<Figure size 432x288 with 1 Axes>"
            ],
            "image/png": "[encoded data removed]"
          },
          "metadata": {
            "needs_background": "light"
          }
        },
        {
          "output_type": "display_data",
          "data": {
            "text/plain": [
              "<Figure size 432x288 with 1 Axes>"
            ],
            "image/png": "[encoded data removed]"
          },
          "metadata": {
            "needs_background": "light"
          }
        }
      ]
    },
    {
      "cell_type": "markdown",
      "source": [
        "# Summary \n",
        "* There are two types of methods, people used to buy tickets\n",
        "* There are two types of cars BUS and SHUTTLE and the maximum capacity of the bus is 49 while shuttle can contain 11 travelers."
      ],
      "metadata": {
        "id": "WiWqvfYPb6xZ"
      }
    },
    {
      "cell_type": "code",
      "source": [
        "dataset['travel_from'].value_counts().plot(kind= 'bar')\n",
        "plt.show()"
      ],
      "metadata": {
        "colab": {
          "base_uri": "https://localhost:8080/",
          "height": 312
        },
        "id": "dSGqr0lpTApu",
        "outputId": "40596b27-a8ab-40fa-f003-3e52bba57a42"
      },
      "execution_count": 126,
      "outputs": [
        {
          "output_type": "display_data",
          "data": {
            "text/plain": [
              "<Figure size 432x288 with 1 Axes>"
            ],
            "image/png": "[encoded data removed]"
          },
          "metadata": {
            "needs_background": "light"
          }
        }
      ]
    },
    {
      "cell_type": "code",
      "source": [
        "dataset['travel_time'].value_counts().plot(kind= 'bar')\n",
        "plt.show()"
      ],
      "metadata": {
        "colab": {
          "base_uri": "https://localhost:8080/",
          "height": 284
        },
        "id": "0bKTw0hjTPuP",
        "outputId": "33463112-146e-40a6-eba7-2babb5885858"
      },
      "execution_count": 127,
      "outputs": [
        {
          "output_type": "display_data",
          "data": {
            "text/plain": [
              "<Figure size 432x288 with 1 Axes>"
            ],
            "image/png": "[encoded data removed]"
          },
          "metadata": {
            "needs_background": "light"
          }
        }
      ]
    },
    {
      "cell_type": "markdown",
      "source": [
        "# Finding Target Variables\n",
        "* Since we are not given the target variables. so, we need dto find target variable first.\n",
        "* There might be many ways of finding the target variable but I am using one way that is, I will find the count of each ride_id and that will be number_of_ticket as our target variable."
      ],
      "metadata": {
        "id": "kjz0P_qNdFV3"
      }
    },
    {
      "cell_type": "code",
      "source": [
        "label = dataset.groupby([\"ride_id\"]).seat_number.count().rename(\"number_of_ticket\").reset_index()\n",
        "label.head()"
      ],
      "metadata": {
        "colab": {
          "base_uri": "https://localhost:8080/",
          "height": 206
        },
        "id": "3Y7cTbsTdqFh",
        "outputId": "6c22c03a-79db-4939-d371-384b2d313fd0"
      },
      "execution_count": 128,
      "outputs": [
        {
          "output_type": "execute_result",
          "data": {
            "text/plain": [
              "   ride_id  number_of_ticket\n",
              "0     1442                 1\n",
              "1     5437                 1\n",
              "2     5710                 1\n",
              "3     5777                 5\n",
              "4     5778                31"
            ],
            "text/html": [
              "\n",
              "  <div id=\"df-3a3241ca-9cbb-4db7-b8bd-6fa5d3dd0d57\">\n",
              "    <div class=\"colab-df-container\">\n",
              "      <div>\n",
              "<style scoped>\n",
              "    .dataframe tbody tr th:only-of-type {\n",
              "        vertical-align: middle;\n",
              "    }\n",
              "\n",
              "    .dataframe tbody tr th {\n",
              "        vertical-align: top;\n",
              "    }\n",
              "\n",
              "    .dataframe thead th {\n",
              "        text-align: right;\n",
              "    }\n",
              "</style>\n",
              "<table border=\"1\" class=\"dataframe\">\n",
              "  <thead>\n",
              "    <tr style=\"text-align: right;\">\n",
              "      <th></th>\n",
              "      <th>ride_id</th>\n",
              "      <th>number_of_ticket</th>\n",
              "    </tr>\n",
              "  </thead>\n",
              "  <tbody>\n",
              "    <tr>\n",
              "      <th>0</th>\n",
              "      <td>1442</td>\n",
              "      <td>1</td>\n",
              "    </tr>\n",
              "    <tr>\n",
              "      <th>1</th>\n",
              "      <td>5437</td>\n",
              "      <td>1</td>\n",
              "    </tr>\n",
              "    <tr>\n",
              "      <th>2</th>\n",
              "      <td>5710</td>\n",
              "      <td>1</td>\n",
              "    </tr>\n",
              "    <tr>\n",
              "      <th>3</th>\n",
              "      <td>5777</td>\n",
              "      <td>5</td>\n",
              "    </tr>\n",
              "    <tr>\n",
              "      <th>4</th>\n",
              "      <td>5778</td>\n",
              "      <td>31</td>\n",
              "    </tr>\n",
              "  </tbody>\n",
              "</table>\n",
              "</div>\n",
              "      <button class=\"colab-df-convert\" onclick=\"convertToInteractive('df-3a3241ca-9cbb-4db7-b8bd-6fa5d3dd0d57')\"\n",
              "              title=\"Convert this dataframe to an interactive table.\"\n",
              "              style=\"display:none;\">\n",
              "        \n",
              "  <svg xmlns=\"http://www.w3.org/2000/svg\" height=\"24px\"viewBox=\"0 0 24 24\"\n",
              "       width=\"24px\">\n",
              "    <path d=\"M0 0h24v24H0V0z\" fill=\"none\"/>\n",
              "    <path d=\"M18.56 5.44l.94 2.06.94-2.06 2.06-.94-2.06-.94-.94-2.06-.94 2.06-2.06.94zm-11 1L8.5 8.5l.94-2.06 2.06-.94-2.06-.94L8.5 2.5l-.94 2.06-2.06.94zm10 10l.94 2.06.94-2.06 2.06-.94-2.06-.94-.94-2.06-.94 2.06-2.06.94z\"/><path d=\"M17.41 7.96l-1.37-1.37c-.4-.4-.92-.59-1.43-.59-.52 0-1.04.2-1.43.59L10.3 9.45l-7.72 7.72c-.78.78-.78 2.05 0 2.83L4 21.41c.39.39.9.59 1.41.59.51 0 1.02-.2 1.41-.59l7.78-7.78 2.81-2.81c.8-.78.8-2.07 0-2.86zM5.41 20L4 18.59l7.72-7.72 1.47 1.35L5.41 20z\"/>\n",
              "  </svg>\n",
              "      </button>\n",
              "      \n",
              "  <style>\n",
              "    .colab-df-container {\n",
              "      display:flex;\n",
              "      flex-wrap:wrap;\n",
              "      gap: 12px;\n",
              "    }\n",
              "\n",
              "    .colab-df-convert {\n",
              "      background-color: #E8F0FE;\n",
              "      border: none;\n",
              "      border-radius: 50%;\n",
              "      cursor: pointer;\n",
              "      display: none;\n",
              "      fill: #1967D2;\n",
              "      height: 32px;\n",
              "      padding: 0 0 0 0;\n",
              "      width: 32px;\n",
              "    }\n",
              "\n",
              "    .colab-df-convert:hover {\n",
              "      background-color: #E2EBFA;\n",
              "      box-shadow: 0px 1px 2px rgba(60, 64, 67, 0.3), 0px 1px 3px 1px rgba(60, 64, 67, 0.15);\n",
              "      fill: #174EA6;\n",
              "    }\n",
              "\n",
              "    [theme=dark] .colab-df-convert {\n",
              "      background-color: #3B4455;\n",
              "      fill: #D2E3FC;\n",
              "    }\n",
              "\n",
              "    [theme=dark] .colab-df-convert:hover {\n",
              "      background-color: #434B5C;\n",
              "      box-shadow: 0px 1px 3px 1px rgba(0, 0, 0, 0.15);\n",
              "      filter: drop-shadow(0px 1px 2px rgba(0, 0, 0, 0.3));\n",
              "      fill: #FFFFFF;\n",
              "    }\n",
              "  </style>\n",
              "\n",
              "      <script>\n",
              "        const buttonEl =\n",
              "          document.querySelector('#df-3a3241ca-9cbb-4db7-b8bd-6fa5d3dd0d57 button.colab-df-convert');\n",
              "        buttonEl.style.display =\n",
              "          google.colab.kernel.accessAllowed ? 'block' : 'none';\n",
              "\n",
              "        async function convertToInteractive(key) {\n",
              "          const element = document.querySelector('#df-3a3241ca-9cbb-4db7-b8bd-6fa5d3dd0d57');\n",
              "          const dataTable =\n",
              "            await google.colab.kernel.invokeFunction('convertToInteractive',\n",
              "                                                     [key], {});\n",
              "          if (!dataTable) return;\n",
              "\n",
              "          const docLinkHtml = 'Like what you see? Visit the ' +\n",
              "            '<a target=\"_blank\" href=https://colab.research.google.com/notebooks/data_table.ipynb>data table notebook</a>'\n",
              "            + ' to learn more about interactive tables.';\n",
              "          element.innerHTML = '';\n",
              "          dataTable['output_type'] = 'display_data';\n",
              "          await google.colab.output.renderOutput(dataTable, element);\n",
              "          const docLink = document.createElement('div');\n",
              "          docLink.innerHTML = docLinkHtml;\n",
              "          element.appendChild(docLink);\n",
              "        }\n",
              "      </script>\n",
              "    </div>\n",
              "  </div>\n",
              "  "
            ]
          },
          "metadata": {},
          "execution_count": 128
        }
      ]
    },
    {
      "cell_type": "markdown",
      "source": [
        "* We are grouping the dataset by ride_id and then counting the number of occurrences of seat_number for each unique ride_id. Then renaming the resulting column to \"number_of_ticket\" and resets the index. Finally, it returns the first 5 rows of the resulting dataframe using the head() function.\n",
        "\n",
        "* The resulting dataframe has two columns: ride_id and number_of_ticket. Each row represents a unique ride_id and the number of tickets sold for that ride."
      ],
      "metadata": {
        "id": "d1_YU5PZAcDK"
      }
    },
    {
      "cell_type": "markdown",
      "source": [
        "### Now we found our target variables so let us delete the duplicate values from ride_id"
      ],
      "metadata": {
        "id": "7cYOuk28eCfa"
      }
    },
    {
      "cell_type": "code",
      "source": [
        "dataset= dataset.drop_duplicates(\"ride_id\")"
      ],
      "metadata": {
        "id": "imlfeNCpUPbH"
      },
      "execution_count": 129,
      "outputs": []
    },
    {
      "cell_type": "code",
      "source": [
        "dataset.shape"
      ],
      "metadata": {
        "id": "-B4_u6_mUgRq",
        "colab": {
          "base_uri": "https://localhost:8080/"
        },
        "outputId": "373bccaa-27e7-4eef-a20d-9fe0703d3ad3"
      },
      "execution_count": 130,
      "outputs": [
        {
          "output_type": "execute_result",
          "data": {
            "text/plain": [
              "(6249, 10)"
            ]
          },
          "metadata": {},
          "execution_count": 130
        }
      ]
    },
    {
      "cell_type": "markdown",
      "source": [
        "### Now let us merge two datasets on ride_id key to make the final dataset where we have dependent as well as independent variables too."
      ],
      "metadata": {
        "id": "R5oBYFciearO"
      }
    },
    {
      "cell_type": "code",
      "source": [
        "dataset= dataset.merge(label, how=\"left\", on=\"ride_id\")\n",
        "dataset.head()"
      ],
      "metadata": {
        "id": "5f8myen8Ukge",
        "colab": {
          "base_uri": "https://localhost:8080/",
          "height": 206
        },
        "outputId": "6aebea51-fccf-4119-e92f-53a1b1e1cc31"
      },
      "execution_count": 131,
      "outputs": [
        {
          "output_type": "execute_result",
          "data": {
            "text/plain": [
              "   ride_id seat_number payment_method payment_receipt travel_date travel_time  \\\n",
              "0     1442         15A          Mpesa      UZUEHCBUSO    17-10-17        7:15   \n",
              "1     5437         14A          Mpesa      TIHLBUSGTE    19-11-17        7:12   \n",
              "2     5710          8B          Mpesa      EQX8Q5G19O    26-11-17        7:05   \n",
              "3     5777         19A          Mpesa      SGP18CL0ME    27-11-17        7:10   \n",
              "4     5778         11A          Mpesa      BM97HFRGL9    27-11-17        7:12   \n",
              "\n",
              "  travel_from travel_to car_type  max_capacity  number_of_ticket  \n",
              "0      Migori   Nairobi      Bus            49                 1  \n",
              "1      Migori   Nairobi      Bus            49                 1  \n",
              "2      Keroka   Nairobi      Bus            49                 1  \n",
              "3    Homa Bay   Nairobi      Bus            49                 5  \n",
              "4      Migori   Nairobi      Bus            49                31  "
            ],
            "text/html": [
              "\n",
              "  <div id=\"df-9d49395f-fd35-46ce-9623-b9b1ae8bda91\">\n",
              "    <div class=\"colab-df-container\">\n",
              "      <div>\n",
              "<style scoped>\n",
              "    .dataframe tbody tr th:only-of-type {\n",
              "        vertical-align: middle;\n",
              "    }\n",
              "\n",
              "    .dataframe tbody tr th {\n",
              "        vertical-align: top;\n",
              "    }\n",
              "\n",
              "    .dataframe thead th {\n",
              "        text-align: right;\n",
              "    }\n",
              "</style>\n",
              "<table border=\"1\" class=\"dataframe\">\n",
              "  <thead>\n",
              "    <tr style=\"text-align: right;\">\n",
              "      <th></th>\n",
              "      <th>ride_id</th>\n",
              "      <th>seat_number</th>\n",
              "      <th>payment_method</th>\n",
              "      <th>payment_receipt</th>\n",
              "      <th>travel_date</th>\n",
              "      <th>travel_time</th>\n",
              "      <th>travel_from</th>\n",
              "      <th>travel_to</th>\n",
              "      <th>car_type</th>\n",
              "      <th>max_capacity</th>\n",
              "      <th>number_of_ticket</th>\n",
              "    </tr>\n",
              "  </thead>\n",
              "  <tbody>\n",
              "    <tr>\n",
              "      <th>0</th>\n",
              "      <td>1442</td>\n",
              "      <td>15A</td>\n",
              "      <td>Mpesa</td>\n",
              "      <td>UZUEHCBUSO</td>\n",
              "      <td>17-10-17</td>\n",
              "      <td>7:15</td>\n",
              "      <td>Migori</td>\n",
              "      <td>Nairobi</td>\n",
              "      <td>Bus</td>\n",
              "      <td>49</td>\n",
              "      <td>1</td>\n",
              "    </tr>\n",
              "    <tr>\n",
              "      <th>1</th>\n",
              "      <td>5437</td>\n",
              "      <td>14A</td>\n",
              "      <td>Mpesa</td>\n",
              "      <td>TIHLBUSGTE</td>\n",
              "      <td>19-11-17</td>\n",
              "      <td>7:12</td>\n",
              "      <td>Migori</td>\n",
              "      <td>Nairobi</td>\n",
              "      <td>Bus</td>\n",
              "      <td>49</td>\n",
              "      <td>1</td>\n",
              "    </tr>\n",
              "    <tr>\n",
              "      <th>2</th>\n",
              "      <td>5710</td>\n",
              "      <td>8B</td>\n",
              "      <td>Mpesa</td>\n",
              "      <td>EQX8Q5G19O</td>\n",
              "      <td>26-11-17</td>\n",
              "      <td>7:05</td>\n",
              "      <td>Keroka</td>\n",
              "      <td>Nairobi</td>\n",
              "      <td>Bus</td>\n",
              "      <td>49</td>\n",
              "      <td>1</td>\n",
              "    </tr>\n",
              "    <tr>\n",
              "      <th>3</th>\n",
              "      <td>5777</td>\n",
              "      <td>19A</td>\n",
              "      <td>Mpesa</td>\n",
              "      <td>SGP18CL0ME</td>\n",
              "      <td>27-11-17</td>\n",
              "      <td>7:10</td>\n",
              "      <td>Homa Bay</td>\n",
              "      <td>Nairobi</td>\n",
              "      <td>Bus</td>\n",
              "      <td>49</td>\n",
              "      <td>5</td>\n",
              "    </tr>\n",
              "    <tr>\n",
              "      <th>4</th>\n",
              "      <td>5778</td>\n",
              "      <td>11A</td>\n",
              "      <td>Mpesa</td>\n",
              "      <td>BM97HFRGL9</td>\n",
              "      <td>27-11-17</td>\n",
              "      <td>7:12</td>\n",
              "      <td>Migori</td>\n",
              "      <td>Nairobi</td>\n",
              "      <td>Bus</td>\n",
              "      <td>49</td>\n",
              "      <td>31</td>\n",
              "    </tr>\n",
              "  </tbody>\n",
              "</table>\n",
              "</div>\n",
              "      <button class=\"colab-df-convert\" onclick=\"convertToInteractive('df-9d49395f-fd35-46ce-9623-b9b1ae8bda91')\"\n",
              "              title=\"Convert this dataframe to an interactive table.\"\n",
              "              style=\"display:none;\">\n",
              "        \n",
              "  <svg xmlns=\"http://www.w3.org/2000/svg\" height=\"24px\"viewBox=\"0 0 24 24\"\n",
              "       width=\"24px\">\n",
              "    <path d=\"M0 0h24v24H0V0z\" fill=\"none\"/>\n",
              "    <path d=\"M18.56 5.44l.94 2.06.94-2.06 2.06-.94-2.06-.94-.94-2.06-.94 2.06-2.06.94zm-11 1L8.5 8.5l.94-2.06 2.06-.94-2.06-.94L8.5 2.5l-.94 2.06-2.06.94zm10 10l.94 2.06.94-2.06 2.06-.94-2.06-.94-.94-2.06-.94 2.06-2.06.94z\"/><path d=\"M17.41 7.96l-1.37-1.37c-.4-.4-.92-.59-1.43-.59-.52 0-1.04.2-1.43.59L10.3 9.45l-7.72 7.72c-.78.78-.78 2.05 0 2.83L4 21.41c.39.39.9.59 1.41.59.51 0 1.02-.2 1.41-.59l7.78-7.78 2.81-2.81c.8-.78.8-2.07 0-2.86zM5.41 20L4 18.59l7.72-7.72 1.47 1.35L5.41 20z\"/>\n",
              "  </svg>\n",
              "      </button>\n",
              "      \n",
              "  <style>\n",
              "    .colab-df-container {\n",
              "      display:flex;\n",
              "      flex-wrap:wrap;\n",
              "      gap: 12px;\n",
              "    }\n",
              "\n",
              "    .colab-df-convert {\n",
              "      background-color: #E8F0FE;\n",
              "      border: none;\n",
              "      border-radius: 50%;\n",
              "      cursor: pointer;\n",
              "      display: none;\n",
              "      fill: #1967D2;\n",
              "      height: 32px;\n",
              "      padding: 0 0 0 0;\n",
              "      width: 32px;\n",
              "    }\n",
              "\n",
              "    .colab-df-convert:hover {\n",
              "      background-color: #E2EBFA;\n",
              "      box-shadow: 0px 1px 2px rgba(60, 64, 67, 0.3), 0px 1px 3px 1px rgba(60, 64, 67, 0.15);\n",
              "      fill: #174EA6;\n",
              "    }\n",
              "\n",
              "    [theme=dark] .colab-df-convert {\n",
              "      background-color: #3B4455;\n",
              "      fill: #D2E3FC;\n",
              "    }\n",
              "\n",
              "    [theme=dark] .colab-df-convert:hover {\n",
              "      background-color: #434B5C;\n",
              "      box-shadow: 0px 1px 3px 1px rgba(0, 0, 0, 0.15);\n",
              "      filter: drop-shadow(0px 1px 2px rgba(0, 0, 0, 0.3));\n",
              "      fill: #FFFFFF;\n",
              "    }\n",
              "  </style>\n",
              "\n",
              "      <script>\n",
              "        const buttonEl =\n",
              "          document.querySelector('#df-9d49395f-fd35-46ce-9623-b9b1ae8bda91 button.colab-df-convert');\n",
              "        buttonEl.style.display =\n",
              "          google.colab.kernel.accessAllowed ? 'block' : 'none';\n",
              "\n",
              "        async function convertToInteractive(key) {\n",
              "          const element = document.querySelector('#df-9d49395f-fd35-46ce-9623-b9b1ae8bda91');\n",
              "          const dataTable =\n",
              "            await google.colab.kernel.invokeFunction('convertToInteractive',\n",
              "                                                     [key], {});\n",
              "          if (!dataTable) return;\n",
              "\n",
              "          const docLinkHtml = 'Like what you see? Visit the ' +\n",
              "            '<a target=\"_blank\" href=https://colab.research.google.com/notebooks/data_table.ipynb>data table notebook</a>'\n",
              "            + ' to learn more about interactive tables.';\n",
              "          element.innerHTML = '';\n",
              "          dataTable['output_type'] = 'display_data';\n",
              "          await google.colab.output.renderOutput(dataTable, element);\n",
              "          const docLink = document.createElement('div');\n",
              "          docLink.innerHTML = docLinkHtml;\n",
              "          element.appendChild(docLink);\n",
              "        }\n",
              "      </script>\n",
              "    </div>\n",
              "  </div>\n",
              "  "
            ]
          },
          "metadata": {},
          "execution_count": 131
        }
      ]
    },
    {
      "cell_type": "markdown",
      "source": [
        "#### Now we have found our final dataset so let us remove some features that doesn't seem to be important for predicting the number of tickets in our model"
      ],
      "metadata": {
        "id": "kCjzFpIPgqJz"
      }
    },
    {
      "cell_type": "code",
      "source": [
        "dataset = dataset.drop(['seat_number', 'payment_method', 'payment_receipt'], axis= 1 )"
      ],
      "metadata": {
        "id": "a02AAWTVYQkB"
      },
      "execution_count": 132,
      "outputs": []
    },
    {
      "cell_type": "markdown",
      "source": [
        "# Removing Constant Features\n",
        "\n",
        "We need to first remove the constant features."
      ],
      "metadata": {
        "id": "mn8wuIyLaTqA"
      }
    },
    {
      "cell_type": "code",
      "source": [
        "import warnings\n",
        "warnings.filterwarnings('ignore')"
      ],
      "metadata": {
        "id": "EVfvGVztUvfp"
      },
      "execution_count": 133,
      "outputs": []
    },
    {
      "cell_type": "code",
      "source": [
        "dataset.drop([\"travel_to\"], axis= 1, inplace= True)"
      ],
      "metadata": {
        "id": "yUDnXJvYajzm"
      },
      "execution_count": 134,
      "outputs": []
    },
    {
      "cell_type": "code",
      "source": [
        "plt.figure(figsize=(12, 10))\n",
        "\n",
        "sp = sns.scatterplot(x=\"travel_from\", y=\"number_of_ticket\", data= dataset)"
      ],
      "metadata": {
        "id": "G0SA1Tm8anfh",
        "colab": {
          "base_uri": "https://localhost:8080/",
          "height": 606
        },
        "outputId": "64d59c5c-8d1d-472e-a47a-cc82cd8048c5"
      },
      "execution_count": 135,
      "outputs": [
        {
          "output_type": "display_data",
          "data": {
            "text/plain": [
              "<Figure size 864x720 with 1 Axes>"
            ],
            "image/png": "[encoded data removed]"
          },
          "metadata": {
            "needs_background": "light"
          }
        }
      ]
    },
    {
      "cell_type": "markdown",
      "source": [
        "# Feature Engineering"
      ],
      "metadata": {
        "id": "fRuTcxGskO_A"
      }
    },
    {
      "cell_type": "code",
      "source": [
        "# Concatinate travel date and travel time column and make a new feature called date.\n",
        "\n",
        "dataset[\"date\"]=dataset[\"travel_date\"]+ \" \"+dataset[\"travel_time\"]"
      ],
      "metadata": {
        "id": "tfMGW2kcVFyJ"
      },
      "execution_count": 136,
      "outputs": []
    },
    {
      "cell_type": "code",
      "source": [
        "# This function takes dataframe as an argument and extracts the different features from the date variable of the dataset and finaly returns the updated dataset\n",
        "\n",
        "def  time_features(df): \n",
        "\n",
        "  df[\"date\"]=pd.to_datetime(df[\"date\"])\n",
        "  df[\"day_of_week\"]=df[\"date\"].dt.dayofweek\n",
        "  df[\"day_of_year\"]=df[\"date\"].dt.dayofyear\n",
        "  df[\"day_of_month\"]=df[\"date\"].dt.day\n",
        "  df[\"year_woy\"]=df[\"date\"].dt.year.astype(str)+df[\"date\"].dt.weekofyear.astype(str)\n",
        "  df[\"hour\"]=df[\"date\"].dt.hour\n",
        "  df[\"minute\"]=df[\"date\"].dt.minute\n",
        "  df[\"is_weekend\"]=df[\"day_of_week\"].apply( lambda x : 1 if x  in [5,6] else 0 )\n",
        "  df[\"year\"]=df[\"date\"].dt.year\n",
        "  df[\"quarter\"]=df[\"date\"].dt.quarter\n",
        "  df[\"month\"]=df[\"date\"].dt.month\n",
        "  return df"
      ],
      "metadata": {
        "id": "qRSvXcKvYwaW"
      },
      "execution_count": 137,
      "outputs": []
    },
    {
      "cell_type": "markdown",
      "source": [
        "The purpose of the below function is likely to extract time-related features or variables from the dataset and add them as new columns to the dataset."
      ],
      "metadata": {
        "id": "piaeyJmK_fjI"
      }
    },
    {
      "cell_type": "code",
      "source": [
        "dataset_new = time_features(dataset)"
      ],
      "metadata": {
        "id": "TS9QaN-UlCrV"
      },
      "execution_count": 138,
      "outputs": []
    },
    {
      "cell_type": "code",
      "source": [
        "dataset_new.head()"
      ],
      "metadata": {
        "colab": {
          "base_uri": "https://localhost:8080/",
          "height": 443
        },
        "id": "z0yYIrTclKV2",
        "outputId": "03d16e80-2bdd-49c1-dd7f-cbc5e2607961"
      },
      "execution_count": 139,
      "outputs": [
        {
          "output_type": "execute_result",
          "data": {
            "text/plain": [
              "   ride_id travel_date travel_time travel_from car_type  max_capacity  \\\n",
              "0     1442    17-10-17        7:15      Migori      Bus            49   \n",
              "1     5437    19-11-17        7:12      Migori      Bus            49   \n",
              "2     5710    26-11-17        7:05      Keroka      Bus            49   \n",
              "3     5777    27-11-17        7:10    Homa Bay      Bus            49   \n",
              "4     5778    27-11-17        7:12      Migori      Bus            49   \n",
              "\n",
              "   number_of_ticket                date  day_of_week  day_of_year  \\\n",
              "0                 1 2017-10-17 07:15:00            1          290   \n",
              "1                 1 2017-11-19 07:12:00            6          323   \n",
              "2                 1 2017-11-26 07:05:00            6          330   \n",
              "3                 5 2017-11-27 07:10:00            0          331   \n",
              "4                31 2017-11-27 07:12:00            0          331   \n",
              "\n",
              "   day_of_month year_woy  hour  minute  is_weekend  year  quarter  month  \n",
              "0            17   201742     7      15           0  2017        4     10  \n",
              "1            19   201746     7      12           1  2017        4     11  \n",
              "2            26   201747     7       5           1  2017        4     11  \n",
              "3            27   201748     7      10           0  2017        4     11  \n",
              "4            27   201748     7      12           0  2017        4     11  "
            ],
            "text/html": [
              "\n",
              "  <div id=\"df-fb9d46a8-191d-469e-a76f-cb7172d3049c\">\n",
              "    <div class=\"colab-df-container\">\n",
              "      <div>\n",
              "<style scoped>\n",
              "    .dataframe tbody tr th:only-of-type {\n",
              "        vertical-align: middle;\n",
              "    }\n",
              "\n",
              "    .dataframe tbody tr th {\n",
              "        vertical-align: top;\n",
              "    }\n",
              "\n",
              "    .dataframe thead th {\n",
              "        text-align: right;\n",
              "    }\n",
              "</style>\n",
              "<table border=\"1\" class=\"dataframe\">\n",
              "  <thead>\n",
              "    <tr style=\"text-align: right;\">\n",
              "      <th></th>\n",
              "      <th>ride_id</th>\n",
              "      <th>travel_date</th>\n",
              "      <th>travel_time</th>\n",
              "      <th>travel_from</th>\n",
              "      <th>car_type</th>\n",
              "      <th>max_capacity</th>\n",
              "      <th>number_of_ticket</th>\n",
              "      <th>date</th>\n",
              "      <th>day_of_week</th>\n",
              "      <th>day_of_year</th>\n",
              "      <th>day_of_month</th>\n",
              "      <th>year_woy</th>\n",
              "      <th>hour</th>\n",
              "      <th>minute</th>\n",
              "      <th>is_weekend</th>\n",
              "      <th>year</th>\n",
              "      <th>quarter</th>\n",
              "      <th>month</th>\n",
              "    </tr>\n",
              "  </thead>\n",
              "  <tbody>\n",
              "    <tr>\n",
              "      <th>0</th>\n",
              "      <td>1442</td>\n",
              "      <td>17-10-17</td>\n",
              "      <td>7:15</td>\n",
              "      <td>Migori</td>\n",
              "      <td>Bus</td>\n",
              "      <td>49</td>\n",
              "      <td>1</td>\n",
              "      <td>2017-10-17 07:15:00</td>\n",
              "      <td>1</td>\n",
              "      <td>290</td>\n",
              "      <td>17</td>\n",
              "      <td>201742</td>\n",
              "      <td>7</td>\n",
              "      <td>15</td>\n",
              "      <td>0</td>\n",
              "      <td>2017</td>\n",
              "      <td>4</td>\n",
              "      <td>10</td>\n",
              "    </tr>\n",
              "    <tr>\n",
              "      <th>1</th>\n",
              "      <td>5437</td>\n",
              "      <td>19-11-17</td>\n",
              "      <td>7:12</td>\n",
              "      <td>Migori</td>\n",
              "      <td>Bus</td>\n",
              "      <td>49</td>\n",
              "      <td>1</td>\n",
              "      <td>2017-11-19 07:12:00</td>\n",
              "      <td>6</td>\n",
              "      <td>323</td>\n",
              "      <td>19</td>\n",
              "      <td>201746</td>\n",
              "      <td>7</td>\n",
              "      <td>12</td>\n",
              "      <td>1</td>\n",
              "      <td>2017</td>\n",
              "      <td>4</td>\n",
              "      <td>11</td>\n",
              "    </tr>\n",
              "    <tr>\n",
              "      <th>2</th>\n",
              "      <td>5710</td>\n",
              "      <td>26-11-17</td>\n",
              "      <td>7:05</td>\n",
              "      <td>Keroka</td>\n",
              "      <td>Bus</td>\n",
              "      <td>49</td>\n",
              "      <td>1</td>\n",
              "      <td>2017-11-26 07:05:00</td>\n",
              "      <td>6</td>\n",
              "      <td>330</td>\n",
              "      <td>26</td>\n",
              "      <td>201747</td>\n",
              "      <td>7</td>\n",
              "      <td>5</td>\n",
              "      <td>1</td>\n",
              "      <td>2017</td>\n",
              "      <td>4</td>\n",
              "      <td>11</td>\n",
              "    </tr>\n",
              "    <tr>\n",
              "      <th>3</th>\n",
              "      <td>5777</td>\n",
              "      <td>27-11-17</td>\n",
              "      <td>7:10</td>\n",
              "      <td>Homa Bay</td>\n",
              "      <td>Bus</td>\n",
              "      <td>49</td>\n",
              "      <td>5</td>\n",
              "      <td>2017-11-27 07:10:00</td>\n",
              "      <td>0</td>\n",
              "      <td>331</td>\n",
              "      <td>27</td>\n",
              "      <td>201748</td>\n",
              "      <td>7</td>\n",
              "      <td>10</td>\n",
              "      <td>0</td>\n",
              "      <td>2017</td>\n",
              "      <td>4</td>\n",
              "      <td>11</td>\n",
              "    </tr>\n",
              "    <tr>\n",
              "      <th>4</th>\n",
              "      <td>5778</td>\n",
              "      <td>27-11-17</td>\n",
              "      <td>7:12</td>\n",
              "      <td>Migori</td>\n",
              "      <td>Bus</td>\n",
              "      <td>49</td>\n",
              "      <td>31</td>\n",
              "      <td>2017-11-27 07:12:00</td>\n",
              "      <td>0</td>\n",
              "      <td>331</td>\n",
              "      <td>27</td>\n",
              "      <td>201748</td>\n",
              "      <td>7</td>\n",
              "      <td>12</td>\n",
              "      <td>0</td>\n",
              "      <td>2017</td>\n",
              "      <td>4</td>\n",
              "      <td>11</td>\n",
              "    </tr>\n",
              "  </tbody>\n",
              "</table>\n",
              "</div>\n",
              "      <button class=\"colab-df-convert\" onclick=\"convertToInteractive('df-fb9d46a8-191d-469e-a76f-cb7172d3049c')\"\n",
              "              title=\"Convert this dataframe to an interactive table.\"\n",
              "              style=\"display:none;\">\n",
              "        \n",
              "  <svg xmlns=\"http://www.w3.org/2000/svg\" height=\"24px\"viewBox=\"0 0 24 24\"\n",
              "       width=\"24px\">\n",
              "    <path d=\"M0 0h24v24H0V0z\" fill=\"none\"/>\n",
              "    <path d=\"M18.56 5.44l.94 2.06.94-2.06 2.06-.94-2.06-.94-.94-2.06-.94 2.06-2.06.94zm-11 1L8.5 8.5l.94-2.06 2.06-.94-2.06-.94L8.5 2.5l-.94 2.06-2.06.94zm10 10l.94 2.06.94-2.06 2.06-.94-2.06-.94-.94-2.06-.94 2.06-2.06.94z\"/><path d=\"M17.41 7.96l-1.37-1.37c-.4-.4-.92-.59-1.43-.59-.52 0-1.04.2-1.43.59L10.3 9.45l-7.72 7.72c-.78.78-.78 2.05 0 2.83L4 21.41c.39.39.9.59 1.41.59.51 0 1.02-.2 1.41-.59l7.78-7.78 2.81-2.81c.8-.78.8-2.07 0-2.86zM5.41 20L4 18.59l7.72-7.72 1.47 1.35L5.41 20z\"/>\n",
              "  </svg>\n",
              "      </button>\n",
              "      \n",
              "  <style>\n",
              "    .colab-df-container {\n",
              "      display:flex;\n",
              "      flex-wrap:wrap;\n",
              "      gap: 12px;\n",
              "    }\n",
              "\n",
              "    .colab-df-convert {\n",
              "      background-color: #E8F0FE;\n",
              "      border: none;\n",
              "      border-radius: 50%;\n",
              "      cursor: pointer;\n",
              "      display: none;\n",
              "      fill: #1967D2;\n",
              "      height: 32px;\n",
              "      padding: 0 0 0 0;\n",
              "      width: 32px;\n",
              "    }\n",
              "\n",
              "    .colab-df-convert:hover {\n",
              "      background-color: #E2EBFA;\n",
              "      box-shadow: 0px 1px 2px rgba(60, 64, 67, 0.3), 0px 1px 3px 1px rgba(60, 64, 67, 0.15);\n",
              "      fill: #174EA6;\n",
              "    }\n",
              "\n",
              "    [theme=dark] .colab-df-convert {\n",
              "      background-color: #3B4455;\n",
              "      fill: #D2E3FC;\n",
              "    }\n",
              "\n",
              "    [theme=dark] .colab-df-convert:hover {\n",
              "      background-color: #434B5C;\n",
              "      box-shadow: 0px 1px 3px 1px rgba(0, 0, 0, 0.15);\n",
              "      filter: drop-shadow(0px 1px 2px rgba(0, 0, 0, 0.3));\n",
              "      fill: #FFFFFF;\n",
              "    }\n",
              "  </style>\n",
              "\n",
              "      <script>\n",
              "        const buttonEl =\n",
              "          document.querySelector('#df-fb9d46a8-191d-469e-a76f-cb7172d3049c button.colab-df-convert');\n",
              "        buttonEl.style.display =\n",
              "          google.colab.kernel.accessAllowed ? 'block' : 'none';\n",
              "\n",
              "        async function convertToInteractive(key) {\n",
              "          const element = document.querySelector('#df-fb9d46a8-191d-469e-a76f-cb7172d3049c');\n",
              "          const dataTable =\n",
              "            await google.colab.kernel.invokeFunction('convertToInteractive',\n",
              "                                                     [key], {});\n",
              "          if (!dataTable) return;\n",
              "\n",
              "          const docLinkHtml = 'Like what you see? Visit the ' +\n",
              "            '<a target=\"_blank\" href=https://colab.research.google.com/notebooks/data_table.ipynb>data table notebook</a>'\n",
              "            + ' to learn more about interactive tables.';\n",
              "          element.innerHTML = '';\n",
              "          dataTable['output_type'] = 'display_data';\n",
              "          await google.colab.output.renderOutput(dataTable, element);\n",
              "          const docLink = document.createElement('div');\n",
              "          docLink.innerHTML = docLinkHtml;\n",
              "          element.appendChild(docLink);\n",
              "        }\n",
              "      </script>\n",
              "    </div>\n",
              "  </div>\n",
              "  "
            ]
          },
          "metadata": {},
          "execution_count": 139
        }
      ]
    },
    {
      "cell_type": "code",
      "source": [
        "plt.figure(figsize=(12, 10))\n",
        "\n",
        "sns.scatterplot(x='day_of_month', y=\"number_of_ticket\", data=dataset)"
      ],
      "metadata": {
        "id": "RfLKRysRb1P9",
        "colab": {
          "base_uri": "https://localhost:8080/",
          "height": 623
        },
        "outputId": "1ea03478-8613-4d8d-9783-7ecf00c899a6"
      },
      "execution_count": 140,
      "outputs": [
        {
          "output_type": "execute_result",
          "data": {
            "text/plain": [
              "<Axes: xlabel='day_of_month', ylabel='number_of_ticket'>"
            ]
          },
          "metadata": {},
          "execution_count": 140
        },
        {
          "output_type": "display_data",
          "data": {
            "text/plain": [
              "<Figure size 864x720 with 1 Axes>"
            ],
            "image/png": "[encoded data removed]"
          },
          "metadata": {
            "needs_background": "light"
          }
        }
      ]
    },
    {
      "cell_type": "markdown",
      "source": [
        "### Summary \n",
        "We can see that there is the gap between 5 to 11 in the day of month. We can assume that there is official holiday of public transport between these days.\n",
        "We can also say that the number of tickets in all the days of month are same."
      ],
      "metadata": {
        "id": "-JgrQlgnlm9g"
      }
    },
    {
      "cell_type": "code",
      "source": [
        "plt.figure(figsize=(12, 10))\n",
        "\n",
        "sns.scatterplot(x='hour', y=\"number_of_ticket\", data=dataset)"
      ],
      "metadata": {
        "id": "PMRzHLjxb99G",
        "colab": {
          "base_uri": "https://localhost:8080/",
          "height": 623
        },
        "outputId": "45688c55-1029-460c-ca80-5b32a58ff79e"
      },
      "execution_count": 141,
      "outputs": [
        {
          "output_type": "execute_result",
          "data": {
            "text/plain": [
              "<Axes: xlabel='hour', ylabel='number_of_ticket'>"
            ]
          },
          "metadata": {},
          "execution_count": 141
        },
        {
          "output_type": "display_data",
          "data": {
            "text/plain": [
              "<Figure size 864x720 with 1 Axes>"
            ],
            "image/png": "[encoded data removed]"
          },
          "metadata": {
            "needs_background": "light"
          }
        }
      ]
    },
    {
      "cell_type": "markdown",
      "source": [
        "* We can see that most of the tickets were sold at 7 AM & 8AM and that seems true because in the morning most of the people go to work and office.\n",
        "* From the above we can see that there is no ride between 12PM to 5:30PM. "
      ],
      "metadata": {
        "id": "G1ld6yjlmQp2"
      }
    },
    {
      "cell_type": "code",
      "source": [
        "dataset_new[\"travel_time\"] = dataset_new[\"travel_time\"].str.split(':').apply(lambda x: int(x[0]) + int(x[1])/60)"
      ],
      "metadata": {
        "id": "vG0YESJHcHns"
      },
      "execution_count": 142,
      "outputs": []
    },
    {
      "cell_type": "markdown",
      "source": [
        "* From the above code we took a column named travel_time from the dataset_new and applied a set of operations to it. Specifically, split each string value in the travel_time column by the \":\" separator using the str.split(':') method.\n",
        "* The resulting output is a list with two elements, the hours and minutes of the travel time. For example, \"2:30\" would be split into the list [\"2\", \"30\"].\n",
        "* Then, a lambda function is applied to this list using the apply() method. The lambda function takes the first element of the list, which represents the hours, and converts it to an integer using the int() function. It then takes the second element of the list, which represents the minutes, and converts it to an integer as well. It divides the minutes by 60 and adds the result to the hours to get the total travel time in hours.\n",
        "* Finally, resulting value is assigned to a new column in the dataset_new named travel_time. The new column represents the total travel time in hours."
      ],
      "metadata": {
        "id": "HgJEkHboAY2g"
      }
    },
    {
      "cell_type": "code",
      "source": [
        "dataset_new['period'] = np.nan\n",
        "dataset_new.loc[dataset_new.travel_time < 7, 'period'] = 'em'\n",
        "dataset_new.loc[(dataset_new.travel_time >= 7) & (dataset_new.travel_time < 12), 'period'] = 'am'\n",
        "dataset_new.loc[(dataset_new.travel_time >= 12) & (dataset_new.travel_time < 15), 'period'] = 'mid'\n",
        "dataset_new.loc[(dataset_new.travel_time >= 15) & (dataset_new.travel_time < 19), 'period'] = 'eve'\n",
        "dataset_new.loc[(dataset_new.travel_time >= 19) & (dataset_new.travel_time <= 24), 'period'] = 'pm'\n",
        "pcount = dict(dataset_new['period'].value_counts())\n",
        "pcount\n",
        "\n",
        "dataset_new['hourly_travelers'] = np.log1p(dataset_new['period'].map(pcount))\n",
        "\n",
        "dcount = dict(dataset_new[\"day_of_year\"].value_counts())\n",
        "dataset_new[\"daily_travelers\"] = np.log1p(dataset_new[\"day_of_year\"].map(dcount))\n",
        "dataset_new.head()"
      ],
      "metadata": {
        "id": "44zRA0ZFnRl5",
        "colab": {
          "base_uri": "https://localhost:8080/",
          "height": 473
        },
        "outputId": "19f478c0-1af2-4208-c865-b10157bc8dba"
      },
      "execution_count": 143,
      "outputs": [
        {
          "output_type": "execute_result",
          "data": {
            "text/plain": [
              "   ride_id travel_date  travel_time travel_from car_type  max_capacity  \\\n",
              "0     1442    17-10-17     7.250000      Migori      Bus            49   \n",
              "1     5437    19-11-17     7.200000      Migori      Bus            49   \n",
              "2     5710    26-11-17     7.083333      Keroka      Bus            49   \n",
              "3     5777    27-11-17     7.166667    Homa Bay      Bus            49   \n",
              "4     5778    27-11-17     7.200000      Migori      Bus            49   \n",
              "\n",
              "   number_of_ticket                date  day_of_week  day_of_year  ...  \\\n",
              "0                 1 2017-10-17 07:15:00            1          290  ...   \n",
              "1                 1 2017-11-19 07:12:00            6          323  ...   \n",
              "2                 1 2017-11-26 07:05:00            6          330  ...   \n",
              "3                 5 2017-11-27 07:10:00            0          331  ...   \n",
              "4                31 2017-11-27 07:12:00            0          331  ...   \n",
              "\n",
              "   year_woy hour  minute  is_weekend  year  quarter  month  period  \\\n",
              "0    201742    7      15           0  2017        4     10      am   \n",
              "1    201746    7      12           1  2017        4     11      am   \n",
              "2    201747    7       5           1  2017        4     11      am   \n",
              "3    201748    7      10           0  2017        4     11      am   \n",
              "4    201748    7      12           0  2017        4     11      am   \n",
              "\n",
              "  hourly_travelers  daily_travelers  \n",
              "0         8.512382         0.693147  \n",
              "1         8.512382         0.693147  \n",
              "2         8.512382         0.693147  \n",
              "3         8.512382         3.871201  \n",
              "4         8.512382         3.871201  \n",
              "\n",
              "[5 rows x 21 columns]"
            ],
            "text/html": [
              "\n",
              "  <div id=\"df-d9eb7dd8-db68-48a5-b01d-bcd40b7eb6ec\">\n",
              "    <div class=\"colab-df-container\">\n",
              "      <div>\n",
              "<style scoped>\n",
              "    .dataframe tbody tr th:only-of-type {\n",
              "        vertical-align: middle;\n",
              "    }\n",
              "\n",
              "    .dataframe tbody tr th {\n",
              "        vertical-align: top;\n",
              "    }\n",
              "\n",
              "    .dataframe thead th {\n",
              "        text-align: right;\n",
              "    }\n",
              "</style>\n",
              "<table border=\"1\" class=\"dataframe\">\n",
              "  <thead>\n",
              "    <tr style=\"text-align: right;\">\n",
              "      <th></th>\n",
              "      <th>ride_id</th>\n",
              "      <th>travel_date</th>\n",
              "      <th>travel_time</th>\n",
              "      <th>travel_from</th>\n",
              "      <th>car_type</th>\n",
              "      <th>max_capacity</th>\n",
              "      <th>number_of_ticket</th>\n",
              "      <th>date</th>\n",
              "      <th>day_of_week</th>\n",
              "      <th>day_of_year</th>\n",
              "      <th>...</th>\n",
              "      <th>year_woy</th>\n",
              "      <th>hour</th>\n",
              "      <th>minute</th>\n",
              "      <th>is_weekend</th>\n",
              "      <th>year</th>\n",
              "      <th>quarter</th>\n",
              "      <th>month</th>\n",
              "      <th>period</th>\n",
              "      <th>hourly_travelers</th>\n",
              "      <th>daily_travelers</th>\n",
              "    </tr>\n",
              "  </thead>\n",
              "  <tbody>\n",
              "    <tr>\n",
              "      <th>0</th>\n",
              "      <td>1442</td>\n",
              "      <td>17-10-17</td>\n",
              "      <td>7.250000</td>\n",
              "      <td>Migori</td>\n",
              "      <td>Bus</td>\n",
              "      <td>49</td>\n",
              "      <td>1</td>\n",
              "      <td>2017-10-17 07:15:00</td>\n",
              "      <td>1</td>\n",
              "      <td>290</td>\n",
              "      <td>...</td>\n",
              "      <td>201742</td>\n",
              "      <td>7</td>\n",
              "      <td>15</td>\n",
              "      <td>0</td>\n",
              "      <td>2017</td>\n",
              "      <td>4</td>\n",
              "      <td>10</td>\n",
              "      <td>am</td>\n",
              "      <td>8.512382</td>\n",
              "      <td>0.693147</td>\n",
              "    </tr>\n",
              "    <tr>\n",
              "      <th>1</th>\n",
              "      <td>5437</td>\n",
              "      <td>19-11-17</td>\n",
              "      <td>7.200000</td>\n",
              "      <td>Migori</td>\n",
              "      <td>Bus</td>\n",
              "      <td>49</td>\n",
              "      <td>1</td>\n",
              "      <td>2017-11-19 07:12:00</td>\n",
              "      <td>6</td>\n",
              "      <td>323</td>\n",
              "      <td>...</td>\n",
              "      <td>201746</td>\n",
              "      <td>7</td>\n",
              "      <td>12</td>\n",
              "      <td>1</td>\n",
              "      <td>2017</td>\n",
              "      <td>4</td>\n",
              "      <td>11</td>\n",
              "      <td>am</td>\n",
              "      <td>8.512382</td>\n",
              "      <td>0.693147</td>\n",
              "    </tr>\n",
              "    <tr>\n",
              "      <th>2</th>\n",
              "      <td>5710</td>\n",
              "      <td>26-11-17</td>\n",
              "      <td>7.083333</td>\n",
              "      <td>Keroka</td>\n",
              "      <td>Bus</td>\n",
              "      <td>49</td>\n",
              "      <td>1</td>\n",
              "      <td>2017-11-26 07:05:00</td>\n",
              "      <td>6</td>\n",
              "      <td>330</td>\n",
              "      <td>...</td>\n",
              "      <td>201747</td>\n",
              "      <td>7</td>\n",
              "      <td>5</td>\n",
              "      <td>1</td>\n",
              "      <td>2017</td>\n",
              "      <td>4</td>\n",
              "      <td>11</td>\n",
              "      <td>am</td>\n",
              "      <td>8.512382</td>\n",
              "      <td>0.693147</td>\n",
              "    </tr>\n",
              "    <tr>\n",
              "      <th>3</th>\n",
              "      <td>5777</td>\n",
              "      <td>27-11-17</td>\n",
              "      <td>7.166667</td>\n",
              "      <td>Homa Bay</td>\n",
              "      <td>Bus</td>\n",
              "      <td>49</td>\n",
              "      <td>5</td>\n",
              "      <td>2017-11-27 07:10:00</td>\n",
              "      <td>0</td>\n",
              "      <td>331</td>\n",
              "      <td>...</td>\n",
              "      <td>201748</td>\n",
              "      <td>7</td>\n",
              "      <td>10</td>\n",
              "      <td>0</td>\n",
              "      <td>2017</td>\n",
              "      <td>4</td>\n",
              "      <td>11</td>\n",
              "      <td>am</td>\n",
              "      <td>8.512382</td>\n",
              "      <td>3.871201</td>\n",
              "    </tr>\n",
              "    <tr>\n",
              "      <th>4</th>\n",
              "      <td>5778</td>\n",
              "      <td>27-11-17</td>\n",
              "      <td>7.200000</td>\n",
              "      <td>Migori</td>\n",
              "      <td>Bus</td>\n",
              "      <td>49</td>\n",
              "      <td>31</td>\n",
              "      <td>2017-11-27 07:12:00</td>\n",
              "      <td>0</td>\n",
              "      <td>331</td>\n",
              "      <td>...</td>\n",
              "      <td>201748</td>\n",
              "      <td>7</td>\n",
              "      <td>12</td>\n",
              "      <td>0</td>\n",
              "      <td>2017</td>\n",
              "      <td>4</td>\n",
              "      <td>11</td>\n",
              "      <td>am</td>\n",
              "      <td>8.512382</td>\n",
              "      <td>3.871201</td>\n",
              "    </tr>\n",
              "  </tbody>\n",
              "</table>\n",
              "<p>5 rows × 21 columns</p>\n",
              "</div>\n",
              "      <button class=\"colab-df-convert\" onclick=\"convertToInteractive('df-d9eb7dd8-db68-48a5-b01d-bcd40b7eb6ec')\"\n",
              "              title=\"Convert this dataframe to an interactive table.\"\n",
              "              style=\"display:none;\">\n",
              "        \n",
              "  <svg xmlns=\"http://www.w3.org/2000/svg\" height=\"24px\"viewBox=\"0 0 24 24\"\n",
              "       width=\"24px\">\n",
              "    <path d=\"M0 0h24v24H0V0z\" fill=\"none\"/>\n",
              "    <path d=\"M18.56 5.44l.94 2.06.94-2.06 2.06-.94-2.06-.94-.94-2.06-.94 2.06-2.06.94zm-11 1L8.5 8.5l.94-2.06 2.06-.94-2.06-.94L8.5 2.5l-.94 2.06-2.06.94zm10 10l.94 2.06.94-2.06 2.06-.94-2.06-.94-.94-2.06-.94 2.06-2.06.94z\"/><path d=\"M17.41 7.96l-1.37-1.37c-.4-.4-.92-.59-1.43-.59-.52 0-1.04.2-1.43.59L10.3 9.45l-7.72 7.72c-.78.78-.78 2.05 0 2.83L4 21.41c.39.39.9.59 1.41.59.51 0 1.02-.2 1.41-.59l7.78-7.78 2.81-2.81c.8-.78.8-2.07 0-2.86zM5.41 20L4 18.59l7.72-7.72 1.47 1.35L5.41 20z\"/>\n",
              "  </svg>\n",
              "      </button>\n",
              "      \n",
              "  <style>\n",
              "    .colab-df-container {\n",
              "      display:flex;\n",
              "      flex-wrap:wrap;\n",
              "      gap: 12px;\n",
              "    }\n",
              "\n",
              "    .colab-df-convert {\n",
              "      background-color: #E8F0FE;\n",
              "      border: none;\n",
              "      border-radius: 50%;\n",
              "      cursor: pointer;\n",
              "      display: none;\n",
              "      fill: #1967D2;\n",
              "      height: 32px;\n",
              "      padding: 0 0 0 0;\n",
              "      width: 32px;\n",
              "    }\n",
              "\n",
              "    .colab-df-convert:hover {\n",
              "      background-color: #E2EBFA;\n",
              "      box-shadow: 0px 1px 2px rgba(60, 64, 67, 0.3), 0px 1px 3px 1px rgba(60, 64, 67, 0.15);\n",
              "      fill: #174EA6;\n",
              "    }\n",
              "\n",
              "    [theme=dark] .colab-df-convert {\n",
              "      background-color: #3B4455;\n",
              "      fill: #D2E3FC;\n",
              "    }\n",
              "\n",
              "    [theme=dark] .colab-df-convert:hover {\n",
              "      background-color: #434B5C;\n",
              "      box-shadow: 0px 1px 3px 1px rgba(0, 0, 0, 0.15);\n",
              "      filter: drop-shadow(0px 1px 2px rgba(0, 0, 0, 0.3));\n",
              "      fill: #FFFFFF;\n",
              "    }\n",
              "  </style>\n",
              "\n",
              "      <script>\n",
              "        const buttonEl =\n",
              "          document.querySelector('#df-d9eb7dd8-db68-48a5-b01d-bcd40b7eb6ec button.colab-df-convert');\n",
              "        buttonEl.style.display =\n",
              "          google.colab.kernel.accessAllowed ? 'block' : 'none';\n",
              "\n",
              "        async function convertToInteractive(key) {\n",
              "          const element = document.querySelector('#df-d9eb7dd8-db68-48a5-b01d-bcd40b7eb6ec');\n",
              "          const dataTable =\n",
              "            await google.colab.kernel.invokeFunction('convertToInteractive',\n",
              "                                                     [key], {});\n",
              "          if (!dataTable) return;\n",
              "\n",
              "          const docLinkHtml = 'Like what you see? Visit the ' +\n",
              "            '<a target=\"_blank\" href=https://colab.research.google.com/notebooks/data_table.ipynb>data table notebook</a>'\n",
              "            + ' to learn more about interactive tables.';\n",
              "          element.innerHTML = '';\n",
              "          dataTable['output_type'] = 'display_data';\n",
              "          await google.colab.output.renderOutput(dataTable, element);\n",
              "          const docLink = document.createElement('div');\n",
              "          docLink.innerHTML = docLinkHtml;\n",
              "          element.appendChild(docLink);\n",
              "        }\n",
              "      </script>\n",
              "    </div>\n",
              "  </div>\n",
              "  "
            ]
          },
          "metadata": {},
          "execution_count": 143
        }
      ]
    },
    {
      "cell_type": "code",
      "source": [
        "dataset_new.columns"
      ],
      "metadata": {
        "id": "VvDyAa0XeK7Y",
        "colab": {
          "base_uri": "https://localhost:8080/"
        },
        "outputId": "95b8efa1-24d0-4170-f4f9-23b5a0729c76"
      },
      "execution_count": 144,
      "outputs": [
        {
          "output_type": "execute_result",
          "data": {
            "text/plain": [
              "Index(['ride_id', 'travel_date', 'travel_time', 'travel_from', 'car_type',\n",
              "       'max_capacity', 'number_of_ticket', 'date', 'day_of_week',\n",
              "       'day_of_year', 'day_of_month', 'year_woy', 'hour', 'minute',\n",
              "       'is_weekend', 'year', 'quarter', 'month', 'period', 'hourly_travelers',\n",
              "       'daily_travelers'],\n",
              "      dtype='object')"
            ]
          },
          "metadata": {},
          "execution_count": 144
        }
      ]
    },
    {
      "cell_type": "code",
      "source": [
        "new_cols = ['day_of_year', 'daily_travelers', 'minute', 'day_of_month', 'hourly_travelers', 'is_weekend', 'day_of_week']"
      ],
      "metadata": {
        "id": "LZocFEK0pZ1k"
      },
      "execution_count": 145,
      "outputs": []
    },
    {
      "cell_type": "code",
      "source": [
        "transport_dataset= dataset_new.copy()"
      ],
      "metadata": {
        "id": "hspGFcfjvCwU"
      },
      "execution_count": 146,
      "outputs": []
    },
    {
      "cell_type": "code",
      "source": [
        "transport_dataset.head()"
      ],
      "metadata": {
        "id": "ufMvRBfJw6Fo",
        "colab": {
          "base_uri": "https://localhost:8080/",
          "height": 473
        },
        "outputId": "1290e59f-9f9d-4d76-992b-0cce61893909"
      },
      "execution_count": 147,
      "outputs": [
        {
          "output_type": "execute_result",
          "data": {
            "text/plain": [
              "   ride_id travel_date  travel_time travel_from car_type  max_capacity  \\\n",
              "0     1442    17-10-17     7.250000      Migori      Bus            49   \n",
              "1     5437    19-11-17     7.200000      Migori      Bus            49   \n",
              "2     5710    26-11-17     7.083333      Keroka      Bus            49   \n",
              "3     5777    27-11-17     7.166667    Homa Bay      Bus            49   \n",
              "4     5778    27-11-17     7.200000      Migori      Bus            49   \n",
              "\n",
              "   number_of_ticket                date  day_of_week  day_of_year  ...  \\\n",
              "0                 1 2017-10-17 07:15:00            1          290  ...   \n",
              "1                 1 2017-11-19 07:12:00            6          323  ...   \n",
              "2                 1 2017-11-26 07:05:00            6          330  ...   \n",
              "3                 5 2017-11-27 07:10:00            0          331  ...   \n",
              "4                31 2017-11-27 07:12:00            0          331  ...   \n",
              "\n",
              "   year_woy hour  minute  is_weekend  year  quarter  month  period  \\\n",
              "0    201742    7      15           0  2017        4     10      am   \n",
              "1    201746    7      12           1  2017        4     11      am   \n",
              "2    201747    7       5           1  2017        4     11      am   \n",
              "3    201748    7      10           0  2017        4     11      am   \n",
              "4    201748    7      12           0  2017        4     11      am   \n",
              "\n",
              "  hourly_travelers  daily_travelers  \n",
              "0         8.512382         0.693147  \n",
              "1         8.512382         0.693147  \n",
              "2         8.512382         0.693147  \n",
              "3         8.512382         3.871201  \n",
              "4         8.512382         3.871201  \n",
              "\n",
              "[5 rows x 21 columns]"
            ],
            "text/html": [
              "\n",
              "  <div id=\"df-26a3e044-5b61-48e6-a9f5-cb2a9fcba993\">\n",
              "    <div class=\"colab-df-container\">\n",
              "      <div>\n",
              "<style scoped>\n",
              "    .dataframe tbody tr th:only-of-type {\n",
              "        vertical-align: middle;\n",
              "    }\n",
              "\n",
              "    .dataframe tbody tr th {\n",
              "        vertical-align: top;\n",
              "    }\n",
              "\n",
              "    .dataframe thead th {\n",
              "        text-align: right;\n",
              "    }\n",
              "</style>\n",
              "<table border=\"1\" class=\"dataframe\">\n",
              "  <thead>\n",
              "    <tr style=\"text-align: right;\">\n",
              "      <th></th>\n",
              "      <th>ride_id</th>\n",
              "      <th>travel_date</th>\n",
              "      <th>travel_time</th>\n",
              "      <th>travel_from</th>\n",
              "      <th>car_type</th>\n",
              "      <th>max_capacity</th>\n",
              "      <th>number_of_ticket</th>\n",
              "      <th>date</th>\n",
              "      <th>day_of_week</th>\n",
              "      <th>day_of_year</th>\n",
              "      <th>...</th>\n",
              "      <th>year_woy</th>\n",
              "      <th>hour</th>\n",
              "      <th>minute</th>\n",
              "      <th>is_weekend</th>\n",
              "      <th>year</th>\n",
              "      <th>quarter</th>\n",
              "      <th>month</th>\n",
              "      <th>period</th>\n",
              "      <th>hourly_travelers</th>\n",
              "      <th>daily_travelers</th>\n",
              "    </tr>\n",
              "  </thead>\n",
              "  <tbody>\n",
              "    <tr>\n",
              "      <th>0</th>\n",
              "      <td>1442</td>\n",
              "      <td>17-10-17</td>\n",
              "      <td>7.250000</td>\n",
              "      <td>Migori</td>\n",
              "      <td>Bus</td>\n",
              "      <td>49</td>\n",
              "      <td>1</td>\n",
              "      <td>2017-10-17 07:15:00</td>\n",
              "      <td>1</td>\n",
              "      <td>290</td>\n",
              "      <td>...</td>\n",
              "      <td>201742</td>\n",
              "      <td>7</td>\n",
              "      <td>15</td>\n",
              "      <td>0</td>\n",
              "      <td>2017</td>\n",
              "      <td>4</td>\n",
              "      <td>10</td>\n",
              "      <td>am</td>\n",
              "      <td>8.512382</td>\n",
              "      <td>0.693147</td>\n",
              "    </tr>\n",
              "    <tr>\n",
              "      <th>1</th>\n",
              "      <td>5437</td>\n",
              "      <td>19-11-17</td>\n",
              "      <td>7.200000</td>\n",
              "      <td>Migori</td>\n",
              "      <td>Bus</td>\n",
              "      <td>49</td>\n",
              "      <td>1</td>\n",
              "      <td>2017-11-19 07:12:00</td>\n",
              "      <td>6</td>\n",
              "      <td>323</td>\n",
              "      <td>...</td>\n",
              "      <td>201746</td>\n",
              "      <td>7</td>\n",
              "      <td>12</td>\n",
              "      <td>1</td>\n",
              "      <td>2017</td>\n",
              "      <td>4</td>\n",
              "      <td>11</td>\n",
              "      <td>am</td>\n",
              "      <td>8.512382</td>\n",
              "      <td>0.693147</td>\n",
              "    </tr>\n",
              "    <tr>\n",
              "      <th>2</th>\n",
              "      <td>5710</td>\n",
              "      <td>26-11-17</td>\n",
              "      <td>7.083333</td>\n",
              "      <td>Keroka</td>\n",
              "      <td>Bus</td>\n",
              "      <td>49</td>\n",
              "      <td>1</td>\n",
              "      <td>2017-11-26 07:05:00</td>\n",
              "      <td>6</td>\n",
              "      <td>330</td>\n",
              "      <td>...</td>\n",
              "      <td>201747</td>\n",
              "      <td>7</td>\n",
              "      <td>5</td>\n",
              "      <td>1</td>\n",
              "      <td>2017</td>\n",
              "      <td>4</td>\n",
              "      <td>11</td>\n",
              "      <td>am</td>\n",
              "      <td>8.512382</td>\n",
              "      <td>0.693147</td>\n",
              "    </tr>\n",
              "    <tr>\n",
              "      <th>3</th>\n",
              "      <td>5777</td>\n",
              "      <td>27-11-17</td>\n",
              "      <td>7.166667</td>\n",
              "      <td>Homa Bay</td>\n",
              "      <td>Bus</td>\n",
              "      <td>49</td>\n",
              "      <td>5</td>\n",
              "      <td>2017-11-27 07:10:00</td>\n",
              "      <td>0</td>\n",
              "      <td>331</td>\n",
              "      <td>...</td>\n",
              "      <td>201748</td>\n",
              "      <td>7</td>\n",
              "      <td>10</td>\n",
              "      <td>0</td>\n",
              "      <td>2017</td>\n",
              "      <td>4</td>\n",
              "      <td>11</td>\n",
              "      <td>am</td>\n",
              "      <td>8.512382</td>\n",
              "      <td>3.871201</td>\n",
              "    </tr>\n",
              "    <tr>\n",
              "      <th>4</th>\n",
              "      <td>5778</td>\n",
              "      <td>27-11-17</td>\n",
              "      <td>7.200000</td>\n",
              "      <td>Migori</td>\n",
              "      <td>Bus</td>\n",
              "      <td>49</td>\n",
              "      <td>31</td>\n",
              "      <td>2017-11-27 07:12:00</td>\n",
              "      <td>0</td>\n",
              "      <td>331</td>\n",
              "      <td>...</td>\n",
              "      <td>201748</td>\n",
              "      <td>7</td>\n",
              "      <td>12</td>\n",
              "      <td>0</td>\n",
              "      <td>2017</td>\n",
              "      <td>4</td>\n",
              "      <td>11</td>\n",
              "      <td>am</td>\n",
              "      <td>8.512382</td>\n",
              "      <td>3.871201</td>\n",
              "    </tr>\n",
              "  </tbody>\n",
              "</table>\n",
              "<p>5 rows × 21 columns</p>\n",
              "</div>\n",
              "      <button class=\"colab-df-convert\" onclick=\"convertToInteractive('df-26a3e044-5b61-48e6-a9f5-cb2a9fcba993')\"\n",
              "              title=\"Convert this dataframe to an interactive table.\"\n",
              "              style=\"display:none;\">\n",
              "        \n",
              "  <svg xmlns=\"http://www.w3.org/2000/svg\" height=\"24px\"viewBox=\"0 0 24 24\"\n",
              "       width=\"24px\">\n",
              "    <path d=\"M0 0h24v24H0V0z\" fill=\"none\"/>\n",
              "    <path d=\"M18.56 5.44l.94 2.06.94-2.06 2.06-.94-2.06-.94-.94-2.06-.94 2.06-2.06.94zm-11 1L8.5 8.5l.94-2.06 2.06-.94-2.06-.94L8.5 2.5l-.94 2.06-2.06.94zm10 10l.94 2.06.94-2.06 2.06-.94-2.06-.94-.94-2.06-.94 2.06-2.06.94z\"/><path d=\"M17.41 7.96l-1.37-1.37c-.4-.4-.92-.59-1.43-.59-.52 0-1.04.2-1.43.59L10.3 9.45l-7.72 7.72c-.78.78-.78 2.05 0 2.83L4 21.41c.39.39.9.59 1.41.59.51 0 1.02-.2 1.41-.59l7.78-7.78 2.81-2.81c.8-.78.8-2.07 0-2.86zM5.41 20L4 18.59l7.72-7.72 1.47 1.35L5.41 20z\"/>\n",
              "  </svg>\n",
              "      </button>\n",
              "      \n",
              "  <style>\n",
              "    .colab-df-container {\n",
              "      display:flex;\n",
              "      flex-wrap:wrap;\n",
              "      gap: 12px;\n",
              "    }\n",
              "\n",
              "    .colab-df-convert {\n",
              "      background-color: #E8F0FE;\n",
              "      border: none;\n",
              "      border-radius: 50%;\n",
              "      cursor: pointer;\n",
              "      display: none;\n",
              "      fill: #1967D2;\n",
              "      height: 32px;\n",
              "      padding: 0 0 0 0;\n",
              "      width: 32px;\n",
              "    }\n",
              "\n",
              "    .colab-df-convert:hover {\n",
              "      background-color: #E2EBFA;\n",
              "      box-shadow: 0px 1px 2px rgba(60, 64, 67, 0.3), 0px 1px 3px 1px rgba(60, 64, 67, 0.15);\n",
              "      fill: #174EA6;\n",
              "    }\n",
              "\n",
              "    [theme=dark] .colab-df-convert {\n",
              "      background-color: #3B4455;\n",
              "      fill: #D2E3FC;\n",
              "    }\n",
              "\n",
              "    [theme=dark] .colab-df-convert:hover {\n",
              "      background-color: #434B5C;\n",
              "      box-shadow: 0px 1px 3px 1px rgba(0, 0, 0, 0.15);\n",
              "      filter: drop-shadow(0px 1px 2px rgba(0, 0, 0, 0.3));\n",
              "      fill: #FFFFFF;\n",
              "    }\n",
              "  </style>\n",
              "\n",
              "      <script>\n",
              "        const buttonEl =\n",
              "          document.querySelector('#df-26a3e044-5b61-48e6-a9f5-cb2a9fcba993 button.colab-df-convert');\n",
              "        buttonEl.style.display =\n",
              "          google.colab.kernel.accessAllowed ? 'block' : 'none';\n",
              "\n",
              "        async function convertToInteractive(key) {\n",
              "          const element = document.querySelector('#df-26a3e044-5b61-48e6-a9f5-cb2a9fcba993');\n",
              "          const dataTable =\n",
              "            await google.colab.kernel.invokeFunction('convertToInteractive',\n",
              "                                                     [key], {});\n",
              "          if (!dataTable) return;\n",
              "\n",
              "          const docLinkHtml = 'Like what you see? Visit the ' +\n",
              "            '<a target=\"_blank\" href=https://colab.research.google.com/notebooks/data_table.ipynb>data table notebook</a>'\n",
              "            + ' to learn more about interactive tables.';\n",
              "          element.innerHTML = '';\n",
              "          dataTable['output_type'] = 'display_data';\n",
              "          await google.colab.output.renderOutput(dataTable, element);\n",
              "          const docLink = document.createElement('div');\n",
              "          docLink.innerHTML = docLinkHtml;\n",
              "          element.appendChild(docLink);\n",
              "        }\n",
              "      </script>\n",
              "    </div>\n",
              "  </div>\n",
              "  "
            ]
          },
          "metadata": {},
          "execution_count": 147
        }
      ]
    },
    {
      "cell_type": "code",
      "source": [
        "transport_dataset.shape"
      ],
      "metadata": {
        "id": "Au6tPNR1w5wZ",
        "colab": {
          "base_uri": "https://localhost:8080/"
        },
        "outputId": "9e5abe84-a1af-470e-a3e7-7df532ccfd85"
      },
      "execution_count": 148,
      "outputs": [
        {
          "output_type": "execute_result",
          "data": {
            "text/plain": [
              "(6249, 21)"
            ]
          },
          "metadata": {},
          "execution_count": 148
        }
      ]
    },
    {
      "cell_type": "code",
      "source": [
        "transport_dataset.month.value_counts()"
      ],
      "metadata": {
        "id": "1O7VQjkon9sR",
        "colab": {
          "base_uri": "https://localhost:8080/"
        },
        "outputId": "b6f8603d-4941-4f2d-e43b-1b514f8af346"
      },
      "execution_count": 149,
      "outputs": [
        {
          "output_type": "execute_result",
          "data": {
            "text/plain": [
              "12    1050\n",
              "2      985\n",
              "1      896\n",
              "3      853\n",
              "4      600\n",
              "11     414\n",
              "9      262\n",
              "7      254\n",
              "8      251\n",
              "10     247\n",
              "6      225\n",
              "5      212\n",
              "Name: month, dtype: int64"
            ]
          },
          "metadata": {},
          "execution_count": 149
        }
      ]
    },
    {
      "cell_type": "code",
      "source": [
        "dict_cov = {12:1, 2:1, 1:1, 2:1, 4:2, 11:2, 9:3, 7:3, 8:3, 10:3, 6:3, 5:3}\n",
        "transport_dataset['month'].replace(dict_cov, inplace=True)"
      ],
      "metadata": {
        "id": "AUXx238ooq0b"
      },
      "execution_count": 150,
      "outputs": []
    },
    {
      "cell_type": "markdown",
      "source": [
        "* Above code replaces the values of the month column in the transport_dataset based on the key-value pairs in the dict_cov dictionary. The dict_cov dictionary maps the values of the month column to new values. For example, the value 12 is mapped to 1, the value 2 is also mapped to 1.\n"
      ],
      "metadata": {
        "id": "Q5lkcEhUB4Bh"
      }
    },
    {
      "cell_type": "code",
      "source": [
        "transport_dataset.month.value_counts()"
      ],
      "metadata": {
        "id": "S1qczu6_pKPO",
        "colab": {
          "base_uri": "https://localhost:8080/"
        },
        "outputId": "38ed888d-ed97-4402-bc71-784b17fbceb0"
      },
      "execution_count": 151,
      "outputs": [
        {
          "output_type": "execute_result",
          "data": {
            "text/plain": [
              "1    2931\n",
              "3    2304\n",
              "2    1014\n",
              "Name: month, dtype: int64"
            ]
          },
          "metadata": {},
          "execution_count": 151
        }
      ]
    },
    {
      "cell_type": "code",
      "source": [
        "transport_dataset.day_of_month.unique()"
      ],
      "metadata": {
        "id": "b3peOe0GpRFk",
        "colab": {
          "base_uri": "https://localhost:8080/"
        },
        "outputId": "459c3c64-2102-42bd-93b3-b961ad47bd24"
      },
      "execution_count": 152,
      "outputs": [
        {
          "output_type": "execute_result",
          "data": {
            "text/plain": [
              "array([17, 19, 26, 27, 20, 18, 16, 15, 14, 13,  4, 28, 31, 30, 29, 25, 24,\n",
              "       23, 22, 21, 12,  3,  2,  1])"
            ]
          },
          "metadata": {},
          "execution_count": 152
        }
      ]
    },
    {
      "cell_type": "code",
      "source": [
        "conv_dict = {17:2, 19:2, 26:3, 27:3, 20:2, 18:2, 16:2, 15:2, 14:2, 13:2,  4:1, 28:2, 31:3, 30:3, 29:3, 25:3, 24:3,\n",
        "       23:3, 22:3, 21:3, 12:1,  3:1,  2:1,  1:2}\n",
        "transport_dataset['day_of_month'].replace(conv_dict,inplace=True)"
      ],
      "metadata": {
        "id": "nN_g4fyspeny"
      },
      "execution_count": 153,
      "outputs": []
    },
    {
      "cell_type": "code",
      "source": [
        "transport_dataset['day_of_month'].value_counts()"
      ],
      "metadata": {
        "id": "7nEoK7Glp74l",
        "colab": {
          "base_uri": "https://localhost:8080/"
        },
        "outputId": "ff25f4b0-4f12-42c1-9754-77f6401f8153"
      },
      "execution_count": 154,
      "outputs": [
        {
          "output_type": "execute_result",
          "data": {
            "text/plain": [
              "1    2496\n",
              "2    2305\n",
              "3    1448\n",
              "Name: day_of_month, dtype: int64"
            ]
          },
          "metadata": {},
          "execution_count": 154
        }
      ]
    },
    {
      "cell_type": "code",
      "source": [
        "transport_dataset.head()"
      ],
      "metadata": {
        "id": "YQuIo1bUqDZl",
        "colab": {
          "base_uri": "https://localhost:8080/",
          "height": 473
        },
        "outputId": "ac5d2e3a-34aa-4404-e59c-ff8306fdfa70"
      },
      "execution_count": 155,
      "outputs": [
        {
          "output_type": "execute_result",
          "data": {
            "text/plain": [
              "   ride_id travel_date  travel_time travel_from car_type  max_capacity  \\\n",
              "0     1442    17-10-17     7.250000      Migori      Bus            49   \n",
              "1     5437    19-11-17     7.200000      Migori      Bus            49   \n",
              "2     5710    26-11-17     7.083333      Keroka      Bus            49   \n",
              "3     5777    27-11-17     7.166667    Homa Bay      Bus            49   \n",
              "4     5778    27-11-17     7.200000      Migori      Bus            49   \n",
              "\n",
              "   number_of_ticket                date  day_of_week  day_of_year  ...  \\\n",
              "0                 1 2017-10-17 07:15:00            1          290  ...   \n",
              "1                 1 2017-11-19 07:12:00            6          323  ...   \n",
              "2                 1 2017-11-26 07:05:00            6          330  ...   \n",
              "3                 5 2017-11-27 07:10:00            0          331  ...   \n",
              "4                31 2017-11-27 07:12:00            0          331  ...   \n",
              "\n",
              "   year_woy hour  minute  is_weekend  year  quarter  month  period  \\\n",
              "0    201742    7      15           0  2017        4      3      am   \n",
              "1    201746    7      12           1  2017        4      2      am   \n",
              "2    201747    7       5           1  2017        4      2      am   \n",
              "3    201748    7      10           0  2017        4      2      am   \n",
              "4    201748    7      12           0  2017        4      2      am   \n",
              "\n",
              "  hourly_travelers  daily_travelers  \n",
              "0         8.512382         0.693147  \n",
              "1         8.512382         0.693147  \n",
              "2         8.512382         0.693147  \n",
              "3         8.512382         3.871201  \n",
              "4         8.512382         3.871201  \n",
              "\n",
              "[5 rows x 21 columns]"
            ],
            "text/html": [
              "\n",
              "  <div id=\"df-b1fe0c76-4296-49d4-9127-9b342fd507da\">\n",
              "    <div class=\"colab-df-container\">\n",
              "      <div>\n",
              "<style scoped>\n",
              "    .dataframe tbody tr th:only-of-type {\n",
              "        vertical-align: middle;\n",
              "    }\n",
              "\n",
              "    .dataframe tbody tr th {\n",
              "        vertical-align: top;\n",
              "    }\n",
              "\n",
              "    .dataframe thead th {\n",
              "        text-align: right;\n",
              "    }\n",
              "</style>\n",
              "<table border=\"1\" class=\"dataframe\">\n",
              "  <thead>\n",
              "    <tr style=\"text-align: right;\">\n",
              "      <th></th>\n",
              "      <th>ride_id</th>\n",
              "      <th>travel_date</th>\n",
              "      <th>travel_time</th>\n",
              "      <th>travel_from</th>\n",
              "      <th>car_type</th>\n",
              "      <th>max_capacity</th>\n",
              "      <th>number_of_ticket</th>\n",
              "      <th>date</th>\n",
              "      <th>day_of_week</th>\n",
              "      <th>day_of_year</th>\n",
              "      <th>...</th>\n",
              "      <th>year_woy</th>\n",
              "      <th>hour</th>\n",
              "      <th>minute</th>\n",
              "      <th>is_weekend</th>\n",
              "      <th>year</th>\n",
              "      <th>quarter</th>\n",
              "      <th>month</th>\n",
              "      <th>period</th>\n",
              "      <th>hourly_travelers</th>\n",
              "      <th>daily_travelers</th>\n",
              "    </tr>\n",
              "  </thead>\n",
              "  <tbody>\n",
              "    <tr>\n",
              "      <th>0</th>\n",
              "      <td>1442</td>\n",
              "      <td>17-10-17</td>\n",
              "      <td>7.250000</td>\n",
              "      <td>Migori</td>\n",
              "      <td>Bus</td>\n",
              "      <td>49</td>\n",
              "      <td>1</td>\n",
              "      <td>2017-10-17 07:15:00</td>\n",
              "      <td>1</td>\n",
              "      <td>290</td>\n",
              "      <td>...</td>\n",
              "      <td>201742</td>\n",
              "      <td>7</td>\n",
              "      <td>15</td>\n",
              "      <td>0</td>\n",
              "      <td>2017</td>\n",
              "      <td>4</td>\n",
              "      <td>3</td>\n",
              "      <td>am</td>\n",
              "      <td>8.512382</td>\n",
              "      <td>0.693147</td>\n",
              "    </tr>\n",
              "    <tr>\n",
              "      <th>1</th>\n",
              "      <td>5437</td>\n",
              "      <td>19-11-17</td>\n",
              "      <td>7.200000</td>\n",
              "      <td>Migori</td>\n",
              "      <td>Bus</td>\n",
              "      <td>49</td>\n",
              "      <td>1</td>\n",
              "      <td>2017-11-19 07:12:00</td>\n",
              "      <td>6</td>\n",
              "      <td>323</td>\n",
              "      <td>...</td>\n",
              "      <td>201746</td>\n",
              "      <td>7</td>\n",
              "      <td>12</td>\n",
              "      <td>1</td>\n",
              "      <td>2017</td>\n",
              "      <td>4</td>\n",
              "      <td>2</td>\n",
              "      <td>am</td>\n",
              "      <td>8.512382</td>\n",
              "      <td>0.693147</td>\n",
              "    </tr>\n",
              "    <tr>\n",
              "      <th>2</th>\n",
              "      <td>5710</td>\n",
              "      <td>26-11-17</td>\n",
              "      <td>7.083333</td>\n",
              "      <td>Keroka</td>\n",
              "      <td>Bus</td>\n",
              "      <td>49</td>\n",
              "      <td>1</td>\n",
              "      <td>2017-11-26 07:05:00</td>\n",
              "      <td>6</td>\n",
              "      <td>330</td>\n",
              "      <td>...</td>\n",
              "      <td>201747</td>\n",
              "      <td>7</td>\n",
              "      <td>5</td>\n",
              "      <td>1</td>\n",
              "      <td>2017</td>\n",
              "      <td>4</td>\n",
              "      <td>2</td>\n",
              "      <td>am</td>\n",
              "      <td>8.512382</td>\n",
              "      <td>0.693147</td>\n",
              "    </tr>\n",
              "    <tr>\n",
              "      <th>3</th>\n",
              "      <td>5777</td>\n",
              "      <td>27-11-17</td>\n",
              "      <td>7.166667</td>\n",
              "      <td>Homa Bay</td>\n",
              "      <td>Bus</td>\n",
              "      <td>49</td>\n",
              "      <td>5</td>\n",
              "      <td>2017-11-27 07:10:00</td>\n",
              "      <td>0</td>\n",
              "      <td>331</td>\n",
              "      <td>...</td>\n",
              "      <td>201748</td>\n",
              "      <td>7</td>\n",
              "      <td>10</td>\n",
              "      <td>0</td>\n",
              "      <td>2017</td>\n",
              "      <td>4</td>\n",
              "      <td>2</td>\n",
              "      <td>am</td>\n",
              "      <td>8.512382</td>\n",
              "      <td>3.871201</td>\n",
              "    </tr>\n",
              "    <tr>\n",
              "      <th>4</th>\n",
              "      <td>5778</td>\n",
              "      <td>27-11-17</td>\n",
              "      <td>7.200000</td>\n",
              "      <td>Migori</td>\n",
              "      <td>Bus</td>\n",
              "      <td>49</td>\n",
              "      <td>31</td>\n",
              "      <td>2017-11-27 07:12:00</td>\n",
              "      <td>0</td>\n",
              "      <td>331</td>\n",
              "      <td>...</td>\n",
              "      <td>201748</td>\n",
              "      <td>7</td>\n",
              "      <td>12</td>\n",
              "      <td>0</td>\n",
              "      <td>2017</td>\n",
              "      <td>4</td>\n",
              "      <td>2</td>\n",
              "      <td>am</td>\n",
              "      <td>8.512382</td>\n",
              "      <td>3.871201</td>\n",
              "    </tr>\n",
              "  </tbody>\n",
              "</table>\n",
              "<p>5 rows × 21 columns</p>\n",
              "</div>\n",
              "      <button class=\"colab-df-convert\" onclick=\"convertToInteractive('df-b1fe0c76-4296-49d4-9127-9b342fd507da')\"\n",
              "              title=\"Convert this dataframe to an interactive table.\"\n",
              "              style=\"display:none;\">\n",
              "        \n",
              "  <svg xmlns=\"http://www.w3.org/2000/svg\" height=\"24px\"viewBox=\"0 0 24 24\"\n",
              "       width=\"24px\">\n",
              "    <path d=\"M0 0h24v24H0V0z\" fill=\"none\"/>\n",
              "    <path d=\"M18.56 5.44l.94 2.06.94-2.06 2.06-.94-2.06-.94-.94-2.06-.94 2.06-2.06.94zm-11 1L8.5 8.5l.94-2.06 2.06-.94-2.06-.94L8.5 2.5l-.94 2.06-2.06.94zm10 10l.94 2.06.94-2.06 2.06-.94-2.06-.94-.94-2.06-.94 2.06-2.06.94z\"/><path d=\"M17.41 7.96l-1.37-1.37c-.4-.4-.92-.59-1.43-.59-.52 0-1.04.2-1.43.59L10.3 9.45l-7.72 7.72c-.78.78-.78 2.05 0 2.83L4 21.41c.39.39.9.59 1.41.59.51 0 1.02-.2 1.41-.59l7.78-7.78 2.81-2.81c.8-.78.8-2.07 0-2.86zM5.41 20L4 18.59l7.72-7.72 1.47 1.35L5.41 20z\"/>\n",
              "  </svg>\n",
              "      </button>\n",
              "      \n",
              "  <style>\n",
              "    .colab-df-container {\n",
              "      display:flex;\n",
              "      flex-wrap:wrap;\n",
              "      gap: 12px;\n",
              "    }\n",
              "\n",
              "    .colab-df-convert {\n",
              "      background-color: #E8F0FE;\n",
              "      border: none;\n",
              "      border-radius: 50%;\n",
              "      cursor: pointer;\n",
              "      display: none;\n",
              "      fill: #1967D2;\n",
              "      height: 32px;\n",
              "      padding: 0 0 0 0;\n",
              "      width: 32px;\n",
              "    }\n",
              "\n",
              "    .colab-df-convert:hover {\n",
              "      background-color: #E2EBFA;\n",
              "      box-shadow: 0px 1px 2px rgba(60, 64, 67, 0.3), 0px 1px 3px 1px rgba(60, 64, 67, 0.15);\n",
              "      fill: #174EA6;\n",
              "    }\n",
              "\n",
              "    [theme=dark] .colab-df-convert {\n",
              "      background-color: #3B4455;\n",
              "      fill: #D2E3FC;\n",
              "    }\n",
              "\n",
              "    [theme=dark] .colab-df-convert:hover {\n",
              "      background-color: #434B5C;\n",
              "      box-shadow: 0px 1px 3px 1px rgba(0, 0, 0, 0.15);\n",
              "      filter: drop-shadow(0px 1px 2px rgba(0, 0, 0, 0.3));\n",
              "      fill: #FFFFFF;\n",
              "    }\n",
              "  </style>\n",
              "\n",
              "      <script>\n",
              "        const buttonEl =\n",
              "          document.querySelector('#df-b1fe0c76-4296-49d4-9127-9b342fd507da button.colab-df-convert');\n",
              "        buttonEl.style.display =\n",
              "          google.colab.kernel.accessAllowed ? 'block' : 'none';\n",
              "\n",
              "        async function convertToInteractive(key) {\n",
              "          const element = document.querySelector('#df-b1fe0c76-4296-49d4-9127-9b342fd507da');\n",
              "          const dataTable =\n",
              "            await google.colab.kernel.invokeFunction('convertToInteractive',\n",
              "                                                     [key], {});\n",
              "          if (!dataTable) return;\n",
              "\n",
              "          const docLinkHtml = 'Like what you see? Visit the ' +\n",
              "            '<a target=\"_blank\" href=https://colab.research.google.com/notebooks/data_table.ipynb>data table notebook</a>'\n",
              "            + ' to learn more about interactive tables.';\n",
              "          element.innerHTML = '';\n",
              "          dataTable['output_type'] = 'display_data';\n",
              "          await google.colab.output.renderOutput(dataTable, element);\n",
              "          const docLink = document.createElement('div');\n",
              "          docLink.innerHTML = docLinkHtml;\n",
              "          element.appendChild(docLink);\n",
              "        }\n",
              "      </script>\n",
              "    </div>\n",
              "  </div>\n",
              "  "
            ]
          },
          "metadata": {},
          "execution_count": 155
        }
      ]
    },
    {
      "cell_type": "code",
      "source": [
        "# Let us find the difference between next and previous buses And count the travel per minut trip\n",
        "def find_difference_bw_bus(data):\n",
        "  \n",
        "  data.sort_values([\"travel_from\",\"date\"],inplace=True,ascending=True)\n",
        "  data[\"Time_gap_btw_0_1_next_bus\"]=(data[\"date\"]-data.groupby([\"travel_from\"]).date.shift(-1)).dt.total_seconds()/3600\n",
        "  data[\"Time_gap_btw_0_1_previous_bus\"]=(data[\"date\"]-data.groupby([\"travel_from\"]).date.shift(1)).dt.total_seconds()/3600\n",
        "  data[\"Time_gap_btw_0_2_next_bus\"]=(data[\"date\"]-data.groupby([\"travel_from\"]).date.shift(-2)).dt.total_seconds()/3600\n",
        "  data[\"Time_gap_btw_0_2_previous_bus\"]=(data[\"date\"]-data.groupby([\"travel_from\"]).date.shift(2)).dt.total_seconds()/3600\n",
        "  data[\"Time_gap_btw_0_3_next_bus\"]=(data[\"date\"]-data.groupby([\"travel_from\"]).date.shift(-3)).dt.total_seconds()/3600\n",
        "  data[\"Time_gap_btw_0_3_previous_bus\"]=(data[\"date\"]-data.groupby([\"travel_from\"]).date.shift(3)).dt.total_seconds()/3600\n",
        "  data[\"Time_gap_btw_next_previous_bus\"]=(data.groupby([\"travel_from\"]).date.shift(-1)-data.groupby([\"travel_from\"]).date.shift(1)).dt.total_seconds()/3600\n",
        "  cols=[\"Time_gap_btw_0_1_next_bus\", \"Time_gap_btw_0_1_previous_bus\", \"Time_gap_btw_0_2_next_bus\",\"Time_gap_btw_0_2_previous_bus\",\n",
        "      \"Time_gap_btw_0_3_next_bus\", \"Time_gap_btw_0_3_previous_bus\",\n",
        "      \"Time_gap_btw_next_previous_bus\"]\n",
        "  data[cols]=data.groupby([\"travel_from\"])[cols].fillna(method=\"ffill\")\n",
        "  data[cols]=data.groupby([\"travel_from\"])[cols].fillna(method=\"backfill\")\n",
        "\n",
        "  \n",
        "  return data"
      ],
      "metadata": {
        "id": "ps76rRMZrbLf"
      },
      "execution_count": 156,
      "outputs": []
    },
    {
      "cell_type": "markdown",
      "source": [
        "* From the above code, The function first sorts the data dataframe by the travel_from and date columns in ascending order. It then calculates the time difference between the next and previous buses for each trip, up to three buses ahead and behind, and saves the results in new columns in the data dataframe.\n",
        "\n",
        "* Finally, the function fills any missing values in these new columns using the fillna() method. It forwards or backwards fills the missing values based on the method specified by the method parameter (in this case, ffill and backfill, respectively)."
      ],
      "metadata": {
        "id": "5a_x3oBECmhO"
      }
    },
    {
      "cell_type": "code",
      "source": [
        "data = find_difference_bw_bus(transport_dataset)"
      ],
      "metadata": {
        "id": "npYQDbctrsS7"
      },
      "execution_count": 157,
      "outputs": []
    },
    {
      "cell_type": "code",
      "source": [
        "data.isnull().sum()"
      ],
      "metadata": {
        "id": "E-YVigB8r0Vz",
        "colab": {
          "base_uri": "https://localhost:8080/"
        },
        "outputId": "d8163ee3-3e6d-41fc-93b7-271624509fcd"
      },
      "execution_count": 158,
      "outputs": [
        {
          "output_type": "execute_result",
          "data": {
            "text/plain": [
              "ride_id                           0\n",
              "travel_date                       0\n",
              "travel_time                       0\n",
              "travel_from                       0\n",
              "car_type                          0\n",
              "max_capacity                      0\n",
              "number_of_ticket                  0\n",
              "date                              0\n",
              "day_of_week                       0\n",
              "day_of_year                       0\n",
              "day_of_month                      0\n",
              "year_woy                          0\n",
              "hour                              0\n",
              "minute                            0\n",
              "is_weekend                        0\n",
              "year                              0\n",
              "quarter                           0\n",
              "month                             0\n",
              "period                            0\n",
              "hourly_travelers                  0\n",
              "daily_travelers                   0\n",
              "Time_gap_btw_0_1_next_bus         1\n",
              "Time_gap_btw_0_1_previous_bus     1\n",
              "Time_gap_btw_0_2_next_bus         3\n",
              "Time_gap_btw_0_2_previous_bus     3\n",
              "Time_gap_btw_0_3_next_bus         3\n",
              "Time_gap_btw_0_3_previous_bus     3\n",
              "Time_gap_btw_next_previous_bus    3\n",
              "dtype: int64"
            ]
          },
          "metadata": {},
          "execution_count": 158
        }
      ]
    },
    {
      "cell_type": "markdown",
      "source": [
        "We see that there are some null values present in the dataset. so, let us remove those null values"
      ],
      "metadata": {
        "id": "irtEfT4Kr7H_"
      }
    },
    {
      "cell_type": "code",
      "source": [
        "data.dropna(inplace=True)"
      ],
      "metadata": {
        "id": "egXo8b7WsiaC"
      },
      "execution_count": 159,
      "outputs": []
    },
    {
      "cell_type": "code",
      "source": [
        "data.head()"
      ],
      "metadata": {
        "id": "qCtXixcDsnVA",
        "colab": {
          "base_uri": "https://localhost:8080/",
          "height": 473
        },
        "outputId": "80f70e65-af99-49da-d3d1-11f65fbc43ce"
      },
      "execution_count": 160,
      "outputs": [
        {
          "output_type": "execute_result",
          "data": {
            "text/plain": [
              "      ride_id travel_date  travel_time travel_from car_type  max_capacity  \\\n",
              "502      6654    05-12-17     7.133333      Awendo      Bus            49   \n",
              "5530    12926    01-04-18     7.133333      Awendo      Bus            49   \n",
              "5533    12929    01-04-18     7.200000      Awendo      Bus            49   \n",
              "5539    12935    01-04-18     7.216667      Awendo      Bus            49   \n",
              "5528    12924    01-04-18     8.000000      Awendo      Bus            49   \n",
              "\n",
              "      number_of_ticket                date  day_of_week  day_of_year  ...  \\\n",
              "502                  2 2017-05-12 07:08:00            4          132  ...   \n",
              "5530                20 2018-01-04 07:08:00            3            4  ...   \n",
              "5533                 2 2018-01-04 07:12:00            3            4  ...   \n",
              "5539                 9 2018-01-04 07:13:00            3            4  ...   \n",
              "5528                15 2018-01-04 08:00:00            3            4  ...   \n",
              "\n",
              "      period hourly_travelers  daily_travelers  Time_gap_btw_0_1_next_bus  \\\n",
              "502       am         8.512382         4.025352               -5688.000000   \n",
              "5530      am         8.512382         3.526361                  -0.066667   \n",
              "5533      am         8.512382         3.526361                  -0.016667   \n",
              "5539      am         8.512382         3.526361                  -0.783333   \n",
              "5528      am         8.512382         3.526361                -215.133333   \n",
              "\n",
              "      Time_gap_btw_0_1_previous_bus  Time_gap_btw_0_2_next_bus  \\\n",
              "502                     5688.000000               -5688.066667   \n",
              "5530                    5688.000000                  -0.083333   \n",
              "5533                       0.066667                  -0.800000   \n",
              "5539                       0.016667                -215.916667   \n",
              "5528                       0.783333                -215.250000   \n",
              "\n",
              "      Time_gap_btw_0_2_previous_bus  Time_gap_btw_0_3_next_bus  \\\n",
              "502                     5688.066667               -5688.083333   \n",
              "5530                    5688.066667                  -0.866667   \n",
              "5533                    5688.066667                -215.933333   \n",
              "5539                       0.083333                -216.033333   \n",
              "5528                       0.800000                -239.133333   \n",
              "\n",
              "     Time_gap_btw_0_3_previous_bus  Time_gap_btw_next_previous_bus  \n",
              "502                    5688.083333                     5688.066667  \n",
              "5530                   5688.083333                     5688.066667  \n",
              "5533                   5688.083333                        0.083333  \n",
              "5539                   5688.083333                        0.800000  \n",
              "5528                      0.866667                      215.916667  \n",
              "\n",
              "[5 rows x 28 columns]"
            ],
            "text/html": [
              "\n",
              "  <div id=\"df-710c958f-1b37-4978-bdd2-750a7370ff8e\">\n",
              "    <div class=\"colab-df-container\">\n",
              "      <div>\n",
              "<style scoped>\n",
              "    .dataframe tbody tr th:only-of-type {\n",
              "        vertical-align: middle;\n",
              "    }\n",
              "\n",
              "    .dataframe tbody tr th {\n",
              "        vertical-align: top;\n",
              "    }\n",
              "\n",
              "    .dataframe thead th {\n",
              "        text-align: right;\n",
              "    }\n",
              "</style>\n",
              "<table border=\"1\" class=\"dataframe\">\n",
              "  <thead>\n",
              "    <tr style=\"text-align: right;\">\n",
              "      <th></th>\n",
              "      <th>ride_id</th>\n",
              "      <th>travel_date</th>\n",
              "      <th>travel_time</th>\n",
              "      <th>travel_from</th>\n",
              "      <th>car_type</th>\n",
              "      <th>max_capacity</th>\n",
              "      <th>number_of_ticket</th>\n",
              "      <th>date</th>\n",
              "      <th>day_of_week</th>\n",
              "      <th>day_of_year</th>\n",
              "      <th>...</th>\n",
              "      <th>period</th>\n",
              "      <th>hourly_travelers</th>\n",
              "      <th>daily_travelers</th>\n",
              "      <th>Time_gap_btw_0_1_next_bus</th>\n",
              "      <th>Time_gap_btw_0_1_previous_bus</th>\n",
              "      <th>Time_gap_btw_0_2_next_bus</th>\n",
              "      <th>Time_gap_btw_0_2_previous_bus</th>\n",
              "      <th>Time_gap_btw_0_3_next_bus</th>\n",
              "      <th>Time_gap_btw_0_3_previous_bus</th>\n",
              "      <th>Time_gap_btw_next_previous_bus</th>\n",
              "    </tr>\n",
              "  </thead>\n",
              "  <tbody>\n",
              "    <tr>\n",
              "      <th>502</th>\n",
              "      <td>6654</td>\n",
              "      <td>05-12-17</td>\n",
              "      <td>7.133333</td>\n",
              "      <td>Awendo</td>\n",
              "      <td>Bus</td>\n",
              "      <td>49</td>\n",
              "      <td>2</td>\n",
              "      <td>2017-05-12 07:08:00</td>\n",
              "      <td>4</td>\n",
              "      <td>132</td>\n",
              "      <td>...</td>\n",
              "      <td>am</td>\n",
              "      <td>8.512382</td>\n",
              "      <td>4.025352</td>\n",
              "      <td>-5688.000000</td>\n",
              "      <td>5688.000000</td>\n",
              "      <td>-5688.066667</td>\n",
              "      <td>5688.066667</td>\n",
              "      <td>-5688.083333</td>\n",
              "      <td>5688.083333</td>\n",
              "      <td>5688.066667</td>\n",
              "    </tr>\n",
              "    <tr>\n",
              "      <th>5530</th>\n",
              "      <td>12926</td>\n",
              "      <td>01-04-18</td>\n",
              "      <td>7.133333</td>\n",
              "      <td>Awendo</td>\n",
              "      <td>Bus</td>\n",
              "      <td>49</td>\n",
              "      <td>20</td>\n",
              "      <td>2018-01-04 07:08:00</td>\n",
              "      <td>3</td>\n",
              "      <td>4</td>\n",
              "      <td>...</td>\n",
              "      <td>am</td>\n",
              "      <td>8.512382</td>\n",
              "      <td>3.526361</td>\n",
              "      <td>-0.066667</td>\n",
              "      <td>5688.000000</td>\n",
              "      <td>-0.083333</td>\n",
              "      <td>5688.066667</td>\n",
              "      <td>-0.866667</td>\n",
              "      <td>5688.083333</td>\n",
              "      <td>5688.066667</td>\n",
              "    </tr>\n",
              "    <tr>\n",
              "      <th>5533</th>\n",
              "      <td>12929</td>\n",
              "      <td>01-04-18</td>\n",
              "      <td>7.200000</td>\n",
              "      <td>Awendo</td>\n",
              "      <td>Bus</td>\n",
              "      <td>49</td>\n",
              "      <td>2</td>\n",
              "      <td>2018-01-04 07:12:00</td>\n",
              "      <td>3</td>\n",
              "      <td>4</td>\n",
              "      <td>...</td>\n",
              "      <td>am</td>\n",
              "      <td>8.512382</td>\n",
              "      <td>3.526361</td>\n",
              "      <td>-0.016667</td>\n",
              "      <td>0.066667</td>\n",
              "      <td>-0.800000</td>\n",
              "      <td>5688.066667</td>\n",
              "      <td>-215.933333</td>\n",
              "      <td>5688.083333</td>\n",
              "      <td>0.083333</td>\n",
              "    </tr>\n",
              "    <tr>\n",
              "      <th>5539</th>\n",
              "      <td>12935</td>\n",
              "      <td>01-04-18</td>\n",
              "      <td>7.216667</td>\n",
              "      <td>Awendo</td>\n",
              "      <td>Bus</td>\n",
              "      <td>49</td>\n",
              "      <td>9</td>\n",
              "      <td>2018-01-04 07:13:00</td>\n",
              "      <td>3</td>\n",
              "      <td>4</td>\n",
              "      <td>...</td>\n",
              "      <td>am</td>\n",
              "      <td>8.512382</td>\n",
              "      <td>3.526361</td>\n",
              "      <td>-0.783333</td>\n",
              "      <td>0.016667</td>\n",
              "      <td>-215.916667</td>\n",
              "      <td>0.083333</td>\n",
              "      <td>-216.033333</td>\n",
              "      <td>5688.083333</td>\n",
              "      <td>0.800000</td>\n",
              "    </tr>\n",
              "    <tr>\n",
              "      <th>5528</th>\n",
              "      <td>12924</td>\n",
              "      <td>01-04-18</td>\n",
              "      <td>8.000000</td>\n",
              "      <td>Awendo</td>\n",
              "      <td>Bus</td>\n",
              "      <td>49</td>\n",
              "      <td>15</td>\n",
              "      <td>2018-01-04 08:00:00</td>\n",
              "      <td>3</td>\n",
              "      <td>4</td>\n",
              "      <td>...</td>\n",
              "      <td>am</td>\n",
              "      <td>8.512382</td>\n",
              "      <td>3.526361</td>\n",
              "      <td>-215.133333</td>\n",
              "      <td>0.783333</td>\n",
              "      <td>-215.250000</td>\n",
              "      <td>0.800000</td>\n",
              "      <td>-239.133333</td>\n",
              "      <td>0.866667</td>\n",
              "      <td>215.916667</td>\n",
              "    </tr>\n",
              "  </tbody>\n",
              "</table>\n",
              "<p>5 rows × 28 columns</p>\n",
              "</div>\n",
              "      <button class=\"colab-df-convert\" onclick=\"convertToInteractive('df-710c958f-1b37-4978-bdd2-750a7370ff8e')\"\n",
              "              title=\"Convert this dataframe to an interactive table.\"\n",
              "              style=\"display:none;\">\n",
              "        \n",
              "  <svg xmlns=\"http://www.w3.org/2000/svg\" height=\"24px\"viewBox=\"0 0 24 24\"\n",
              "       width=\"24px\">\n",
              "    <path d=\"M0 0h24v24H0V0z\" fill=\"none\"/>\n",
              "    <path d=\"M18.56 5.44l.94 2.06.94-2.06 2.06-.94-2.06-.94-.94-2.06-.94 2.06-2.06.94zm-11 1L8.5 8.5l.94-2.06 2.06-.94-2.06-.94L8.5 2.5l-.94 2.06-2.06.94zm10 10l.94 2.06.94-2.06 2.06-.94-2.06-.94-.94-2.06-.94 2.06-2.06.94z\"/><path d=\"M17.41 7.96l-1.37-1.37c-.4-.4-.92-.59-1.43-.59-.52 0-1.04.2-1.43.59L10.3 9.45l-7.72 7.72c-.78.78-.78 2.05 0 2.83L4 21.41c.39.39.9.59 1.41.59.51 0 1.02-.2 1.41-.59l7.78-7.78 2.81-2.81c.8-.78.8-2.07 0-2.86zM5.41 20L4 18.59l7.72-7.72 1.47 1.35L5.41 20z\"/>\n",
              "  </svg>\n",
              "      </button>\n",
              "      \n",
              "  <style>\n",
              "    .colab-df-container {\n",
              "      display:flex;\n",
              "      flex-wrap:wrap;\n",
              "      gap: 12px;\n",
              "    }\n",
              "\n",
              "    .colab-df-convert {\n",
              "      background-color: #E8F0FE;\n",
              "      border: none;\n",
              "      border-radius: 50%;\n",
              "      cursor: pointer;\n",
              "      display: none;\n",
              "      fill: #1967D2;\n",
              "      height: 32px;\n",
              "      padding: 0 0 0 0;\n",
              "      width: 32px;\n",
              "    }\n",
              "\n",
              "    .colab-df-convert:hover {\n",
              "      background-color: #E2EBFA;\n",
              "      box-shadow: 0px 1px 2px rgba(60, 64, 67, 0.3), 0px 1px 3px 1px rgba(60, 64, 67, 0.15);\n",
              "      fill: #174EA6;\n",
              "    }\n",
              "\n",
              "    [theme=dark] .colab-df-convert {\n",
              "      background-color: #3B4455;\n",
              "      fill: #D2E3FC;\n",
              "    }\n",
              "\n",
              "    [theme=dark] .colab-df-convert:hover {\n",
              "      background-color: #434B5C;\n",
              "      box-shadow: 0px 1px 3px 1px rgba(0, 0, 0, 0.15);\n",
              "      filter: drop-shadow(0px 1px 2px rgba(0, 0, 0, 0.3));\n",
              "      fill: #FFFFFF;\n",
              "    }\n",
              "  </style>\n",
              "\n",
              "      <script>\n",
              "        const buttonEl =\n",
              "          document.querySelector('#df-710c958f-1b37-4978-bdd2-750a7370ff8e button.colab-df-convert');\n",
              "        buttonEl.style.display =\n",
              "          google.colab.kernel.accessAllowed ? 'block' : 'none';\n",
              "\n",
              "        async function convertToInteractive(key) {\n",
              "          const element = document.querySelector('#df-710c958f-1b37-4978-bdd2-750a7370ff8e');\n",
              "          const dataTable =\n",
              "            await google.colab.kernel.invokeFunction('convertToInteractive',\n",
              "                                                     [key], {});\n",
              "          if (!dataTable) return;\n",
              "\n",
              "          const docLinkHtml = 'Like what you see? Visit the ' +\n",
              "            '<a target=\"_blank\" href=https://colab.research.google.com/notebooks/data_table.ipynb>data table notebook</a>'\n",
              "            + ' to learn more about interactive tables.';\n",
              "          element.innerHTML = '';\n",
              "          dataTable['output_type'] = 'display_data';\n",
              "          await google.colab.output.renderOutput(dataTable, element);\n",
              "          const docLink = document.createElement('div');\n",
              "          docLink.innerHTML = docLinkHtml;\n",
              "          element.appendChild(docLink);\n",
              "        }\n",
              "      </script>\n",
              "    </div>\n",
              "  </div>\n",
              "  "
            ]
          },
          "metadata": {},
          "execution_count": 160
        }
      ]
    },
    {
      "cell_type": "code",
      "source": [
        "from datetime import datetime\n",
        "from datetime import timedelta"
      ],
      "metadata": {
        "id": "A6XoJ1ursqk1"
      },
      "execution_count": 161,
      "outputs": []
    },
    {
      "cell_type": "markdown",
      "source": [
        "Now let us find distance of each origin point from distination point. We used Nirobi Map to estimate the distance from origin point to destination map."
      ],
      "metadata": {
        "id": "eYvnaopbsxNk"
      }
    },
    {
      "cell_type": "code",
      "source": [
        "distance = {'Migori': 370 , 'Keroka': 280, 'Homa Bay':360, 'Kisii':305.1, 'Keumbu':295, 'Rongo':332,\n",
        "'Kijauri':271, 'Oyugis':330.6, 'Awendo':351, 'Sirare':392, 'Nyachenge':326, 'Kehancha': 387.7,\n",
        "'Kendu Bay':347, 'Sori':399, 'Rodi':348, 'Mbita':401, 'Ndhiwa': 371}\n",
        "\n",
        "data[\"travel_from_distance\"]=data.travel_from.map(distance)"
      ],
      "metadata": {
        "id": "eadkskfqtDmF"
      },
      "execution_count": 162,
      "outputs": []
    },
    {
      "cell_type": "code",
      "source": [
        "time = {'Migori': 7*60+8 , 'Keroka': 5*60, 'Homa Bay':7*60, 'Kisii':5*60+34, 'Keumbu':5*60+20, 'Rongo':6*60+21,\n",
        "'Kijauri':60*4+50,'Oyugis':5*60+50, 'Awendo':6*60+38, 'Sirare':7*60+30, 'Nyachenge':6*60+10, 'Kehancha':7*60+10,\n",
        "'Kendu Bay':6*60+10, 'Sori':7*60+30, 'Rodi':6*60+40, 'Mbita':7*60+23, 'Ndhiwa': 7*60}\n",
        "data[\"travel_from_time\"]=data.travel_from.map(time)"
      ],
      "metadata": {
        "id": "IRitS514tbmq"
      },
      "execution_count": 163,
      "outputs": []
    },
    {
      "cell_type": "code",
      "source": [
        "data[\"speed\"]= data.travel_from_time/data.travel_from_distance"
      ],
      "metadata": {
        "id": "54zc0E70tevs"
      },
      "execution_count": 164,
      "outputs": []
    },
    {
      "cell_type": "code",
      "source": [
        "plt.scatter(data['speed'],data['number_of_ticket'])"
      ],
      "metadata": {
        "id": "QX5NPQwotosW",
        "colab": {
          "base_uri": "https://localhost:8080/",
          "height": 282
        },
        "outputId": "10c64f6c-20f4-447e-8cc2-2020f5b19d9f"
      },
      "execution_count": 165,
      "outputs": [
        {
          "output_type": "execute_result",
          "data": {
            "text/plain": [
              "<matplotlib.collections.PathCollection at 0x7f8bf02d33d0>"
            ]
          },
          "metadata": {},
          "execution_count": 165
        },
        {
          "output_type": "display_data",
          "data": {
            "text/plain": [
              "<Figure size 432x288 with 1 Axes>"
            ],
            "image/png": "[encoded data removed]"
          },
          "metadata": {
            "needs_background": "light"
          }
        }
      ]
    },
    {
      "cell_type": "code",
      "source": [
        "time = {'Migori': 7*60+8 , 'Keroka': 5*60, 'Homa Bay':7*60, 'Kisii':5*60+34, 'Keumbu':5*60+20, 'Rongo':6*60+21,\n",
        "'Kijauri':60*4+50,'Oyugis':5*60+50, 'Awendo':6*60+38, 'Sirare':7*60+30, 'Nyachenge':6*60+10, 'Kehancha':7*60+10,\n",
        "'Kendu Bay':6*60+10, 'Sori':7*60+30, 'Rodi':6*60+40, 'Mbita':7*60+23, 'Ndhiwa': 7*60}\n",
        "for key in time.keys(): \n",
        "    time[key]=timedelta( minutes=time[key])"
      ],
      "metadata": {
        "id": "9wH--jcJt5oJ"
      },
      "execution_count": 166,
      "outputs": []
    },
    {
      "cell_type": "code",
      "source": [
        "#find the date of traveling from origin \n",
        "data[\"Date_of_traveling_from_origin\"]=data.travel_from.map(time)"
      ],
      "metadata": {
        "id": "Lgodq8y8uB4d"
      },
      "execution_count": 167,
      "outputs": []
    },
    {
      "cell_type": "code",
      "source": [
        "# find the date of arrival at distination\n",
        "data[\"arrival_date\"]=data.date+ data.Date_of_traveling_from_origin\n",
        "data[\"hod_arrived_date\"]=data[\"arrival_date\"].dt.hour\n",
        "data[\"minute_arrived_date\"]=data[\"arrival_date\"].dt.minute\n",
        "del data[\"Date_of_traveling_from_origin\"],data[\"arrival_date\"]\n",
        "data[\"is_rush_hour\"]=0\n",
        "data.loc[data.hod_arrived_date.between(7,17),\"is_rush_hour\"]=1"
      ],
      "metadata": {
        "id": "-BiPRah1uE6J"
      },
      "execution_count": 168,
      "outputs": []
    },
    {
      "cell_type": "markdown",
      "source": [
        "### Encoding Categorical features"
      ],
      "metadata": {
        "id": "7GhyaWQXuMvQ"
      }
    },
    {
      "cell_type": "code",
      "source": [
        "#Import LabelEncoder\n",
        "from sklearn import preprocessing \n",
        "data = pd.get_dummies(data, columns=['travel_from', 'day_of_month', 'month'])\n",
        "label_enc = {'Bus':1, 'shuttle':0}\n",
        "data.replace(label_enc, inplace=True)"
      ],
      "metadata": {
        "id": "D7f5gqLmuRN8"
      },
      "execution_count": 169,
      "outputs": []
    },
    {
      "cell_type": "code",
      "source": [
        "data.head()"
      ],
      "metadata": {
        "id": "cxJNCB5wu2Nb",
        "colab": {
          "base_uri": "https://localhost:8080/",
          "height": 473
        },
        "outputId": "229c052b-4c02-4b79-ca15-0e967e4364fc"
      },
      "execution_count": 170,
      "outputs": [
        {
          "output_type": "execute_result",
          "data": {
            "text/plain": [
              "      ride_id travel_date  travel_time  car_type  max_capacity  \\\n",
              "502      6654    05-12-17     7.133333         1            49   \n",
              "5530    12926    01-04-18     7.133333         1            49   \n",
              "5533    12929    01-04-18     7.200000         1            49   \n",
              "5539    12935    01-04-18     7.216667         1            49   \n",
              "5528    12924    01-04-18     8.000000         1            49   \n",
              "\n",
              "      number_of_ticket                date  day_of_week  day_of_year year_woy  \\\n",
              "502                  2 2017-05-12 07:08:00            4          132   201719   \n",
              "5530                20 2018-01-04 07:08:00            3            4    20181   \n",
              "5533                 2 2018-01-04 07:12:00            3            4    20181   \n",
              "5539                 9 2018-01-04 07:13:00            3            4    20181   \n",
              "5528                15 2018-01-04 08:00:00            3            4    20181   \n",
              "\n",
              "      ...  travel_from_Rodi  travel_from_Rongo  travel_from_Sirare  \\\n",
              "502   ...                 0                  0                   0   \n",
              "5530  ...                 0                  0                   0   \n",
              "5533  ...                 0                  0                   0   \n",
              "5539  ...                 0                  0                   0   \n",
              "5528  ...                 0                  0                   0   \n",
              "\n",
              "      travel_from_Sori  day_of_month_1 day_of_month_2  day_of_month_3  \\\n",
              "502                  0               1              0               0   \n",
              "5530                 0               1              0               0   \n",
              "5533                 0               1              0               0   \n",
              "5539                 0               1              0               0   \n",
              "5528                 0               1              0               0   \n",
              "\n",
              "      month_1  month_2  month_3  \n",
              "502         0        0        1  \n",
              "5530        1        0        0  \n",
              "5533        1        0        0  \n",
              "5539        1        0        0  \n",
              "5528        1        0        0  \n",
              "\n",
              "[5 rows x 52 columns]"
            ],
            "text/html": [
              "\n",
              "  <div id=\"df-14b13a52-d254-4120-b2b9-c3f9478cb9b0\">\n",
              "    <div class=\"colab-df-container\">\n",
              "      <div>\n",
              "<style scoped>\n",
              "    .dataframe tbody tr th:only-of-type {\n",
              "        vertical-align: middle;\n",
              "    }\n",
              "\n",
              "    .dataframe tbody tr th {\n",
              "        vertical-align: top;\n",
              "    }\n",
              "\n",
              "    .dataframe thead th {\n",
              "        text-align: right;\n",
              "    }\n",
              "</style>\n",
              "<table border=\"1\" class=\"dataframe\">\n",
              "  <thead>\n",
              "    <tr style=\"text-align: right;\">\n",
              "      <th></th>\n",
              "      <th>ride_id</th>\n",
              "      <th>travel_date</th>\n",
              "      <th>travel_time</th>\n",
              "      <th>car_type</th>\n",
              "      <th>max_capacity</th>\n",
              "      <th>number_of_ticket</th>\n",
              "      <th>date</th>\n",
              "      <th>day_of_week</th>\n",
              "      <th>day_of_year</th>\n",
              "      <th>year_woy</th>\n",
              "      <th>...</th>\n",
              "      <th>travel_from_Rodi</th>\n",
              "      <th>travel_from_Rongo</th>\n",
              "      <th>travel_from_Sirare</th>\n",
              "      <th>travel_from_Sori</th>\n",
              "      <th>day_of_month_1</th>\n",
              "      <th>day_of_month_2</th>\n",
              "      <th>day_of_month_3</th>\n",
              "      <th>month_1</th>\n",
              "      <th>month_2</th>\n",
              "      <th>month_3</th>\n",
              "    </tr>\n",
              "  </thead>\n",
              "  <tbody>\n",
              "    <tr>\n",
              "      <th>502</th>\n",
              "      <td>6654</td>\n",
              "      <td>05-12-17</td>\n",
              "      <td>7.133333</td>\n",
              "      <td>1</td>\n",
              "      <td>49</td>\n",
              "      <td>2</td>\n",
              "      <td>2017-05-12 07:08:00</td>\n",
              "      <td>4</td>\n",
              "      <td>132</td>\n",
              "      <td>201719</td>\n",
              "      <td>...</td>\n",
              "      <td>0</td>\n",
              "      <td>0</td>\n",
              "      <td>0</td>\n",
              "      <td>0</td>\n",
              "      <td>1</td>\n",
              "      <td>0</td>\n",
              "      <td>0</td>\n",
              "      <td>0</td>\n",
              "      <td>0</td>\n",
              "      <td>1</td>\n",
              "    </tr>\n",
              "    <tr>\n",
              "      <th>5530</th>\n",
              "      <td>12926</td>\n",
              "      <td>01-04-18</td>\n",
              "      <td>7.133333</td>\n",
              "      <td>1</td>\n",
              "      <td>49</td>\n",
              "      <td>20</td>\n",
              "      <td>2018-01-04 07:08:00</td>\n",
              "      <td>3</td>\n",
              "      <td>4</td>\n",
              "      <td>20181</td>\n",
              "      <td>...</td>\n",
              "      <td>0</td>\n",
              "      <td>0</td>\n",
              "      <td>0</td>\n",
              "      <td>0</td>\n",
              "      <td>1</td>\n",
              "      <td>0</td>\n",
              "      <td>0</td>\n",
              "      <td>1</td>\n",
              "      <td>0</td>\n",
              "      <td>0</td>\n",
              "    </tr>\n",
              "    <tr>\n",
              "      <th>5533</th>\n",
              "      <td>12929</td>\n",
              "      <td>01-04-18</td>\n",
              "      <td>7.200000</td>\n",
              "      <td>1</td>\n",
              "      <td>49</td>\n",
              "      <td>2</td>\n",
              "      <td>2018-01-04 07:12:00</td>\n",
              "      <td>3</td>\n",
              "      <td>4</td>\n",
              "      <td>20181</td>\n",
              "      <td>...</td>\n",
              "      <td>0</td>\n",
              "      <td>0</td>\n",
              "      <td>0</td>\n",
              "      <td>0</td>\n",
              "      <td>1</td>\n",
              "      <td>0</td>\n",
              "      <td>0</td>\n",
              "      <td>1</td>\n",
              "      <td>0</td>\n",
              "      <td>0</td>\n",
              "    </tr>\n",
              "    <tr>\n",
              "      <th>5539</th>\n",
              "      <td>12935</td>\n",
              "      <td>01-04-18</td>\n",
              "      <td>7.216667</td>\n",
              "      <td>1</td>\n",
              "      <td>49</td>\n",
              "      <td>9</td>\n",
              "      <td>2018-01-04 07:13:00</td>\n",
              "      <td>3</td>\n",
              "      <td>4</td>\n",
              "      <td>20181</td>\n",
              "      <td>...</td>\n",
              "      <td>0</td>\n",
              "      <td>0</td>\n",
              "      <td>0</td>\n",
              "      <td>0</td>\n",
              "      <td>1</td>\n",
              "      <td>0</td>\n",
              "      <td>0</td>\n",
              "      <td>1</td>\n",
              "      <td>0</td>\n",
              "      <td>0</td>\n",
              "    </tr>\n",
              "    <tr>\n",
              "      <th>5528</th>\n",
              "      <td>12924</td>\n",
              "      <td>01-04-18</td>\n",
              "      <td>8.000000</td>\n",
              "      <td>1</td>\n",
              "      <td>49</td>\n",
              "      <td>15</td>\n",
              "      <td>2018-01-04 08:00:00</td>\n",
              "      <td>3</td>\n",
              "      <td>4</td>\n",
              "      <td>20181</td>\n",
              "      <td>...</td>\n",
              "      <td>0</td>\n",
              "      <td>0</td>\n",
              "      <td>0</td>\n",
              "      <td>0</td>\n",
              "      <td>1</td>\n",
              "      <td>0</td>\n",
              "      <td>0</td>\n",
              "      <td>1</td>\n",
              "      <td>0</td>\n",
              "      <td>0</td>\n",
              "    </tr>\n",
              "  </tbody>\n",
              "</table>\n",
              "<p>5 rows × 52 columns</p>\n",
              "</div>\n",
              "      <button class=\"colab-df-convert\" onclick=\"convertToInteractive('df-14b13a52-d254-4120-b2b9-c3f9478cb9b0')\"\n",
              "              title=\"Convert this dataframe to an interactive table.\"\n",
              "              style=\"display:none;\">\n",
              "        \n",
              "  <svg xmlns=\"http://www.w3.org/2000/svg\" height=\"24px\"viewBox=\"0 0 24 24\"\n",
              "       width=\"24px\">\n",
              "    <path d=\"M0 0h24v24H0V0z\" fill=\"none\"/>\n",
              "    <path d=\"M18.56 5.44l.94 2.06.94-2.06 2.06-.94-2.06-.94-.94-2.06-.94 2.06-2.06.94zm-11 1L8.5 8.5l.94-2.06 2.06-.94-2.06-.94L8.5 2.5l-.94 2.06-2.06.94zm10 10l.94 2.06.94-2.06 2.06-.94-2.06-.94-.94-2.06-.94 2.06-2.06.94z\"/><path d=\"M17.41 7.96l-1.37-1.37c-.4-.4-.92-.59-1.43-.59-.52 0-1.04.2-1.43.59L10.3 9.45l-7.72 7.72c-.78.78-.78 2.05 0 2.83L4 21.41c.39.39.9.59 1.41.59.51 0 1.02-.2 1.41-.59l7.78-7.78 2.81-2.81c.8-.78.8-2.07 0-2.86zM5.41 20L4 18.59l7.72-7.72 1.47 1.35L5.41 20z\"/>\n",
              "  </svg>\n",
              "      </button>\n",
              "      \n",
              "  <style>\n",
              "    .colab-df-container {\n",
              "      display:flex;\n",
              "      flex-wrap:wrap;\n",
              "      gap: 12px;\n",
              "    }\n",
              "\n",
              "    .colab-df-convert {\n",
              "      background-color: #E8F0FE;\n",
              "      border: none;\n",
              "      border-radius: 50%;\n",
              "      cursor: pointer;\n",
              "      display: none;\n",
              "      fill: #1967D2;\n",
              "      height: 32px;\n",
              "      padding: 0 0 0 0;\n",
              "      width: 32px;\n",
              "    }\n",
              "\n",
              "    .colab-df-convert:hover {\n",
              "      background-color: #E2EBFA;\n",
              "      box-shadow: 0px 1px 2px rgba(60, 64, 67, 0.3), 0px 1px 3px 1px rgba(60, 64, 67, 0.15);\n",
              "      fill: #174EA6;\n",
              "    }\n",
              "\n",
              "    [theme=dark] .colab-df-convert {\n",
              "      background-color: #3B4455;\n",
              "      fill: #D2E3FC;\n",
              "    }\n",
              "\n",
              "    [theme=dark] .colab-df-convert:hover {\n",
              "      background-color: #434B5C;\n",
              "      box-shadow: 0px 1px 3px 1px rgba(0, 0, 0, 0.15);\n",
              "      filter: drop-shadow(0px 1px 2px rgba(0, 0, 0, 0.3));\n",
              "      fill: #FFFFFF;\n",
              "    }\n",
              "  </style>\n",
              "\n",
              "      <script>\n",
              "        const buttonEl =\n",
              "          document.querySelector('#df-14b13a52-d254-4120-b2b9-c3f9478cb9b0 button.colab-df-convert');\n",
              "        buttonEl.style.display =\n",
              "          google.colab.kernel.accessAllowed ? 'block' : 'none';\n",
              "\n",
              "        async function convertToInteractive(key) {\n",
              "          const element = document.querySelector('#df-14b13a52-d254-4120-b2b9-c3f9478cb9b0');\n",
              "          const dataTable =\n",
              "            await google.colab.kernel.invokeFunction('convertToInteractive',\n",
              "                                                     [key], {});\n",
              "          if (!dataTable) return;\n",
              "\n",
              "          const docLinkHtml = 'Like what you see? Visit the ' +\n",
              "            '<a target=\"_blank\" href=https://colab.research.google.com/notebooks/data_table.ipynb>data table notebook</a>'\n",
              "            + ' to learn more about interactive tables.';\n",
              "          element.innerHTML = '';\n",
              "          dataTable['output_type'] = 'display_data';\n",
              "          await google.colab.output.renderOutput(dataTable, element);\n",
              "          const docLink = document.createElement('div');\n",
              "          docLink.innerHTML = docLinkHtml;\n",
              "          element.appendChild(docLink);\n",
              "        }\n",
              "      </script>\n",
              "    </div>\n",
              "  </div>\n",
              "  "
            ]
          },
          "metadata": {},
          "execution_count": 170
        }
      ]
    },
    {
      "cell_type": "markdown",
      "source": [
        "### Training the models"
      ],
      "metadata": {
        "id": "gBdfOFwOu5NY"
      }
    },
    {
      "cell_type": "code",
      "source": [
        "keys= [\"ride_id\"]\n",
        "Target_name=\"number_of_ticket\"\n",
        "not_used_cols= [\"ride_id\",\"travel_time\" ,\"travel_date\",\"date\",'year_woy','max_capacity','number_of_ticket', 'period']"
      ],
      "metadata": {
        "id": "o0R2DJmou8HC"
      },
      "execution_count": 171,
      "outputs": []
    },
    {
      "cell_type": "code",
      "source": [
        "features = data.drop(not_used_cols, axis=1).columns"
      ],
      "metadata": {
        "id": "NFgfEoBivesN"
      },
      "execution_count": 172,
      "outputs": []
    },
    {
      "cell_type": "code",
      "source": [
        "features"
      ],
      "metadata": {
        "id": "sKHi6SSvvnbN",
        "colab": {
          "base_uri": "https://localhost:8080/"
        },
        "outputId": "8ff5cbd8-49e5-47f8-fcd2-d39972f90039"
      },
      "execution_count": 173,
      "outputs": [
        {
          "output_type": "execute_result",
          "data": {
            "text/plain": [
              "Index(['car_type', 'day_of_week', 'day_of_year', 'hour', 'minute',\n",
              "       'is_weekend', 'year', 'quarter', 'hourly_travelers', 'daily_travelers',\n",
              "       'Time_gap_btw_0_1_next_bus', 'Time_gap_btw_0_1_previous_bus',\n",
              "       'Time_gap_btw_0_2_next_bus', 'Time_gap_btw_0_2_previous_bus',\n",
              "       'Time_gap_btw_0_3_next_bus', 'Time_gap_btw_0_3_previous_bus',\n",
              "       'Time_gap_btw_next_previous_bus', 'travel_from_distance',\n",
              "       'travel_from_time', 'speed', 'hod_arrived_date', 'minute_arrived_date',\n",
              "       'is_rush_hour', 'travel_from_Awendo', 'travel_from_Homa Bay',\n",
              "       'travel_from_Kehancha', 'travel_from_Keroka', 'travel_from_Keumbu',\n",
              "       'travel_from_Kijauri', 'travel_from_Kisii', 'travel_from_Mbita',\n",
              "       'travel_from_Migori', 'travel_from_Ndhiwa', 'travel_from_Nyachenge',\n",
              "       'travel_from_Rodi', 'travel_from_Rongo', 'travel_from_Sirare',\n",
              "       'travel_from_Sori', 'day_of_month_1', 'day_of_month_2',\n",
              "       'day_of_month_3', 'month_1', 'month_2', 'month_3'],\n",
              "      dtype='object')"
            ]
          },
          "metadata": {},
          "execution_count": 173
        }
      ]
    },
    {
      "cell_type": "code",
      "source": [
        "from sklearn.model_selection import train_test_split\n",
        "from sklearn.feature_selection import VarianceThreshold\n",
        "from sklearn.model_selection import cross_val_score\n",
        "from sklearn.model_selection import RepeatedKFold\n",
        "from sklearn.ensemble import GradientBoostingRegressor\n",
        "from sklearn.metrics import mean_absolute_error, mean_squared_error, r2_score"
      ],
      "metadata": {
        "id": "j7OdpoPPvqHp"
      },
      "execution_count": 174,
      "outputs": []
    },
    {
      "cell_type": "code",
      "source": [
        "data[features].head()"
      ],
      "metadata": {
        "id": "1HeDHYl-wZAE",
        "colab": {
          "base_uri": "https://localhost:8080/",
          "height": 299
        },
        "outputId": "a2d9d4a3-8492-43cc-ae89-fa7fe70a0f51"
      },
      "execution_count": 175,
      "outputs": [
        {
          "output_type": "execute_result",
          "data": {
            "text/plain": [
              "      car_type  day_of_week  day_of_year  hour  minute  is_weekend  year  \\\n",
              "502          1            4          132     7       8           0  2017   \n",
              "5530         1            3            4     7       8           0  2018   \n",
              "5533         1            3            4     7      12           0  2018   \n",
              "5539         1            3            4     7      13           0  2018   \n",
              "5528         1            3            4     8       0           0  2018   \n",
              "\n",
              "      quarter  hourly_travelers  daily_travelers  ...  travel_from_Rodi  \\\n",
              "502         2          8.512382         4.025352  ...                 0   \n",
              "5530        1          8.512382         3.526361  ...                 0   \n",
              "5533        1          8.512382         3.526361  ...                 0   \n",
              "5539        1          8.512382         3.526361  ...                 0   \n",
              "5528        1          8.512382         3.526361  ...                 0   \n",
              "\n",
              "      travel_from_Rongo  travel_from_Sirare  travel_from_Sori  day_of_month_1  \\\n",
              "502                   0                   0                 0               1   \n",
              "5530                  0                   0                 0               1   \n",
              "5533                  0                   0                 0               1   \n",
              "5539                  0                   0                 0               1   \n",
              "5528                  0                   0                 0               1   \n",
              "\n",
              "      day_of_month_2  day_of_month_3  month_1  month_2  month_3  \n",
              "502                0               0        0        0        1  \n",
              "5530               0               0        1        0        0  \n",
              "5533               0               0        1        0        0  \n",
              "5539               0               0        1        0        0  \n",
              "5528               0               0        1        0        0  \n",
              "\n",
              "[5 rows x 44 columns]"
            ],
            "text/html": [
              "\n",
              "  <div id=\"df-94d222d3-3932-4734-ba6e-c4ec5b3e4bbe\">\n",
              "    <div class=\"colab-df-container\">\n",
              "      <div>\n",
              "<style scoped>\n",
              "    .dataframe tbody tr th:only-of-type {\n",
              "        vertical-align: middle;\n",
              "    }\n",
              "\n",
              "    .dataframe tbody tr th {\n",
              "        vertical-align: top;\n",
              "    }\n",
              "\n",
              "    .dataframe thead th {\n",
              "        text-align: right;\n",
              "    }\n",
              "</style>\n",
              "<table border=\"1\" class=\"dataframe\">\n",
              "  <thead>\n",
              "    <tr style=\"text-align: right;\">\n",
              "      <th></th>\n",
              "      <th>car_type</th>\n",
              "      <th>day_of_week</th>\n",
              "      <th>day_of_year</th>\n",
              "      <th>hour</th>\n",
              "      <th>minute</th>\n",
              "      <th>is_weekend</th>\n",
              "      <th>year</th>\n",
              "      <th>quarter</th>\n",
              "      <th>hourly_travelers</th>\n",
              "      <th>daily_travelers</th>\n",
              "      <th>...</th>\n",
              "      <th>travel_from_Rodi</th>\n",
              "      <th>travel_from_Rongo</th>\n",
              "      <th>travel_from_Sirare</th>\n",
              "      <th>travel_from_Sori</th>\n",
              "      <th>day_of_month_1</th>\n",
              "      <th>day_of_month_2</th>\n",
              "      <th>day_of_month_3</th>\n",
              "      <th>month_1</th>\n",
              "      <th>month_2</th>\n",
              "      <th>month_3</th>\n",
              "    </tr>\n",
              "  </thead>\n",
              "  <tbody>\n",
              "    <tr>\n",
              "      <th>502</th>\n",
              "      <td>1</td>\n",
              "      <td>4</td>\n",
              "      <td>132</td>\n",
              "      <td>7</td>\n",
              "      <td>8</td>\n",
              "      <td>0</td>\n",
              "      <td>2017</td>\n",
              "      <td>2</td>\n",
              "      <td>8.512382</td>\n",
              "      <td>4.025352</td>\n",
              "      <td>...</td>\n",
              "      <td>0</td>\n",
              "      <td>0</td>\n",
              "      <td>0</td>\n",
              "      <td>0</td>\n",
              "      <td>1</td>\n",
              "      <td>0</td>\n",
              "      <td>0</td>\n",
              "      <td>0</td>\n",
              "      <td>0</td>\n",
              "      <td>1</td>\n",
              "    </tr>\n",
              "    <tr>\n",
              "      <th>5530</th>\n",
              "      <td>1</td>\n",
              "      <td>3</td>\n",
              "      <td>4</td>\n",
              "      <td>7</td>\n",
              "      <td>8</td>\n",
              "      <td>0</td>\n",
              "      <td>2018</td>\n",
              "      <td>1</td>\n",
              "      <td>8.512382</td>\n",
              "      <td>3.526361</td>\n",
              "      <td>...</td>\n",
              "      <td>0</td>\n",
              "      <td>0</td>\n",
              "      <td>0</td>\n",
              "      <td>0</td>\n",
              "      <td>1</td>\n",
              "      <td>0</td>\n",
              "      <td>0</td>\n",
              "      <td>1</td>\n",
              "      <td>0</td>\n",
              "      <td>0</td>\n",
              "    </tr>\n",
              "    <tr>\n",
              "      <th>5533</th>\n",
              "      <td>1</td>\n",
              "      <td>3</td>\n",
              "      <td>4</td>\n",
              "      <td>7</td>\n",
              "      <td>12</td>\n",
              "      <td>0</td>\n",
              "      <td>2018</td>\n",
              "      <td>1</td>\n",
              "      <td>8.512382</td>\n",
              "      <td>3.526361</td>\n",
              "      <td>...</td>\n",
              "      <td>0</td>\n",
              "      <td>0</td>\n",
              "      <td>0</td>\n",
              "      <td>0</td>\n",
              "      <td>1</td>\n",
              "      <td>0</td>\n",
              "      <td>0</td>\n",
              "      <td>1</td>\n",
              "      <td>0</td>\n",
              "      <td>0</td>\n",
              "    </tr>\n",
              "    <tr>\n",
              "      <th>5539</th>\n",
              "      <td>1</td>\n",
              "      <td>3</td>\n",
              "      <td>4</td>\n",
              "      <td>7</td>\n",
              "      <td>13</td>\n",
              "      <td>0</td>\n",
              "      <td>2018</td>\n",
              "      <td>1</td>\n",
              "      <td>8.512382</td>\n",
              "      <td>3.526361</td>\n",
              "      <td>...</td>\n",
              "      <td>0</td>\n",
              "      <td>0</td>\n",
              "      <td>0</td>\n",
              "      <td>0</td>\n",
              "      <td>1</td>\n",
              "      <td>0</td>\n",
              "      <td>0</td>\n",
              "      <td>1</td>\n",
              "      <td>0</td>\n",
              "      <td>0</td>\n",
              "    </tr>\n",
              "    <tr>\n",
              "      <th>5528</th>\n",
              "      <td>1</td>\n",
              "      <td>3</td>\n",
              "      <td>4</td>\n",
              "      <td>8</td>\n",
              "      <td>0</td>\n",
              "      <td>0</td>\n",
              "      <td>2018</td>\n",
              "      <td>1</td>\n",
              "      <td>8.512382</td>\n",
              "      <td>3.526361</td>\n",
              "      <td>...</td>\n",
              "      <td>0</td>\n",
              "      <td>0</td>\n",
              "      <td>0</td>\n",
              "      <td>0</td>\n",
              "      <td>1</td>\n",
              "      <td>0</td>\n",
              "      <td>0</td>\n",
              "      <td>1</td>\n",
              "      <td>0</td>\n",
              "      <td>0</td>\n",
              "    </tr>\n",
              "  </tbody>\n",
              "</table>\n",
              "<p>5 rows × 44 columns</p>\n",
              "</div>\n",
              "      <button class=\"colab-df-convert\" onclick=\"convertToInteractive('df-94d222d3-3932-4734-ba6e-c4ec5b3e4bbe')\"\n",
              "              title=\"Convert this dataframe to an interactive table.\"\n",
              "              style=\"display:none;\">\n",
              "        \n",
              "  <svg xmlns=\"http://www.w3.org/2000/svg\" height=\"24px\"viewBox=\"0 0 24 24\"\n",
              "       width=\"24px\">\n",
              "    <path d=\"M0 0h24v24H0V0z\" fill=\"none\"/>\n",
              "    <path d=\"M18.56 5.44l.94 2.06.94-2.06 2.06-.94-2.06-.94-.94-2.06-.94 2.06-2.06.94zm-11 1L8.5 8.5l.94-2.06 2.06-.94-2.06-.94L8.5 2.5l-.94 2.06-2.06.94zm10 10l.94 2.06.94-2.06 2.06-.94-2.06-.94-.94-2.06-.94 2.06-2.06.94z\"/><path d=\"M17.41 7.96l-1.37-1.37c-.4-.4-.92-.59-1.43-.59-.52 0-1.04.2-1.43.59L10.3 9.45l-7.72 7.72c-.78.78-.78 2.05 0 2.83L4 21.41c.39.39.9.59 1.41.59.51 0 1.02-.2 1.41-.59l7.78-7.78 2.81-2.81c.8-.78.8-2.07 0-2.86zM5.41 20L4 18.59l7.72-7.72 1.47 1.35L5.41 20z\"/>\n",
              "  </svg>\n",
              "      </button>\n",
              "      \n",
              "  <style>\n",
              "    .colab-df-container {\n",
              "      display:flex;\n",
              "      flex-wrap:wrap;\n",
              "      gap: 12px;\n",
              "    }\n",
              "\n",
              "    .colab-df-convert {\n",
              "      background-color: #E8F0FE;\n",
              "      border: none;\n",
              "      border-radius: 50%;\n",
              "      cursor: pointer;\n",
              "      display: none;\n",
              "      fill: #1967D2;\n",
              "      height: 32px;\n",
              "      padding: 0 0 0 0;\n",
              "      width: 32px;\n",
              "    }\n",
              "\n",
              "    .colab-df-convert:hover {\n",
              "      background-color: #E2EBFA;\n",
              "      box-shadow: 0px 1px 2px rgba(60, 64, 67, 0.3), 0px 1px 3px 1px rgba(60, 64, 67, 0.15);\n",
              "      fill: #174EA6;\n",
              "    }\n",
              "\n",
              "    [theme=dark] .colab-df-convert {\n",
              "      background-color: #3B4455;\n",
              "      fill: #D2E3FC;\n",
              "    }\n",
              "\n",
              "    [theme=dark] .colab-df-convert:hover {\n",
              "      background-color: #434B5C;\n",
              "      box-shadow: 0px 1px 3px 1px rgba(0, 0, 0, 0.15);\n",
              "      filter: drop-shadow(0px 1px 2px rgba(0, 0, 0, 0.3));\n",
              "      fill: #FFFFFF;\n",
              "    }\n",
              "  </style>\n",
              "\n",
              "      <script>\n",
              "        const buttonEl =\n",
              "          document.querySelector('#df-94d222d3-3932-4734-ba6e-c4ec5b3e4bbe button.colab-df-convert');\n",
              "        buttonEl.style.display =\n",
              "          google.colab.kernel.accessAllowed ? 'block' : 'none';\n",
              "\n",
              "        async function convertToInteractive(key) {\n",
              "          const element = document.querySelector('#df-94d222d3-3932-4734-ba6e-c4ec5b3e4bbe');\n",
              "          const dataTable =\n",
              "            await google.colab.kernel.invokeFunction('convertToInteractive',\n",
              "                                                     [key], {});\n",
              "          if (!dataTable) return;\n",
              "\n",
              "          const docLinkHtml = 'Like what you see? Visit the ' +\n",
              "            '<a target=\"_blank\" href=https://colab.research.google.com/notebooks/data_table.ipynb>data table notebook</a>'\n",
              "            + ' to learn more about interactive tables.';\n",
              "          element.innerHTML = '';\n",
              "          dataTable['output_type'] = 'display_data';\n",
              "          await google.colab.output.renderOutput(dataTable, element);\n",
              "          const docLink = document.createElement('div');\n",
              "          docLink.innerHTML = docLinkHtml;\n",
              "          element.appendChild(docLink);\n",
              "        }\n",
              "      </script>\n",
              "    </div>\n",
              "  </div>\n",
              "  "
            ]
          },
          "metadata": {},
          "execution_count": 175
        }
      ]
    },
    {
      "cell_type": "markdown",
      "source": [
        "# Linear Regression"
      ],
      "metadata": {
        "id": "C8QH2Oc1wez6"
      }
    },
    {
      "cell_type": "code",
      "source": [
        "import math"
      ],
      "metadata": {
        "id": "Y-QFvaOGwhJR"
      },
      "execution_count": 176,
      "outputs": []
    },
    {
      "cell_type": "code",
      "source": [
        "def print_metrics(actual, predicted):\n",
        "  print('MSE is {}'.format(mean_squared_error(actual, predicted)))\n",
        "  print('RMSE is {}'.format(math.sqrt(mean_squared_error(actual, predicted))))\n",
        "  print('RMSE is {}'.format(r2_score(actual, predicted)))\n",
        "  print('MAE is {}'.format(mean_absolute_error(actual, predicted)))\n",
        "  print('MAPE is {}'.format(np.mean(np.abs((actual - predicted) / actual)) * 100))"
      ],
      "metadata": {
        "id": "Kkulz6n2wkW6"
      },
      "execution_count": 177,
      "outputs": []
    },
    {
      "cell_type": "markdown",
      "source": [
        "From the below code each feature in the dataset, the code adds the feature to the list of used columns and creates a new dataset called dataset_pr that only contains the used_cols. The train_test_split function is then used to split the data into training and testing sets. A linear regression model is trained using the training data, and the model is used to predict the number of tickets sold in the testing data. The R-squared value and adjusted R-squared value are then calculated to evaluate the performance of the model.\n",
        "\n",
        "* If the adjusted R-squared value is greater than the previous value, the prev_adjR2 variable is updated with the new value, and the model performance metrics are saved. Otherwise, the most recently added feature is removed from the used_cols list.\n",
        "\n",
        "* At the end of the loop, the code prints the adjusted R-squared value, the training and testing scores, and the R-squared value for the final model. It also prints the list of important features that were used in the final model."
      ],
      "metadata": {
        "id": "8lqVQf4jHSk1"
      }
    },
    {
      "cell_type": "code",
      "source": [
        "from sklearn.linear_model import LinearRegression\n",
        "from sklearn.model_selection import train_test_split\n",
        "from sklearn.metrics import r2_score\n",
        "\n",
        "used_cols = ['day_of_year']\n",
        "prev_adjR2 = -0.01177282976168792\n",
        "for col in features:\n",
        "  used_cols.append(col)\n",
        "  dataset_pr = data[used_cols]\n",
        "  X= dataset_pr.copy()\n",
        "  y = data['number_of_ticket']\n",
        "  X_train, X_test, y_train, y_test = train_test_split(X,y,test_size=0.33, random_state=42)\n",
        "  model = LinearRegression()\n",
        "  model.fit(X_train, y_train)\n",
        "  # Predicting \n",
        "  y_pred = model.predict(X_test)\n",
        "  #Find R-squared value\n",
        "  r2 = r2_score(y_test, y_pred)\n",
        "  # Find Adjusted R-squared value\n",
        "  adj_r2=1-(1-r2_score(y_test, y_pred))*((X_test.shape[0]-1)/(X_test.shape[0]-X_test.shape[1]-1))\n",
        "  if prev_adjR2<adj_r2:\n",
        "    prev_adjR2 = adj_r2\n",
        "    train_score = model.score(X_train, y_train)\n",
        "    test_score = model.score(X_test,y_test)\n",
        "    y_train_pred = model.predict(X_train)\n",
        "    y_test_pred = model.predict(X_test)\n",
        "  else:\n",
        "    used_cols.pop()\n",
        "\n",
        "print(f'Adjust_r2: {prev_adjR2}')\n",
        "print(f'Train score: {train_score}')\n",
        "print(f'Test score: {test_score}')\n",
        "print(r2)\n",
        "print('Important features are: \\n')\n",
        "used_cols"
      ],
      "metadata": {
        "colab": {
          "base_uri": "https://localhost:8080/"
        },
        "id": "dJxiHiJpx-Wo",
        "outputId": "8a5bb0b9-150a-40ce-dd3b-6f14f7a5bf74"
      },
      "execution_count": 178,
      "outputs": [
        {
          "output_type": "stream",
          "name": "stdout",
          "text": [
            "Adjust_r2: 0.35567284373975505\n",
            "Train score: 0.42193232412618975\n",
            "Test score: 0.3628632972060266\n",
            "0.3629134020782159\n",
            "Important features are: \n",
            "\n"
          ]
        },
        {
          "output_type": "execute_result",
          "data": {
            "text/plain": [
              "['day_of_year',\n",
              " 'car_type',\n",
              " 'hour',\n",
              " 'hourly_travelers',\n",
              " 'daily_travelers',\n",
              " 'Time_gap_btw_0_1_next_bus',\n",
              " 'travel_from_distance',\n",
              " 'hod_arrived_date',\n",
              " 'minute_arrived_date',\n",
              " 'is_rush_hour',\n",
              " 'travel_from_Homa Bay',\n",
              " 'travel_from_Keroka',\n",
              " 'travel_from_Kijauri',\n",
              " 'travel_from_Kisii',\n",
              " 'travel_from_Migori',\n",
              " 'travel_from_Ndhiwa',\n",
              " 'travel_from_Nyachenge',\n",
              " 'travel_from_Rodi',\n",
              " 'travel_from_Rongo',\n",
              " 'travel_from_Sirare',\n",
              " 'travel_from_Sori',\n",
              " 'day_of_month_3',\n",
              " 'month_1']"
            ]
          },
          "metadata": {},
          "execution_count": 178
        }
      ]
    },
    {
      "cell_type": "code",
      "source": [
        "# Test dataset metrics\n",
        "print_metrics(y_test, y_test_pred)"
      ],
      "metadata": {
        "colab": {
          "base_uri": "https://localhost:8080/"
        },
        "id": "IVqmjN562WVb",
        "outputId": "5aab4fe5-fd82-4202-c840-8daa3a0f94c8"
      },
      "execution_count": 179,
      "outputs": [
        {
          "output_type": "stream",
          "name": "stdout",
          "text": [
            "MSE is 47.816493932966665\n",
            "RMSE is 6.914947138841097\n",
            "RMSE is 0.3628632972060266\n",
            "MAE is 4.715559135853915\n",
            "MAPE is 164.31772319084828\n"
          ]
        }
      ]
    },
    {
      "cell_type": "markdown",
      "source": [
        "### Implementing Lasso Regression"
      ],
      "metadata": {
        "id": "MPwqmusS2i8E"
      }
    },
    {
      "cell_type": "code",
      "source": [
        "from sklearn.linear_model import Lasso"
      ],
      "metadata": {
        "id": "kqnK8AMz2nW4"
      },
      "execution_count": 180,
      "outputs": []
    },
    {
      "cell_type": "code",
      "source": [
        "X = data[used_cols].copy()\n",
        "y = data['number_of_ticket']\n",
        "X_train, X_test, y_train, y_test = train_test_split(X,y,test_size=0.33, random_state=42)\n",
        "alphas = [0.01, 0.025, 0.5, 0.75, 1]\n",
        "for alpha in alphas:\n",
        "  lasso = Lasso(alpha=alpha, max_iter= 3000)\n",
        "  lasso.fit(X_train, y_train)\n",
        "  print('alpha: ', alpha)\n",
        "  print('test Score: ', lasso.score(X_test, y_test))\n",
        "  print('train Score: ', lasso.score(X_train, y_train))"
      ],
      "metadata": {
        "colab": {
          "base_uri": "https://localhost:8080/"
        },
        "id": "7db8ef0i2to-",
        "outputId": "0efeb6f3-3116-4de2-ad29-de3d902fa6e4"
      },
      "execution_count": 181,
      "outputs": [
        {
          "output_type": "stream",
          "name": "stdout",
          "text": [
            "alpha:  0.01\n",
            "test Score:  0.36148599280258054\n",
            "train Score:  0.4197457311868147\n",
            "alpha:  0.025\n",
            "test Score:  0.3589142152029795\n",
            "train Score:  0.4146433216823071\n",
            "alpha:  0.5\n",
            "test Score:  0.25741406289465973\n",
            "train Score:  0.2724575346862984\n",
            "alpha:  0.75\n",
            "test Score:  0.2528049827150224\n",
            "train Score:  0.26645170307772004\n",
            "alpha:  1\n",
            "test Score:  0.2523645079899599\n",
            "train Score:  0.26568673926522457\n"
          ]
        }
      ]
    },
    {
      "cell_type": "code",
      "source": [
        "lasso = Lasso(alpha= 0.01, max_iter= 3000)\n",
        "lasso.fit(X_train, y_train)"
      ],
      "metadata": {
        "colab": {
          "base_uri": "https://localhost:8080/",
          "height": 74
        },
        "id": "vSwFxJAg4DrZ",
        "outputId": "191fc910-8f69-49f6-c0d2-473e8ec7f94c"
      },
      "execution_count": 182,
      "outputs": [
        {
          "output_type": "execute_result",
          "data": {
            "text/plain": [
              "Lasso(alpha=0.01, max_iter=3000)"
            ],
            "text/html": [
              "<style>#sk-container-id-6 {color: black;background-color: white;}#sk-container-id-6 pre{padding: 0;}#sk-container-id-6 div.sk-toggleable {background-color: white;}#sk-container-id-6 label.sk-toggleable__label {cursor: pointer;display: block;width: 100%;margin-bottom: 0;padding: 0.3em;box-sizing: border-box;text-align: center;}#sk-container-id-6 label.sk-toggleable__label-arrow:before {content: \"▸\";float: left;margin-right: 0.25em;color: #696969;}#sk-container-id-6 label.sk-toggleable__label-arrow:hover:before {color: black;}#sk-container-id-6 div.sk-estimator:hover label.sk-toggleable__label-arrow:before {color: black;}#sk-container-id-6 div.sk-toggleable__content {max-height: 0;max-width: 0;overflow: hidden;text-align: left;background-color: #f0f8ff;}#sk-container-id-6 div.sk-toggleable__content pre {margin: 0.2em;color: black;border-radius: 0.25em;background-color: #f0f8ff;}#sk-container-id-6 input.sk-toggleable__control:checked~div.sk-toggleable__content {max-height: 200px;max-width: 100%;overflow: auto;}#sk-container-id-6 input.sk-toggleable__control:checked~label.sk-toggleable__label-arrow:before {content: \"▾\";}#sk-container-id-6 div.sk-estimator input.sk-toggleable__control:checked~label.sk-toggleable__label {background-color: #d4ebff;}#sk-container-id-6 div.sk-label input.sk-toggleable__control:checked~label.sk-toggleable__label {background-color: #d4ebff;}#sk-container-id-6 input.sk-hidden--visually {border: 0;clip: rect(1px 1px 1px 1px);clip: rect(1px, 1px, 1px, 1px);height: 1px;margin: -1px;overflow: hidden;padding: 0;position: absolute;width: 1px;}#sk-container-id-6 div.sk-estimator {font-family: monospace;background-color: #f0f8ff;border: 1px dotted black;border-radius: 0.25em;box-sizing: border-box;margin-bottom: 0.5em;}#sk-container-id-6 div.sk-estimator:hover {background-color: #d4ebff;}#sk-container-id-6 div.sk-parallel-item::after {content: \"\";width: 100%;border-bottom: 1px solid gray;flex-grow: 1;}#sk-container-id-6 div.sk-label:hover label.sk-toggleable__label {background-color: #d4ebff;}#sk-container-id-6 div.sk-serial::before {content: \"\";position: absolute;border-left: 1px solid gray;box-sizing: border-box;top: 0;bottom: 0;left: 50%;z-index: 0;}#sk-container-id-6 div.sk-serial {display: flex;flex-direction: column;align-items: center;background-color: white;padding-right: 0.2em;padding-left: 0.2em;position: relative;}#sk-container-id-6 div.sk-item {position: relative;z-index: 1;}#sk-container-id-6 div.sk-parallel {display: flex;align-items: stretch;justify-content: center;background-color: white;position: relative;}#sk-container-id-6 div.sk-item::before, #sk-container-id-6 div.sk-parallel-item::before {content: \"\";position: absolute;border-left: 1px solid gray;box-sizing: border-box;top: 0;bottom: 0;left: 50%;z-index: -1;}#sk-container-id-6 div.sk-parallel-item {display: flex;flex-direction: column;z-index: 1;position: relative;background-color: white;}#sk-container-id-6 div.sk-parallel-item:first-child::after {align-self: flex-end;width: 50%;}#sk-container-id-6 div.sk-parallel-item:last-child::after {align-self: flex-start;width: 50%;}#sk-container-id-6 div.sk-parallel-item:only-child::after {width: 0;}#sk-container-id-6 div.sk-dashed-wrapped {border: 1px dashed gray;margin: 0 0.4em 0.5em 0.4em;box-sizing: border-box;padding-bottom: 0.4em;background-color: white;}#sk-container-id-6 div.sk-label label {font-family: monospace;font-weight: bold;display: inline-block;line-height: 1.2em;}#sk-container-id-6 div.sk-label-container {text-align: center;}#sk-container-id-6 div.sk-container {/* jupyter's `normalize.less` sets `[hidden] { display: none; }` but bootstrap.min.css set `[hidden] { display: none !important; }` so we also need the `!important` here to be able to override the default hidden behavior on the sphinx rendered scikit-learn.org. See: https://github.com/scikit-learn/scikit-learn/issues/21755 */display: inline-block !important;position: relative;}#sk-container-id-6 div.sk-text-repr-fallback {display: none;}</style><div id=\"sk-container-id-6\" class=\"sk-top-container\"><div class=\"sk-text-repr-fallback\"><pre>Lasso(alpha=0.01, max_iter=3000)</pre><b>In a Jupyter environment, please rerun this cell to show the HTML representation or trust the notebook. <br />On GitHub, the HTML representation is unable to render, please try loading this page with nbviewer.org.</b></div><div class=\"sk-container\" hidden><div class=\"sk-item\"><div class=\"sk-estimator sk-toggleable\"><input class=\"sk-toggleable__control sk-hidden--visually\" id=\"sk-estimator-id-12\" type=\"checkbox\" checked><label for=\"sk-estimator-id-12\" class=\"sk-toggleable__label sk-toggleable__label-arrow\">Lasso</label><div class=\"sk-toggleable__content\"><pre>Lasso(alpha=0.01, max_iter=3000)</pre></div></div></div></div></div>"
            ]
          },
          "metadata": {},
          "execution_count": 182
        }
      ]
    },
    {
      "cell_type": "code",
      "source": [
        "y_test_pred = lasso.predict(X_test)\n",
        "print('MSE is {}'.format(mean_squared_error(y_test, y_test_pred)))\n",
        "print('RMSE is {}'.format(math.sqrt(mean_squared_error(y_test, y_test_pred))))\n",
        "print('MAE is {}'.format(mean_absolute_error(y_test, y_test_pred)))"
      ],
      "metadata": {
        "colab": {
          "base_uri": "https://localhost:8080/"
        },
        "id": "zSuijZOm4Pzd",
        "outputId": "4a8ca8bf-5d6c-4651-b4b2-16724f17844f"
      },
      "execution_count": 183,
      "outputs": [
        {
          "output_type": "stream",
          "name": "stdout",
          "text": [
            "MSE is 47.91985929767164\n",
            "RMSE is 6.922417157154836\n",
            "MAE is 4.722295129640604\n"
          ]
        }
      ]
    },
    {
      "cell_type": "markdown",
      "source": [
        "# Ridge Regression"
      ],
      "metadata": {
        "id": "zzA480mA8bAr"
      }
    },
    {
      "cell_type": "code",
      "source": [
        "from sklearn.linear_model import Ridge\n",
        "from sklearn.model_selection import GridSearchCV"
      ],
      "metadata": {
        "id": "Jjife8jl8gXZ"
      },
      "execution_count": 184,
      "outputs": []
    },
    {
      "cell_type": "markdown",
      "source": [
        "From the below code, the dataset is split into training and testing sets, and the hyperparameters for Ridge regression are tuned using GridSearchCV. The hyperparameters that are tuned are the regularization parameter 'alpha'. A range of values for alpha is defined in the 'parameters' dictionary. The GridSearchCV function performs a cross-validation grid search over the range of values of alpha, and the best alpha value is chosen based on the mean squared error score (neg_mean_squared_error). The best model is then trained on the training set with the chosen hyperparameters."
      ],
      "metadata": {
        "id": "TCpDQOb3H_sv"
      }
    },
    {
      "cell_type": "code",
      "source": [
        "# Hyperparameter tuning\n",
        "X = data[features].copy()\n",
        "y = data['number_of_ticket']\n",
        "X_train, X_test, y_train, y_test = train_test_split(X,y, test_size=0.33, random_state=42)\n",
        "ridge = Ridge()\n",
        "parameters = {'alpha': [1e-15,1e-10,1e-8,1e-5,1e-4,1e-3,1e-2,1,5,10,20,30,40,45,50,55,60,100]}\n",
        "ridge_regressor = GridSearchCV(ridge, parameters, scoring= 'neg_mean_squared_error', cv=3)\n",
        "ridge_regressor.fit(X_train, y_train)"
      ],
      "metadata": {
        "colab": {
          "base_uri": "https://localhost:8080/",
          "height": 255
        },
        "id": "ZsXniRpi81os",
        "outputId": "55388aa0-8266-4a73-b391-579f9b396310"
      },
      "execution_count": 185,
      "outputs": [
        {
          "output_type": "execute_result",
          "data": {
            "text/plain": [
              "GridSearchCV(cv=3, estimator=Ridge(),\n",
              "             param_grid={'alpha': [1e-15, 1e-10, 1e-08, 1e-05, 0.0001, 0.001,\n",
              "                                   0.01, 1, 5, 10, 20, 30, 40, 45, 50, 55, 60,\n",
              "                                   100]},\n",
              "             scoring='neg_mean_squared_error')"
            ],
            "text/html": [
              "<style>#sk-container-id-7 {color: black;background-color: white;}#sk-container-id-7 pre{padding: 0;}#sk-container-id-7 div.sk-toggleable {background-color: white;}#sk-container-id-7 label.sk-toggleable__label {cursor: pointer;display: block;width: 100%;margin-bottom: 0;padding: 0.3em;box-sizing: border-box;text-align: center;}#sk-container-id-7 label.sk-toggleable__label-arrow:before {content: \"▸\";float: left;margin-right: 0.25em;color: #696969;}#sk-container-id-7 label.sk-toggleable__label-arrow:hover:before {color: black;}#sk-container-id-7 div.sk-estimator:hover label.sk-toggleable__label-arrow:before {color: black;}#sk-container-id-7 div.sk-toggleable__content {max-height: 0;max-width: 0;overflow: hidden;text-align: left;background-color: #f0f8ff;}#sk-container-id-7 div.sk-toggleable__content pre {margin: 0.2em;color: black;border-radius: 0.25em;background-color: #f0f8ff;}#sk-container-id-7 input.sk-toggleable__control:checked~div.sk-toggleable__content {max-height: 200px;max-width: 100%;overflow: auto;}#sk-container-id-7 input.sk-toggleable__control:checked~label.sk-toggleable__label-arrow:before {content: \"▾\";}#sk-container-id-7 div.sk-estimator input.sk-toggleable__control:checked~label.sk-toggleable__label {background-color: #d4ebff;}#sk-container-id-7 div.sk-label input.sk-toggleable__control:checked~label.sk-toggleable__label {background-color: #d4ebff;}#sk-container-id-7 input.sk-hidden--visually {border: 0;clip: rect(1px 1px 1px 1px);clip: rect(1px, 1px, 1px, 1px);height: 1px;margin: -1px;overflow: hidden;padding: 0;position: absolute;width: 1px;}#sk-container-id-7 div.sk-estimator {font-family: monospace;background-color: #f0f8ff;border: 1px dotted black;border-radius: 0.25em;box-sizing: border-box;margin-bottom: 0.5em;}#sk-container-id-7 div.sk-estimator:hover {background-color: #d4ebff;}#sk-container-id-7 div.sk-parallel-item::after {content: \"\";width: 100%;border-bottom: 1px solid gray;flex-grow: 1;}#sk-container-id-7 div.sk-label:hover label.sk-toggleable__label {background-color: #d4ebff;}#sk-container-id-7 div.sk-serial::before {content: \"\";position: absolute;border-left: 1px solid gray;box-sizing: border-box;top: 0;bottom: 0;left: 50%;z-index: 0;}#sk-container-id-7 div.sk-serial {display: flex;flex-direction: column;align-items: center;background-color: white;padding-right: 0.2em;padding-left: 0.2em;position: relative;}#sk-container-id-7 div.sk-item {position: relative;z-index: 1;}#sk-container-id-7 div.sk-parallel {display: flex;align-items: stretch;justify-content: center;background-color: white;position: relative;}#sk-container-id-7 div.sk-item::before, #sk-container-id-7 div.sk-parallel-item::before {content: \"\";position: absolute;border-left: 1px solid gray;box-sizing: border-box;top: 0;bottom: 0;left: 50%;z-index: -1;}#sk-container-id-7 div.sk-parallel-item {display: flex;flex-direction: column;z-index: 1;position: relative;background-color: white;}#sk-container-id-7 div.sk-parallel-item:first-child::after {align-self: flex-end;width: 50%;}#sk-container-id-7 div.sk-parallel-item:last-child::after {align-self: flex-start;width: 50%;}#sk-container-id-7 div.sk-parallel-item:only-child::after {width: 0;}#sk-container-id-7 div.sk-dashed-wrapped {border: 1px dashed gray;margin: 0 0.4em 0.5em 0.4em;box-sizing: border-box;padding-bottom: 0.4em;background-color: white;}#sk-container-id-7 div.sk-label label {font-family: monospace;font-weight: bold;display: inline-block;line-height: 1.2em;}#sk-container-id-7 div.sk-label-container {text-align: center;}#sk-container-id-7 div.sk-container {/* jupyter's `normalize.less` sets `[hidden] { display: none; }` but bootstrap.min.css set `[hidden] { display: none !important; }` so we also need the `!important` here to be able to override the default hidden behavior on the sphinx rendered scikit-learn.org. See: https://github.com/scikit-learn/scikit-learn/issues/21755 */display: inline-block !important;position: relative;}#sk-container-id-7 div.sk-text-repr-fallback {display: none;}</style><div id=\"sk-container-id-7\" class=\"sk-top-container\"><div class=\"sk-text-repr-fallback\"><pre>GridSearchCV(cv=3, estimator=Ridge(),\n",
              "             param_grid={&#x27;alpha&#x27;: [1e-15, 1e-10, 1e-08, 1e-05, 0.0001, 0.001,\n",
              "                                   0.01, 1, 5, 10, 20, 30, 40, 45, 50, 55, 60,\n",
              "                                   100]},\n",
              "             scoring=&#x27;neg_mean_squared_error&#x27;)</pre><b>In a Jupyter environment, please rerun this cell to show the HTML representation or trust the notebook. <br />On GitHub, the HTML representation is unable to render, please try loading this page with nbviewer.org.</b></div><div class=\"sk-container\" hidden><div class=\"sk-item sk-dashed-wrapped\"><div class=\"sk-label-container\"><div class=\"sk-label sk-toggleable\"><input class=\"sk-toggleable__control sk-hidden--visually\" id=\"sk-estimator-id-13\" type=\"checkbox\" ><label for=\"sk-estimator-id-13\" class=\"sk-toggleable__label sk-toggleable__label-arrow\">GridSearchCV</label><div class=\"sk-toggleable__content\"><pre>GridSearchCV(cv=3, estimator=Ridge(),\n",
              "             param_grid={&#x27;alpha&#x27;: [1e-15, 1e-10, 1e-08, 1e-05, 0.0001, 0.001,\n",
              "                                   0.01, 1, 5, 10, 20, 30, 40, 45, 50, 55, 60,\n",
              "                                   100]},\n",
              "             scoring=&#x27;neg_mean_squared_error&#x27;)</pre></div></div></div><div class=\"sk-parallel\"><div class=\"sk-parallel-item\"><div class=\"sk-item\"><div class=\"sk-label-container\"><div class=\"sk-label sk-toggleable\"><input class=\"sk-toggleable__control sk-hidden--visually\" id=\"sk-estimator-id-14\" type=\"checkbox\" ><label for=\"sk-estimator-id-14\" class=\"sk-toggleable__label sk-toggleable__label-arrow\">estimator: Ridge</label><div class=\"sk-toggleable__content\"><pre>Ridge()</pre></div></div></div><div class=\"sk-serial\"><div class=\"sk-item\"><div class=\"sk-estimator sk-toggleable\"><input class=\"sk-toggleable__control sk-hidden--visually\" id=\"sk-estimator-id-15\" type=\"checkbox\" ><label for=\"sk-estimator-id-15\" class=\"sk-toggleable__label sk-toggleable__label-arrow\">Ridge</label><div class=\"sk-toggleable__content\"><pre>Ridge()</pre></div></div></div></div></div></div></div></div></div></div>"
            ]
          },
          "metadata": {},
          "execution_count": 185
        }
      ]
    },
    {
      "cell_type": "code",
      "source": [
        "print(\"The best fit alpha value is found out to be :\" ,ridge_regressor.best_params_)\n",
        "print(\"\\nUsing \",ridge_regressor.best_params_, \" the negative mean squared error is: \", ridge_regressor.best_score_)"
      ],
      "metadata": {
        "colab": {
          "base_uri": "https://localhost:8080/"
        },
        "id": "mS9GEDiYB9Gu",
        "outputId": "6217494a-1779-4a36-b3ba-5e1bb6e9c216"
      },
      "execution_count": 186,
      "outputs": [
        {
          "output_type": "stream",
          "name": "stdout",
          "text": [
            "The best fit alpha value is found out to be : {'alpha': 1}\n",
            "\n",
            "Using  {'alpha': 1}  the negative mean squared error is:  -44.54661701193115\n"
          ]
        }
      ]
    },
    {
      "cell_type": "code",
      "source": [
        "# Model Prediction \n",
        "y_pred_ridge = ridge_regressor.predict(X_test)\n",
        "print(ridge_regressor.score(X_train, y_train))\n",
        "print(ridge_regressor.score(X_test, y_test))\n",
        "print_metrics(y_test, y_test_pred)\n",
        "r2 = r2_score(y_test, y_pred_ridge)\n",
        "print(\"R2 :\" , r2)\n",
        "print(\"Adjusted R2 : \", 1-(1-r2_score(y_test, y_pred_ridge))*((X_test.shape[0]-1)/(X_test.shape[0]-X_test.shape[1]-1)))"
      ],
      "metadata": {
        "colab": {
          "base_uri": "https://localhost:8080/"
        },
        "id": "mscdSS_5CmVV",
        "outputId": "ebd32100-9015-4524-d646-9edcb3bb0180"
      },
      "execution_count": 187,
      "outputs": [
        {
          "output_type": "stream",
          "name": "stdout",
          "text": [
            "-42.61645409902973\n",
            "-47.90280358550295\n",
            "MSE is 47.91985929767164\n",
            "RMSE is 6.922417157154836\n",
            "RMSE is 0.36148599280258054\n",
            "MAE is 4.722295129640604\n",
            "MAPE is 164.63726899419095\n",
            "R2 : 0.36171325371866103\n",
            "Adjusted R2 :  0.34778929891629173\n"
          ]
        }
      ]
    },
    {
      "cell_type": "markdown",
      "source": [
        "# Training Gradient Boosting Regressor"
      ],
      "metadata": {
        "id": "vv53MkIFDm9w"
      }
    },
    {
      "cell_type": "code",
      "source": [
        "used_cols = ['day_of_year']\n",
        "prev_adjR2 = -0.01177282976168792\n",
        "for col in features:\n",
        "  used_cols.append(col)\n",
        "  dataset_pr = data[used_cols]\n",
        "  X= dataset_pr.copy()\n",
        "  y = data['number_of_ticket']\n",
        "  X_train, X_test, y_train, y_test = train_test_split(X,y,test_size=0.33, random_state=42)\n",
        "  reg = GradientBoostingRegressor(random_state=0)\n",
        "  reg.fit(X_train, y_train)\n",
        "\n",
        "\n",
        "  # Predicting \n",
        "  y_pred = reg.predict(X_test)\n",
        "  y_pred_train=reg.predict(X_train)\n",
        "  \n",
        "\n",
        "  # Find Adjusted R-squared value\n",
        "  adj_r2=1-(1-r2_score(y_test, y_pred))*((X_test.shape[0]-1)/(X_test.shape[0]-X_test.shape[1]-1))\n",
        "  if prev_adjR2<adj_r2:\n",
        "    prev_adjR2 = adj_r2\n",
        "\n",
        "    \n",
        " #Find R-squared value\n",
        "    r2 = r2_score(y_test, y_pred)\n",
        "    r2_for_train= r2_score(y_train,y_pred_train)\n",
        "    train_score = reg.score(X_train, y_train)\n",
        "    test_score = reg.score(X_test,y_test)\n",
        "  else:\n",
        "    used_cols.pop()\n",
        "\n",
        "print(f'Adjust_r2: {prev_adjR2}')\n",
        "print(f'Train score: {train_score}')\n",
        "print(f'Test score: {test_score}')\n",
        "print(f'r2_Test score: {r2}')\n",
        "print(f'r2_train score: {r2_for_train}')\n",
        "print_metrics(y_test, y_pred)\n",
        "print('Important features are: \\n')\n",
        "used_cols"
      ],
      "metadata": {
        "colab": {
          "base_uri": "https://localhost:8080/"
        },
        "id": "-VCZ3WeNDsQ-",
        "outputId": "90b804f7-0833-40ab-e547-b2af00561e01"
      },
      "execution_count": 188,
      "outputs": [
        {
          "output_type": "stream",
          "name": "stdout",
          "text": [
            "Adjust_r2: 0.610192717144673\n",
            "Train score: 0.6749469501408867\n",
            "Test score: 0.6139754176090624\n",
            "r2_Test score: 0.6139754176090624\n",
            "r2_train score: 0.6749469501408867\n",
            "MSE is 28.979433185753006\n",
            "RMSE is 5.38325488768208\n",
            "RMSE is 0.6138600095880478\n",
            "MAE is 3.528188417327185\n",
            "MAPE is 112.26087728846794\n",
            "Important features are: \n",
            "\n"
          ]
        },
        {
          "output_type": "execute_result",
          "data": {
            "text/plain": [
              "['day_of_year',\n",
              " 'car_type',\n",
              " 'day_of_week',\n",
              " 'hour',\n",
              " 'minute',\n",
              " 'hourly_travelers',\n",
              " 'daily_travelers',\n",
              " 'Time_gap_btw_0_1_next_bus',\n",
              " 'Time_gap_btw_0_1_previous_bus',\n",
              " 'Time_gap_btw_0_2_next_bus',\n",
              " 'Time_gap_btw_0_2_previous_bus',\n",
              " 'Time_gap_btw_0_3_previous_bus',\n",
              " 'Time_gap_btw_next_previous_bus',\n",
              " 'travel_from_distance',\n",
              " 'minute_arrived_date',\n",
              " 'travel_from_Awendo',\n",
              " 'travel_from_Kisii',\n",
              " 'travel_from_Migori',\n",
              " 'travel_from_Ndhiwa',\n",
              " 'travel_from_Sori']"
            ]
          },
          "metadata": {},
          "execution_count": 188
        }
      ]
    },
    {
      "cell_type": "code",
      "source": [
        "r2"
      ],
      "metadata": {
        "colab": {
          "base_uri": "https://localhost:8080/"
        },
        "id": "-C6d6JKuEGGx",
        "outputId": "601f6656-05a3-464c-ff78-a56714c72557"
      },
      "execution_count": 189,
      "outputs": [
        {
          "output_type": "execute_result",
          "data": {
            "text/plain": [
              "0.6139754176090624"
            ]
          },
          "metadata": {},
          "execution_count": 189
        }
      ]
    },
    {
      "cell_type": "code",
      "source": [
        "adj_r2"
      ],
      "metadata": {
        "colab": {
          "base_uri": "https://localhost:8080/"
        },
        "id": "W5cpewlBEHQt",
        "outputId": "d930bfdc-6114-458f-97f2-f5427ae09a0f"
      },
      "execution_count": 190,
      "outputs": [
        {
          "output_type": "execute_result",
          "data": {
            "text/plain": [
              "0.609885039098513"
            ]
          },
          "metadata": {},
          "execution_count": 190
        }
      ]
    },
    {
      "cell_type": "markdown",
      "source": [
        "# Training XGboost"
      ],
      "metadata": {
        "id": "G--fT9lcEKJ6"
      }
    },
    {
      "cell_type": "code",
      "source": [
        "import xgboost as xgb\n",
        "# dataset_pr = data[]\n",
        "X = data[used_cols].copy()\n",
        "y = data['number_of_ticket'].copy()\n",
        "\n",
        "\n",
        "X_train, X_test, y_train, y_test = train_test_split(X,y,test_size=0.33, random_state=42)\n",
        "dreg= xgb.XGBRegressor(\n",
        "                        booster= 'gbtree',\n",
        "                        colsample_bylevel= 1,\n",
        "                        colsample_bynode= 1,\n",
        "                        colsample_bytree= 0.7,\n",
        "                        eta= 0.004,\n",
        "                        gamma= 0,\n",
        "                        importance_type= 'gain',\n",
        "                        learning_rate= 0.1,\n",
        "                        max_delta_step= 0,\n",
        "                        max_depth= 9,\n",
        "                        min_child_weight= 10,\n",
        "                        n_estimators= 100,\n",
        "                        n_jobs= 1,\n",
        "                        objective= 'reg:linear',\n",
        "                        random_state= 0,\n",
        "                        reg_alpha= 0,\n",
        "                        reg_lambda= 1,\n",
        "                        scale_pos_weight= 1,\n",
        "                        subsample= 1,\n",
        "                        verbosity= 1)\n",
        "dreg.fit(X_train, y_train)\n",
        "y_pred_train=dreg.predict(X_train)\n",
        "y_pred = dreg.predict(X_test)\n",
        "#Find R-squared value\n",
        "r2 = r2_score(y_test, y_pred)\n",
        "r2_train = r2_score(y_train, y_pred_train)\n",
        "# Find Adjusted R-squared value\n",
        "adj_r2=1-(1-r2_score(y_test, y_pred))*((X_test.shape[0]-1)/(X_test.shape[0]-X_test.shape[1]-1))\n",
        "train_score = dreg.score(X_train, y_train)\n",
        "test_score = dreg.score(X_test,y_test)\n",
        "print(f'Train score: {train_score}')\n",
        "print(f'Test score: {test_score}')\n",
        "adj_r2\n",
        "r2\n",
        "r2_train"
      ],
      "metadata": {
        "colab": {
          "base_uri": "https://localhost:8080/"
        },
        "id": "RG4hWywLEO08",
        "outputId": "37336eae-01eb-44b1-deca-0995a4d60def"
      },
      "execution_count": 191,
      "outputs": [
        {
          "output_type": "stream",
          "name": "stdout",
          "text": [
            "[10:26:27] WARNING: ../src/objective/regression_obj.cu:213: reg:linear is now deprecated in favor of reg:squarederror.\n",
            "Train score: 0.8923340921122964\n",
            "Test score: 0.6613461844868314\n"
          ]
        },
        {
          "output_type": "execute_result",
          "data": {
            "text/plain": [
              "0.8923340921122964"
            ]
          },
          "metadata": {},
          "execution_count": 191
        }
      ]
    },
    {
      "cell_type": "code",
      "source": [
        "from sklearn import decomposition\n",
        "from sklearn import tree\n",
        "from sklearn.pipeline import Pipeline\n",
        "from sklearn.model_selection import GridSearchCV\n",
        "from sklearn.preprocessing import StandardScaler\n",
        "from sklearn.tree import DecisionTreeRegressor\n",
        "from sklearn.ensemble import RandomForestRegressor "
      ],
      "metadata": {
        "id": "M7hAcX8REb5x"
      },
      "execution_count": 192,
      "outputs": []
    },
    {
      "cell_type": "markdown",
      "source": [
        "# Random Forest Regressor"
      ],
      "metadata": {
        "id": "YLiw5KlAFgiH"
      }
    },
    {
      "cell_type": "code",
      "source": [
        "X = data[features].copy()\n",
        "y = data['number_of_ticket'].copy()\n",
        "X_train, X_test, y_train, y_test = train_test_split(X,y,test_size=0.33, random_state= 42)\n"
      ],
      "metadata": {
        "id": "2DDia5BXFj1X"
      },
      "execution_count": 193,
      "outputs": []
    },
    {
      "cell_type": "code",
      "source": [
        "dec_reg = RandomForestRegressor()"
      ],
      "metadata": {
        "id": "s3BW8Y6qGW9n"
      },
      "execution_count": 194,
      "outputs": []
    },
    {
      "cell_type": "code",
      "source": [
        "dec_reg.fit(X_train, y_train)"
      ],
      "metadata": {
        "colab": {
          "base_uri": "https://localhost:8080/",
          "height": 74
        },
        "id": "zPU29bJPGdwW",
        "outputId": "620f87af-797c-40f4-daa0-9d356f7c3d39"
      },
      "execution_count": 195,
      "outputs": [
        {
          "output_type": "execute_result",
          "data": {
            "text/plain": [
              "RandomForestRegressor()"
            ],
            "text/html": [
              "<style>#sk-container-id-8 {color: black;background-color: white;}#sk-container-id-8 pre{padding: 0;}#sk-container-id-8 div.sk-toggleable {background-color: white;}#sk-container-id-8 label.sk-toggleable__label {cursor: pointer;display: block;width: 100%;margin-bottom: 0;padding: 0.3em;box-sizing: border-box;text-align: center;}#sk-container-id-8 label.sk-toggleable__label-arrow:before {content: \"▸\";float: left;margin-right: 0.25em;color: #696969;}#sk-container-id-8 label.sk-toggleable__label-arrow:hover:before {color: black;}#sk-container-id-8 div.sk-estimator:hover label.sk-toggleable__label-arrow:before {color: black;}#sk-container-id-8 div.sk-toggleable__content {max-height: 0;max-width: 0;overflow: hidden;text-align: left;background-color: #f0f8ff;}#sk-container-id-8 div.sk-toggleable__content pre {margin: 0.2em;color: black;border-radius: 0.25em;background-color: #f0f8ff;}#sk-container-id-8 input.sk-toggleable__control:checked~div.sk-toggleable__content {max-height: 200px;max-width: 100%;overflow: auto;}#sk-container-id-8 input.sk-toggleable__control:checked~label.sk-toggleable__label-arrow:before {content: \"▾\";}#sk-container-id-8 div.sk-estimator input.sk-toggleable__control:checked~label.sk-toggleable__label {background-color: #d4ebff;}#sk-container-id-8 div.sk-label input.sk-toggleable__control:checked~label.sk-toggleable__label {background-color: #d4ebff;}#sk-container-id-8 input.sk-hidden--visually {border: 0;clip: rect(1px 1px 1px 1px);clip: rect(1px, 1px, 1px, 1px);height: 1px;margin: -1px;overflow: hidden;padding: 0;position: absolute;width: 1px;}#sk-container-id-8 div.sk-estimator {font-family: monospace;background-color: #f0f8ff;border: 1px dotted black;border-radius: 0.25em;box-sizing: border-box;margin-bottom: 0.5em;}#sk-container-id-8 div.sk-estimator:hover {background-color: #d4ebff;}#sk-container-id-8 div.sk-parallel-item::after {content: \"\";width: 100%;border-bottom: 1px solid gray;flex-grow: 1;}#sk-container-id-8 div.sk-label:hover label.sk-toggleable__label {background-color: #d4ebff;}#sk-container-id-8 div.sk-serial::before {content: \"\";position: absolute;border-left: 1px solid gray;box-sizing: border-box;top: 0;bottom: 0;left: 50%;z-index: 0;}#sk-container-id-8 div.sk-serial {display: flex;flex-direction: column;align-items: center;background-color: white;padding-right: 0.2em;padding-left: 0.2em;position: relative;}#sk-container-id-8 div.sk-item {position: relative;z-index: 1;}#sk-container-id-8 div.sk-parallel {display: flex;align-items: stretch;justify-content: center;background-color: white;position: relative;}#sk-container-id-8 div.sk-item::before, #sk-container-id-8 div.sk-parallel-item::before {content: \"\";position: absolute;border-left: 1px solid gray;box-sizing: border-box;top: 0;bottom: 0;left: 50%;z-index: -1;}#sk-container-id-8 div.sk-parallel-item {display: flex;flex-direction: column;z-index: 1;position: relative;background-color: white;}#sk-container-id-8 div.sk-parallel-item:first-child::after {align-self: flex-end;width: 50%;}#sk-container-id-8 div.sk-parallel-item:last-child::after {align-self: flex-start;width: 50%;}#sk-container-id-8 div.sk-parallel-item:only-child::after {width: 0;}#sk-container-id-8 div.sk-dashed-wrapped {border: 1px dashed gray;margin: 0 0.4em 0.5em 0.4em;box-sizing: border-box;padding-bottom: 0.4em;background-color: white;}#sk-container-id-8 div.sk-label label {font-family: monospace;font-weight: bold;display: inline-block;line-height: 1.2em;}#sk-container-id-8 div.sk-label-container {text-align: center;}#sk-container-id-8 div.sk-container {/* jupyter's `normalize.less` sets `[hidden] { display: none; }` but bootstrap.min.css set `[hidden] { display: none !important; }` so we also need the `!important` here to be able to override the default hidden behavior on the sphinx rendered scikit-learn.org. See: https://github.com/scikit-learn/scikit-learn/issues/21755 */display: inline-block !important;position: relative;}#sk-container-id-8 div.sk-text-repr-fallback {display: none;}</style><div id=\"sk-container-id-8\" class=\"sk-top-container\"><div class=\"sk-text-repr-fallback\"><pre>RandomForestRegressor()</pre><b>In a Jupyter environment, please rerun this cell to show the HTML representation or trust the notebook. <br />On GitHub, the HTML representation is unable to render, please try loading this page with nbviewer.org.</b></div><div class=\"sk-container\" hidden><div class=\"sk-item\"><div class=\"sk-estimator sk-toggleable\"><input class=\"sk-toggleable__control sk-hidden--visually\" id=\"sk-estimator-id-16\" type=\"checkbox\" checked><label for=\"sk-estimator-id-16\" class=\"sk-toggleable__label sk-toggleable__label-arrow\">RandomForestRegressor</label><div class=\"sk-toggleable__content\"><pre>RandomForestRegressor()</pre></div></div></div></div></div>"
            ]
          },
          "metadata": {},
          "execution_count": 195
        }
      ]
    },
    {
      "cell_type": "code",
      "source": [
        "dec_reg.score(X_train, y_train)"
      ],
      "metadata": {
        "colab": {
          "base_uri": "https://localhost:8080/"
        },
        "id": "F_HSs1f2GrJ1",
        "outputId": "e629e3ef-e8e4-4e10-ef08-e0faef345da3"
      },
      "execution_count": 196,
      "outputs": [
        {
          "output_type": "execute_result",
          "data": {
            "text/plain": [
              "0.9508409660039292"
            ]
          },
          "metadata": {},
          "execution_count": 196
        }
      ]
    },
    {
      "cell_type": "code",
      "source": [
        "dec_reg.score(X_test, y_test)"
      ],
      "metadata": {
        "colab": {
          "base_uri": "https://localhost:8080/"
        },
        "id": "m1EugIMzGzpk",
        "outputId": "39ed676a-2e82-49c2-8dd1-bce6a6c65255"
      },
      "execution_count": 197,
      "outputs": [
        {
          "output_type": "execute_result",
          "data": {
            "text/plain": [
              "0.646527814073488"
            ]
          },
          "metadata": {},
          "execution_count": 197
        }
      ]
    },
    {
      "cell_type": "markdown",
      "source": [
        "Model seems to be overfitted"
      ],
      "metadata": {
        "id": "uEe2nKtoHATn"
      }
    },
    {
      "cell_type": "markdown",
      "source": [
        "# GridSearchCV on Random forest"
      ],
      "metadata": {
        "id": "kSj8QlVdHEJD"
      }
    },
    {
      "cell_type": "markdown",
      "source": [
        "The below code defines a dictionary named parameters that contains hyperparameters and their respective values for a decision tree classifier. The hyperparameters are:\n",
        "\n",
        "* ccp_alpha: complexity parameter used for pruning the decision tree. It sets the minimum impurity decrease required for further splitting a node. The values specified in the list are the values to be tested during hyperparameter tuning.\n",
        "* max_depth: maximum depth of the decision tree. The values specified in the list are the values to be tested during hyperparameter tuning.\n",
        "* min_samples_leaf: minimum number of samples required to be at a leaf node. The values specified in the list are the values to be tested during hyperparameter tuning.\n",
        "* min_samples_split: minimum number of samples required to split an internal node. The values specified in the list are the values to be tested during hyperparameter tuning."
      ],
      "metadata": {
        "id": "4zIvy-hJI0sh"
      }
    },
    {
      "cell_type": "code",
      "source": [
        "parameters = {'ccp_alpha': [0.01, 0.1, 1, 10, 100],\n",
        "              'max_depth': [4, 6, 8],\n",
        "            'min_samples_leaf': [40, 50],\n",
        "            'min_samples_split': [50, 100, 150]\n",
        "              }"
      ],
      "metadata": {
        "id": "mq81gnf3HM8M"
      },
      "execution_count": 198,
      "outputs": []
    },
    {
      "cell_type": "code",
      "source": [
        "X = data[features].copy()\n",
        "y = data['number_of_ticket'].copy()\n",
        "dec_reg = RandomForestRegressor()\n",
        "rf_grid = GridSearchCV(dec_reg, param_grid=parameters, verbose=1, cv=2)\n",
        "rf_grid.fit(X, y)"
      ],
      "metadata": {
        "colab": {
          "base_uri": "https://localhost:8080/",
          "height": 272
        },
        "id": "kbhMnoMJHnlV",
        "outputId": "f0621f86-e406-455a-b7fd-bf83e01384a2"
      },
      "execution_count": 199,
      "outputs": [
        {
          "output_type": "stream",
          "name": "stdout",
          "text": [
            "Fitting 2 folds for each of 90 candidates, totalling 180 fits\n"
          ]
        },
        {
          "output_type": "execute_result",
          "data": {
            "text/plain": [
              "GridSearchCV(cv=2, estimator=RandomForestRegressor(),\n",
              "             param_grid={'ccp_alpha': [0.01, 0.1, 1, 10, 100],\n",
              "                         'max_depth': [4, 6, 8], 'min_samples_leaf': [40, 50],\n",
              "                         'min_samples_split': [50, 100, 150]},\n",
              "             verbose=1)"
            ],
            "text/html": [
              "<style>#sk-container-id-9 {color: black;background-color: white;}#sk-container-id-9 pre{padding: 0;}#sk-container-id-9 div.sk-toggleable {background-color: white;}#sk-container-id-9 label.sk-toggleable__label {cursor: pointer;display: block;width: 100%;margin-bottom: 0;padding: 0.3em;box-sizing: border-box;text-align: center;}#sk-container-id-9 label.sk-toggleable__label-arrow:before {content: \"▸\";float: left;margin-right: 0.25em;color: #696969;}#sk-container-id-9 label.sk-toggleable__label-arrow:hover:before {color: black;}#sk-container-id-9 div.sk-estimator:hover label.sk-toggleable__label-arrow:before {color: black;}#sk-container-id-9 div.sk-toggleable__content {max-height: 0;max-width: 0;overflow: hidden;text-align: left;background-color: #f0f8ff;}#sk-container-id-9 div.sk-toggleable__content pre {margin: 0.2em;color: black;border-radius: 0.25em;background-color: #f0f8ff;}#sk-container-id-9 input.sk-toggleable__control:checked~div.sk-toggleable__content {max-height: 200px;max-width: 100%;overflow: auto;}#sk-container-id-9 input.sk-toggleable__control:checked~label.sk-toggleable__label-arrow:before {content: \"▾\";}#sk-container-id-9 div.sk-estimator input.sk-toggleable__control:checked~label.sk-toggleable__label {background-color: #d4ebff;}#sk-container-id-9 div.sk-label input.sk-toggleable__control:checked~label.sk-toggleable__label {background-color: #d4ebff;}#sk-container-id-9 input.sk-hidden--visually {border: 0;clip: rect(1px 1px 1px 1px);clip: rect(1px, 1px, 1px, 1px);height: 1px;margin: -1px;overflow: hidden;padding: 0;position: absolute;width: 1px;}#sk-container-id-9 div.sk-estimator {font-family: monospace;background-color: #f0f8ff;border: 1px dotted black;border-radius: 0.25em;box-sizing: border-box;margin-bottom: 0.5em;}#sk-container-id-9 div.sk-estimator:hover {background-color: #d4ebff;}#sk-container-id-9 div.sk-parallel-item::after {content: \"\";width: 100%;border-bottom: 1px solid gray;flex-grow: 1;}#sk-container-id-9 div.sk-label:hover label.sk-toggleable__label {background-color: #d4ebff;}#sk-container-id-9 div.sk-serial::before {content: \"\";position: absolute;border-left: 1px solid gray;box-sizing: border-box;top: 0;bottom: 0;left: 50%;z-index: 0;}#sk-container-id-9 div.sk-serial {display: flex;flex-direction: column;align-items: center;background-color: white;padding-right: 0.2em;padding-left: 0.2em;position: relative;}#sk-container-id-9 div.sk-item {position: relative;z-index: 1;}#sk-container-id-9 div.sk-parallel {display: flex;align-items: stretch;justify-content: center;background-color: white;position: relative;}#sk-container-id-9 div.sk-item::before, #sk-container-id-9 div.sk-parallel-item::before {content: \"\";position: absolute;border-left: 1px solid gray;box-sizing: border-box;top: 0;bottom: 0;left: 50%;z-index: -1;}#sk-container-id-9 div.sk-parallel-item {display: flex;flex-direction: column;z-index: 1;position: relative;background-color: white;}#sk-container-id-9 div.sk-parallel-item:first-child::after {align-self: flex-end;width: 50%;}#sk-container-id-9 div.sk-parallel-item:last-child::after {align-self: flex-start;width: 50%;}#sk-container-id-9 div.sk-parallel-item:only-child::after {width: 0;}#sk-container-id-9 div.sk-dashed-wrapped {border: 1px dashed gray;margin: 0 0.4em 0.5em 0.4em;box-sizing: border-box;padding-bottom: 0.4em;background-color: white;}#sk-container-id-9 div.sk-label label {font-family: monospace;font-weight: bold;display: inline-block;line-height: 1.2em;}#sk-container-id-9 div.sk-label-container {text-align: center;}#sk-container-id-9 div.sk-container {/* jupyter's `normalize.less` sets `[hidden] { display: none; }` but bootstrap.min.css set `[hidden] { display: none !important; }` so we also need the `!important` here to be able to override the default hidden behavior on the sphinx rendered scikit-learn.org. See: https://github.com/scikit-learn/scikit-learn/issues/21755 */display: inline-block !important;position: relative;}#sk-container-id-9 div.sk-text-repr-fallback {display: none;}</style><div id=\"sk-container-id-9\" class=\"sk-top-container\"><div class=\"sk-text-repr-fallback\"><pre>GridSearchCV(cv=2, estimator=RandomForestRegressor(),\n",
              "             param_grid={&#x27;ccp_alpha&#x27;: [0.01, 0.1, 1, 10, 100],\n",
              "                         &#x27;max_depth&#x27;: [4, 6, 8], &#x27;min_samples_leaf&#x27;: [40, 50],\n",
              "                         &#x27;min_samples_split&#x27;: [50, 100, 150]},\n",
              "             verbose=1)</pre><b>In a Jupyter environment, please rerun this cell to show the HTML representation or trust the notebook. <br />On GitHub, the HTML representation is unable to render, please try loading this page with nbviewer.org.</b></div><div class=\"sk-container\" hidden><div class=\"sk-item sk-dashed-wrapped\"><div class=\"sk-label-container\"><div class=\"sk-label sk-toggleable\"><input class=\"sk-toggleable__control sk-hidden--visually\" id=\"sk-estimator-id-17\" type=\"checkbox\" ><label for=\"sk-estimator-id-17\" class=\"sk-toggleable__label sk-toggleable__label-arrow\">GridSearchCV</label><div class=\"sk-toggleable__content\"><pre>GridSearchCV(cv=2, estimator=RandomForestRegressor(),\n",
              "             param_grid={&#x27;ccp_alpha&#x27;: [0.01, 0.1, 1, 10, 100],\n",
              "                         &#x27;max_depth&#x27;: [4, 6, 8], &#x27;min_samples_leaf&#x27;: [40, 50],\n",
              "                         &#x27;min_samples_split&#x27;: [50, 100, 150]},\n",
              "             verbose=1)</pre></div></div></div><div class=\"sk-parallel\"><div class=\"sk-parallel-item\"><div class=\"sk-item\"><div class=\"sk-label-container\"><div class=\"sk-label sk-toggleable\"><input class=\"sk-toggleable__control sk-hidden--visually\" id=\"sk-estimator-id-18\" type=\"checkbox\" ><label for=\"sk-estimator-id-18\" class=\"sk-toggleable__label sk-toggleable__label-arrow\">estimator: RandomForestRegressor</label><div class=\"sk-toggleable__content\"><pre>RandomForestRegressor()</pre></div></div></div><div class=\"sk-serial\"><div class=\"sk-item\"><div class=\"sk-estimator sk-toggleable\"><input class=\"sk-toggleable__control sk-hidden--visually\" id=\"sk-estimator-id-19\" type=\"checkbox\" ><label for=\"sk-estimator-id-19\" class=\"sk-toggleable__label sk-toggleable__label-arrow\">RandomForestRegressor</label><div class=\"sk-toggleable__content\"><pre>RandomForestRegressor()</pre></div></div></div></div></div></div></div></div></div></div>"
            ]
          },
          "metadata": {},
          "execution_count": 199
        }
      ]
    },
    {
      "cell_type": "code",
      "source": [
        "rf_grid.best_estimator_.get_params()"
      ],
      "metadata": {
        "colab": {
          "base_uri": "https://localhost:8080/"
        },
        "id": "KVwfxdA-I4p_",
        "outputId": "9ee4cf1d-ed3a-458d-b83c-5f5ea598375a"
      },
      "execution_count": 200,
      "outputs": [
        {
          "output_type": "execute_result",
          "data": {
            "text/plain": [
              "{'bootstrap': True,\n",
              " 'ccp_alpha': 0.1,\n",
              " 'criterion': 'squared_error',\n",
              " 'max_depth': 6,\n",
              " 'max_features': 1.0,\n",
              " 'max_leaf_nodes': None,\n",
              " 'max_samples': None,\n",
              " 'min_impurity_decrease': 0.0,\n",
              " 'min_samples_leaf': 40,\n",
              " 'min_samples_split': 50,\n",
              " 'min_weight_fraction_leaf': 0.0,\n",
              " 'n_estimators': 100,\n",
              " 'n_jobs': None,\n",
              " 'oob_score': False,\n",
              " 'random_state': None,\n",
              " 'verbose': 0,\n",
              " 'warm_start': False}"
            ]
          },
          "metadata": {},
          "execution_count": 200
        }
      ]
    },
    {
      "cell_type": "code",
      "source": [
        "rf_optimal_model =rf_grid.best_estimator_\n",
        "rf_train_preds = rf_optimal_model.predict(X_train)\n",
        "rf_test_preds = rf_optimal_model.predict(X_test)\n",
        "train_score= rf_optimal_model.score(X_train,y_train)\n",
        "test_score = rf_optimal_model.score(X_test,y_test)\n",
        "\n",
        "\n",
        "\n",
        "#Find R-squared value\n",
        "r2 = r2_score(y_test, rf_test_preds)\n",
        "r2_train = r2_score(y_train, rf_train_preds)\n",
        "# Find Adjusted R-squared value\n",
        "adj_r2=1-(1-r2_score(y_test,rf_test_preds))*((X_test.shape[0]-1)/(X_test.shape[0]-X_test.shape[1]-1))\n",
        "\n",
        "print('Train Score: ',train_score)\n",
        "print('Test Score: ',test_score)\n",
        "print('Mean Squared Error (MSE): ',mean_squared_error(y_test, rf_test_preds))\n",
        "print('Mean Absolute Error (MAE): ',mean_absolute_error(y_test, rf_test_preds))\n",
        "print('Root Mean Squared Error (MSE): ',np.sqrt(mean_squared_error(y_test, rf_test_preds)))\n",
        "print('R2 Score: ',r2)\n",
        "print('R2_train Score: ',r2_train)\n",
        "print('Adjusted R2 Score: ',adj_r2)\n"
      ],
      "metadata": {
        "colab": {
          "base_uri": "https://localhost:8080/"
        },
        "id": "RfTkODYnJBtH",
        "outputId": "7a3d56b7-e6dd-4684-e927-717382f0b4a5"
      },
      "execution_count": 201,
      "outputs": [
        {
          "output_type": "stream",
          "name": "stdout",
          "text": [
            "Train Score:  0.6137891941793292\n",
            "Test Score:  0.6089315622727401\n",
            "Mean Squared Error (MSE):  29.349308394821843\n",
            "Mean Absolute Error (MAE):  3.493419342550167\n",
            "Root Mean Squared Error (MSE):  5.417500197953097\n",
            "R2 Score:  0.6089315622727401\n",
            "R2_train Score:  0.6137891941793292\n",
            "Adjusted R2 Score:  0.6004005700764092\n"
          ]
        }
      ]
    },
    {
      "cell_type": "code",
      "source": [
        "import warnings\n",
        "warnings.filterwarnings('ignore')"
      ],
      "metadata": {
        "id": "o2y2MBnfJO_6"
      },
      "execution_count": 202,
      "outputs": []
    },
    {
      "cell_type": "markdown",
      "source": [
        "# GridSearchCV on XGboost algorithm"
      ],
      "metadata": {
        "id": "ppQ3GsAFJV_A"
      }
    },
    {
      "cell_type": "code",
      "source": [
        "import xgboost as xgb\n",
        "xgb = xgb.XGBRegressor()"
      ],
      "metadata": {
        "id": "nqmHG5FpJcjf"
      },
      "execution_count": 203,
      "outputs": []
    },
    {
      "cell_type": "markdown",
      "source": [
        "The below code defines a dictionary named \"params\" containing different hyperparameters for an XGBoost model.\n",
        "\n",
        "* \"min_child_weight\" specifies the minimum sum of instance weight (hessian) needed in a child.\n",
        "* \"eta\" is the learning rate of the model.\n",
        "* \"colsample_bytree\" specifies the subsample ratio of columns when constructing each tree.\n",
        "* \"max_depth\" sets the maximum depth of a tree."
      ],
      "metadata": {
        "id": "MCB8tsZxJb_h"
      }
    },
    {
      "cell_type": "code",
      "source": [
        "params = {\"min_child_weight\":[10, 20],\n",
        "          'eta': [0.004, 0.04, 4, 40],\n",
        "          'colsample_bytree': [0.7],\n",
        "          'max_depth': [7,9,11],\n",
        "          }"
      ],
      "metadata": {
        "id": "9EBQRwGNJlQM"
      },
      "execution_count": 204,
      "outputs": []
    },
    {
      "cell_type": "code",
      "source": [
        "X = data[features].copy()\n",
        "y = data['number_of_ticket'].copy()\n",
        "\n",
        "reg_gs = GridSearchCV(xgb,param_grid=params, verbose=1,cv=3)\n",
        "reg_gs.fit(X, y)"
      ],
      "metadata": {
        "colab": {
          "base_uri": "https://localhost:8080/",
          "height": 727
        },
        "id": "Vk6K5z53KAyl",
        "outputId": "fd8789b2-0faa-4b1b-ca68-7b623ffbf754"
      },
      "execution_count": 205,
      "outputs": [
        {
          "output_type": "stream",
          "name": "stdout",
          "text": [
            "Fitting 3 folds for each of 24 candidates, totalling 72 fits\n"
          ]
        },
        {
          "output_type": "execute_result",
          "data": {
            "text/plain": [
              "GridSearchCV(cv=3,\n",
              "             estimator=XGBRegressor(base_score=None, booster=None,\n",
              "                                    callbacks=None, colsample_bylevel=None,\n",
              "                                    colsample_bynode=None,\n",
              "                                    colsample_bytree=None,\n",
              "                                    early_stopping_rounds=None,\n",
              "                                    enable_categorical=False, eval_metric=None,\n",
              "                                    feature_types=None, gamma=None, gpu_id=None,\n",
              "                                    grow_policy=None, importance_type=None,\n",
              "                                    interaction_constraints=None,\n",
              "                                    learning_rate=None, m...\n",
              "                                    max_cat_threshold=None,\n",
              "                                    max_cat_to_onehot=None, max_delta_step=None,\n",
              "                                    max_depth=None, max_leaves=None,\n",
              "                                    min_child_weight=None, missing=nan,\n",
              "                                    monotone_constraints=None, n_estimators=100,\n",
              "                                    n_jobs=None, num_parallel_tree=None,\n",
              "                                    predictor=None, random_state=None, ...),\n",
              "             param_grid={'colsample_bytree': [0.7], 'eta': [0.004, 0.04, 4, 40],\n",
              "                         'max_depth': [7, 9, 11],\n",
              "                         'min_child_weight': [10, 20]},\n",
              "             verbose=1)"
            ],
            "text/html": [
              "<style>#sk-container-id-10 {color: black;background-color: white;}#sk-container-id-10 pre{padding: 0;}#sk-container-id-10 div.sk-toggleable {background-color: white;}#sk-container-id-10 label.sk-toggleable__label {cursor: pointer;display: block;width: 100%;margin-bottom: 0;padding: 0.3em;box-sizing: border-box;text-align: center;}#sk-container-id-10 label.sk-toggleable__label-arrow:before {content: \"▸\";float: left;margin-right: 0.25em;color: #696969;}#sk-container-id-10 label.sk-toggleable__label-arrow:hover:before {color: black;}#sk-container-id-10 div.sk-estimator:hover label.sk-toggleable__label-arrow:before {color: black;}#sk-container-id-10 div.sk-toggleable__content {max-height: 0;max-width: 0;overflow: hidden;text-align: left;background-color: #f0f8ff;}#sk-container-id-10 div.sk-toggleable__content pre {margin: 0.2em;color: black;border-radius: 0.25em;background-color: #f0f8ff;}#sk-container-id-10 input.sk-toggleable__control:checked~div.sk-toggleable__content {max-height: 200px;max-width: 100%;overflow: auto;}#sk-container-id-10 input.sk-toggleable__control:checked~label.sk-toggleable__label-arrow:before {content: \"▾\";}#sk-container-id-10 div.sk-estimator input.sk-toggleable__control:checked~label.sk-toggleable__label {background-color: #d4ebff;}#sk-container-id-10 div.sk-label input.sk-toggleable__control:checked~label.sk-toggleable__label {background-color: #d4ebff;}#sk-container-id-10 input.sk-hidden--visually {border: 0;clip: rect(1px 1px 1px 1px);clip: rect(1px, 1px, 1px, 1px);height: 1px;margin: -1px;overflow: hidden;padding: 0;position: absolute;width: 1px;}#sk-container-id-10 div.sk-estimator {font-family: monospace;background-color: #f0f8ff;border: 1px dotted black;border-radius: 0.25em;box-sizing: border-box;margin-bottom: 0.5em;}#sk-container-id-10 div.sk-estimator:hover {background-color: #d4ebff;}#sk-container-id-10 div.sk-parallel-item::after {content: \"\";width: 100%;border-bottom: 1px solid gray;flex-grow: 1;}#sk-container-id-10 div.sk-label:hover label.sk-toggleable__label {background-color: #d4ebff;}#sk-container-id-10 div.sk-serial::before {content: \"\";position: absolute;border-left: 1px solid gray;box-sizing: border-box;top: 0;bottom: 0;left: 50%;z-index: 0;}#sk-container-id-10 div.sk-serial {display: flex;flex-direction: column;align-items: center;background-color: white;padding-right: 0.2em;padding-left: 0.2em;position: relative;}#sk-container-id-10 div.sk-item {position: relative;z-index: 1;}#sk-container-id-10 div.sk-parallel {display: flex;align-items: stretch;justify-content: center;background-color: white;position: relative;}#sk-container-id-10 div.sk-item::before, #sk-container-id-10 div.sk-parallel-item::before {content: \"\";position: absolute;border-left: 1px solid gray;box-sizing: border-box;top: 0;bottom: 0;left: 50%;z-index: -1;}#sk-container-id-10 div.sk-parallel-item {display: flex;flex-direction: column;z-index: 1;position: relative;background-color: white;}#sk-container-id-10 div.sk-parallel-item:first-child::after {align-self: flex-end;width: 50%;}#sk-container-id-10 div.sk-parallel-item:last-child::after {align-self: flex-start;width: 50%;}#sk-container-id-10 div.sk-parallel-item:only-child::after {width: 0;}#sk-container-id-10 div.sk-dashed-wrapped {border: 1px dashed gray;margin: 0 0.4em 0.5em 0.4em;box-sizing: border-box;padding-bottom: 0.4em;background-color: white;}#sk-container-id-10 div.sk-label label {font-family: monospace;font-weight: bold;display: inline-block;line-height: 1.2em;}#sk-container-id-10 div.sk-label-container {text-align: center;}#sk-container-id-10 div.sk-container {/* jupyter's `normalize.less` sets `[hidden] { display: none; }` but bootstrap.min.css set `[hidden] { display: none !important; }` so we also need the `!important` here to be able to override the default hidden behavior on the sphinx rendered scikit-learn.org. See: https://github.com/scikit-learn/scikit-learn/issues/21755 */display: inline-block !important;position: relative;}#sk-container-id-10 div.sk-text-repr-fallback {display: none;}</style><div id=\"sk-container-id-10\" class=\"sk-top-container\"><div class=\"sk-text-repr-fallback\"><pre>GridSearchCV(cv=3,\n",
              "             estimator=XGBRegressor(base_score=None, booster=None,\n",
              "                                    callbacks=None, colsample_bylevel=None,\n",
              "                                    colsample_bynode=None,\n",
              "                                    colsample_bytree=None,\n",
              "                                    early_stopping_rounds=None,\n",
              "                                    enable_categorical=False, eval_metric=None,\n",
              "                                    feature_types=None, gamma=None, gpu_id=None,\n",
              "                                    grow_policy=None, importance_type=None,\n",
              "                                    interaction_constraints=None,\n",
              "                                    learning_rate=None, m...\n",
              "                                    max_cat_threshold=None,\n",
              "                                    max_cat_to_onehot=None, max_delta_step=None,\n",
              "                                    max_depth=None, max_leaves=None,\n",
              "                                    min_child_weight=None, missing=nan,\n",
              "                                    monotone_constraints=None, n_estimators=100,\n",
              "                                    n_jobs=None, num_parallel_tree=None,\n",
              "                                    predictor=None, random_state=None, ...),\n",
              "             param_grid={&#x27;colsample_bytree&#x27;: [0.7], &#x27;eta&#x27;: [0.004, 0.04, 4, 40],\n",
              "                         &#x27;max_depth&#x27;: [7, 9, 11],\n",
              "                         &#x27;min_child_weight&#x27;: [10, 20]},\n",
              "             verbose=1)</pre><b>In a Jupyter environment, please rerun this cell to show the HTML representation or trust the notebook. <br />On GitHub, the HTML representation is unable to render, please try loading this page with nbviewer.org.</b></div><div class=\"sk-container\" hidden><div class=\"sk-item sk-dashed-wrapped\"><div class=\"sk-label-container\"><div class=\"sk-label sk-toggleable\"><input class=\"sk-toggleable__control sk-hidden--visually\" id=\"sk-estimator-id-20\" type=\"checkbox\" ><label for=\"sk-estimator-id-20\" class=\"sk-toggleable__label sk-toggleable__label-arrow\">GridSearchCV</label><div class=\"sk-toggleable__content\"><pre>GridSearchCV(cv=3,\n",
              "             estimator=XGBRegressor(base_score=None, booster=None,\n",
              "                                    callbacks=None, colsample_bylevel=None,\n",
              "                                    colsample_bynode=None,\n",
              "                                    colsample_bytree=None,\n",
              "                                    early_stopping_rounds=None,\n",
              "                                    enable_categorical=False, eval_metric=None,\n",
              "                                    feature_types=None, gamma=None, gpu_id=None,\n",
              "                                    grow_policy=None, importance_type=None,\n",
              "                                    interaction_constraints=None,\n",
              "                                    learning_rate=None, m...\n",
              "                                    max_cat_threshold=None,\n",
              "                                    max_cat_to_onehot=None, max_delta_step=None,\n",
              "                                    max_depth=None, max_leaves=None,\n",
              "                                    min_child_weight=None, missing=nan,\n",
              "                                    monotone_constraints=None, n_estimators=100,\n",
              "                                    n_jobs=None, num_parallel_tree=None,\n",
              "                                    predictor=None, random_state=None, ...),\n",
              "             param_grid={&#x27;colsample_bytree&#x27;: [0.7], &#x27;eta&#x27;: [0.004, 0.04, 4, 40],\n",
              "                         &#x27;max_depth&#x27;: [7, 9, 11],\n",
              "                         &#x27;min_child_weight&#x27;: [10, 20]},\n",
              "             verbose=1)</pre></div></div></div><div class=\"sk-parallel\"><div class=\"sk-parallel-item\"><div class=\"sk-item\"><div class=\"sk-label-container\"><div class=\"sk-label sk-toggleable\"><input class=\"sk-toggleable__control sk-hidden--visually\" id=\"sk-estimator-id-21\" type=\"checkbox\" ><label for=\"sk-estimator-id-21\" class=\"sk-toggleable__label sk-toggleable__label-arrow\">estimator: XGBRegressor</label><div class=\"sk-toggleable__content\"><pre>XGBRegressor(base_score=None, booster=None, callbacks=None,\n",
              "             colsample_bylevel=None, colsample_bynode=None,\n",
              "             colsample_bytree=None, early_stopping_rounds=None,\n",
              "             enable_categorical=False, eval_metric=None, feature_types=None,\n",
              "             gamma=None, gpu_id=None, grow_policy=None, importance_type=None,\n",
              "             interaction_constraints=None, learning_rate=None, max_bin=None,\n",
              "             max_cat_threshold=None, max_cat_to_onehot=None,\n",
              "             max_delta_step=None, max_depth=None, max_leaves=None,\n",
              "             min_child_weight=None, missing=nan, monotone_constraints=None,\n",
              "             n_estimators=100, n_jobs=None, num_parallel_tree=None,\n",
              "             predictor=None, random_state=None, ...)</pre></div></div></div><div class=\"sk-serial\"><div class=\"sk-item\"><div class=\"sk-estimator sk-toggleable\"><input class=\"sk-toggleable__control sk-hidden--visually\" id=\"sk-estimator-id-22\" type=\"checkbox\" ><label for=\"sk-estimator-id-22\" class=\"sk-toggleable__label sk-toggleable__label-arrow\">XGBRegressor</label><div class=\"sk-toggleable__content\"><pre>XGBRegressor(base_score=None, booster=None, callbacks=None,\n",
              "             colsample_bylevel=None, colsample_bynode=None,\n",
              "             colsample_bytree=None, early_stopping_rounds=None,\n",
              "             enable_categorical=False, eval_metric=None, feature_types=None,\n",
              "             gamma=None, gpu_id=None, grow_policy=None, importance_type=None,\n",
              "             interaction_constraints=None, learning_rate=None, max_bin=None,\n",
              "             max_cat_threshold=None, max_cat_to_onehot=None,\n",
              "             max_delta_step=None, max_depth=None, max_leaves=None,\n",
              "             min_child_weight=None, missing=nan, monotone_constraints=None,\n",
              "             n_estimators=100, n_jobs=None, num_parallel_tree=None,\n",
              "             predictor=None, random_state=None, ...)</pre></div></div></div></div></div></div></div></div></div></div>"
            ]
          },
          "metadata": {},
          "execution_count": 205
        }
      ]
    },
    {
      "cell_type": "code",
      "source": [
        "reg_gs.best_estimator_.get_params()"
      ],
      "metadata": {
        "colab": {
          "base_uri": "https://localhost:8080/"
        },
        "id": "cLNbQkcUKOo5",
        "outputId": "23d661a0-bba6-4e35-f992-e08016329eaf"
      },
      "execution_count": 206,
      "outputs": [
        {
          "output_type": "execute_result",
          "data": {
            "text/plain": [
              "{'objective': 'reg:squarederror',\n",
              " 'base_score': None,\n",
              " 'booster': None,\n",
              " 'callbacks': None,\n",
              " 'colsample_bylevel': None,\n",
              " 'colsample_bynode': None,\n",
              " 'colsample_bytree': 0.7,\n",
              " 'early_stopping_rounds': None,\n",
              " 'enable_categorical': False,\n",
              " 'eval_metric': None,\n",
              " 'feature_types': None,\n",
              " 'gamma': None,\n",
              " 'gpu_id': None,\n",
              " 'grow_policy': None,\n",
              " 'importance_type': None,\n",
              " 'interaction_constraints': None,\n",
              " 'learning_rate': None,\n",
              " 'max_bin': None,\n",
              " 'max_cat_threshold': None,\n",
              " 'max_cat_to_onehot': None,\n",
              " 'max_delta_step': None,\n",
              " 'max_depth': 9,\n",
              " 'max_leaves': None,\n",
              " 'min_child_weight': 20,\n",
              " 'missing': nan,\n",
              " 'monotone_constraints': None,\n",
              " 'n_estimators': 100,\n",
              " 'n_jobs': None,\n",
              " 'num_parallel_tree': None,\n",
              " 'predictor': None,\n",
              " 'random_state': None,\n",
              " 'reg_alpha': None,\n",
              " 'reg_lambda': None,\n",
              " 'sampling_method': None,\n",
              " 'scale_pos_weight': None,\n",
              " 'subsample': None,\n",
              " 'tree_method': None,\n",
              " 'validate_parameters': None,\n",
              " 'verbosity': None,\n",
              " 'eta': 0.04}"
            ]
          },
          "metadata": {},
          "execution_count": 206
        }
      ]
    },
    {
      "cell_type": "code",
      "source": [
        "reg_optimal_model = reg_gs.best_estimator_"
      ],
      "metadata": {
        "id": "YgV6QrRQKkvH"
      },
      "execution_count": 207,
      "outputs": []
    },
    {
      "cell_type": "code",
      "source": [
        "train_preds = reg_optimal_model.predict(X_train)\n",
        "test_preds = reg_optimal_model.predict(X_test)"
      ],
      "metadata": {
        "id": "odAvWiL7KxvT"
      },
      "execution_count": 208,
      "outputs": []
    },
    {
      "cell_type": "code",
      "source": [
        "reg_optimal_model.score(X_train, y_train)"
      ],
      "metadata": {
        "colab": {
          "base_uri": "https://localhost:8080/"
        },
        "id": "To8TfV8iLIls",
        "outputId": "cb28a0fb-64b3-44fb-bb23-30f0ef231249"
      },
      "execution_count": 209,
      "outputs": [
        {
          "output_type": "execute_result",
          "data": {
            "text/plain": [
              "0.7981128921363103"
            ]
          },
          "metadata": {},
          "execution_count": 209
        }
      ]
    },
    {
      "cell_type": "code",
      "source": [
        "reg_optimal_model.score(X_test, y_test)"
      ],
      "metadata": {
        "colab": {
          "base_uri": "https://localhost:8080/"
        },
        "id": "8AebArffLPZw",
        "outputId": "6105d55c-d2e8-4f7b-e2bf-c84e9aa75676"
      },
      "execution_count": 210,
      "outputs": [
        {
          "output_type": "execute_result",
          "data": {
            "text/plain": [
              "0.797664294886159"
            ]
          },
          "metadata": {},
          "execution_count": 210
        }
      ]
    },
    {
      "cell_type": "markdown",
      "source": [
        "Finding R-Squared and Adjusted R-Squared values"
      ],
      "metadata": {
        "id": "mJHBscSDLaVb"
      }
    },
    {
      "cell_type": "code",
      "source": [
        "r2_test = r2_score(y_test, test_preds)\n",
        "adj_r2=1-(1-r2_score(y_test, test_preds))*((X_test.shape[0]-1)/(X_test.shape[0]-X_test.shape[1]-1))"
      ],
      "metadata": {
        "id": "TsbhwdUrLW7F"
      },
      "execution_count": 211,
      "outputs": []
    },
    {
      "cell_type": "code",
      "source": [
        "adj_r2"
      ],
      "metadata": {
        "colab": {
          "base_uri": "https://localhost:8080/"
        },
        "id": "yNxHnl9JLxOS",
        "outputId": "d50d19c0-f342-4946-e7da-e970f034b478"
      },
      "execution_count": 212,
      "outputs": [
        {
          "output_type": "execute_result",
          "data": {
            "text/plain": [
              "0.793250427248574"
            ]
          },
          "metadata": {},
          "execution_count": 212
        }
      ]
    },
    {
      "cell_type": "code",
      "source": [
        "plt.scatter(y_test, test_preds)"
      ],
      "metadata": {
        "colab": {
          "base_uri": "https://localhost:8080/",
          "height": 282
        },
        "id": "qxLR4ZWpLzwJ",
        "outputId": "0fbcc987-ee99-4e64-ce64-2279c05564c0"
      },
      "execution_count": 213,
      "outputs": [
        {
          "output_type": "execute_result",
          "data": {
            "text/plain": [
              "<matplotlib.collections.PathCollection at 0x7f8c075bc520>"
            ]
          },
          "metadata": {},
          "execution_count": 213
        },
        {
          "output_type": "display_data",
          "data": {
            "text/plain": [
              "<Figure size 432x288 with 1 Axes>"
            ],
            "image/png": "[encoded data removed]"
          },
          "metadata": {
            "needs_background": "light"
          }
        }
      ]
    },
    {
      "cell_type": "code",
      "source": [
        "importances = reg_optimal_model.feature_importances_"
      ],
      "metadata": {
        "id": "XoCp8ARbL76J"
      },
      "execution_count": 214,
      "outputs": []
    },
    {
      "cell_type": "code",
      "source": [
        "importance_dict = {'feature': list(X_train.columns),\n",
        "                   'Feature Importance': importances}"
      ],
      "metadata": {
        "id": "k2RUM0MnMF0l"
      },
      "execution_count": 215,
      "outputs": []
    },
    {
      "cell_type": "code",
      "source": [
        "importance_df = pd.DataFrame(importance_dict)"
      ],
      "metadata": {
        "id": "AHVFHqyOMVr-"
      },
      "execution_count": 216,
      "outputs": []
    },
    {
      "cell_type": "code",
      "source": [
        "important_features=importance_df.sort_values(by=['Feature Importance'],ascending=False).head(20)"
      ],
      "metadata": {
        "id": "M46H5a0iMb0a"
      },
      "execution_count": 217,
      "outputs": []
    },
    {
      "cell_type": "code",
      "source": [
        "imp_features = important_features['feature'].tolist()"
      ],
      "metadata": {
        "id": "Cn5GAPyQMseH"
      },
      "execution_count": 218,
      "outputs": []
    },
    {
      "cell_type": "code",
      "source": [
        "plt.figure(figsize=(10,5))\n",
        "sns.barplot(y = important_features['feature'], x = important_features['Feature Importance'] )\n",
        "plt.title('10 Most Important features')\n",
        "plt.show()"
      ],
      "metadata": {
        "colab": {
          "base_uri": "https://localhost:8080/",
          "height": 350
        },
        "id": "aVAf22Z3M3zQ",
        "outputId": "dfb1395a-db72-4fc3-9b56-77d28cffdc07"
      },
      "execution_count": 219,
      "outputs": [
        {
          "output_type": "display_data",
          "data": {
            "text/plain": [
              "<Figure size 720x360 with 1 Axes>"
            ],
            "image/png": "[encoded data removed]"
          },
          "metadata": {
            "needs_background": "light"
          }
        }
      ]
    },
    {
      "cell_type": "markdown",
      "source": [
        "# Evaluating the model"
      ],
      "metadata": {
        "id": "AWaW4xCeODgE"
      }
    },
    {
      "cell_type": "code",
      "source": [
        "print('Mean Squared Error (MSE): ',mean_squared_error(y_test, test_preds))\n",
        "print('Mean Absolute Error (MAE): ', mean_absolute_error(y_test, test_preds))\n",
        "print('Root Mean Squared Error (MSE) ', np.sqrt(mean_absolute_error(y_test, test_preds)))\n",
        "print('R2 Score: ', r2_test)\n",
        "print('Adjusted R2 SCore: ', adj_r2)"
      ],
      "metadata": {
        "colab": {
          "base_uri": "https://localhost:8080/"
        },
        "id": "hXdaovvyOG5X",
        "outputId": "b266a17e-ec39-46e1-f7c0-aca856aea2e8"
      },
      "execution_count": 220,
      "outputs": [
        {
          "output_type": "stream",
          "name": "stdout",
          "text": [
            "Mean Squared Error (MSE):  15.185099168783946\n",
            "Mean Absolute Error (MAE):  2.506649007462507\n",
            "Root Mean Squared Error (MSE)  1.583240034695468\n",
            "R2 Score:  0.797664294886159\n",
            "Adjusted R2 SCore:  0.793250427248574\n"
          ]
        }
      ]
    },
    {
      "cell_type": "code",
      "source": [
        "# Function to make a dataframe of evaluation matrics for a model\n",
        "\n",
        "\n",
        "# This function takes arugment as model name and training and testing data and a datafram and returns a dataframe after appending the entries of evaluation matrics for a model\n",
        "\n",
        "def make_dataFrame(model, df,Model_name,X_train=X_train,X_test=X_test,y_train=y_train,y_test=y_train):\n",
        "  \n",
        "  df = pd.DataFrame(columns=['Model Name','Train Score','test_score','R2 Score','Adjusted R2 Score','MSE','MAE'])\n",
        "  model_train_preds = model.predict(X_train)\n",
        "  model_test_preds = model.predict(X_test)\n",
        "\n",
        "\n",
        "\n",
        "  train_score = model.score(y_train,model_train_preds)\n",
        "  test_score = model.score(y_test,model_test_preds)\n",
        "  r2 = r2_score(y_test,model_trainProb_preds)\n",
        "  adjusted_r2 = 1-(1-r2_score(y_test, model_test_preds))*((X_test.shape[0]-1)/(X_test.shape[0]-X_test.shape[1]-1))\n",
        "  mse =  mean_squared_error(y_test, model_train_preds)\n",
        "  mae = mean_absolute_error(y_test, model_train_preds)\n",
        "  metrix_dict = {'model_name':Model_name,\n",
        "                 'Train Score':train_score,\n",
        "                 'Test Score':test_score,\n",
        "                 'R2 Score':r2, \n",
        "                 'Adjusted R2 Score':adjusted_r2,\n",
        "                 'MSE':mse,\n",
        "                 'MAE':mae,\n",
        "               }\n",
        "  df = df.append(metrix_dict,ignore_index = True)\n",
        "  return df"
      ],
      "metadata": {
        "id": "TpkEsVFMO_1Y"
      },
      "execution_count": 221,
      "outputs": []
    },
    {
      "cell_type": "code",
      "source": [
        "# Create a dictionary of instances of all models with model name as values\n",
        "models = {\n",
        "    model: \"Linear Regression\",\n",
        "    lasso: \"Lasso Regression\",\n",
        "    ridge_regressor: \"Ridge Regression\",\n",
        "    rf_optimal_model: \"Random Forest Regressor\"\n",
        "}\n"
      ],
      "metadata": {
        "id": "LBiahRhQPRLt"
      },
      "execution_count": 222,
      "outputs": []
    },
    {
      "cell_type": "markdown",
      "source": [
        "# Conclusion\n",
        "\n",
        "We used diffent type of regression algorithms to train our model like, Linear Regression, Regularized linear regression (Ridge and Lasso), GBM,Random Forest Regressor, XGboost regresssor. and Also we tuned the parameters of Random forest regressor and XGboost regressor and also found the important features for training the model. Out of them XGboost with tuned hyperparameters gave the best result."
      ],
      "metadata": {
        "id": "z0rEUq-uQYwZ"
      }
    }
  ]
}